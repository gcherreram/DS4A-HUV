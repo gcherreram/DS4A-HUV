{
 "cells": [
  {
   "cell_type": "code",
   "execution_count": 1,
   "metadata": {
    "executionInfo": {
     "elapsed": 1085,
     "status": "ok",
     "timestamp": 1654315833042,
     "user": {
      "displayName": "Karla Margarita Munoz Rico",
      "userId": "00608333476889534688"
     },
     "user_tz": 300
    },
    "id": "YX8JSqCqQINR"
   },
   "outputs": [],
   "source": [
    "#Import Libraries\n",
    "import os\n",
    "import pandas as pd\n",
    "import numpy as np\n",
    "import matplotlib.pyplot as plt\n",
    "import seaborn as sns\n",
    "sns.set_style(style = 'whitegrid')"
   ]
  },
  {
   "cell_type": "code",
   "execution_count": 2,
   "metadata": {
    "executionInfo": {
     "elapsed": 336,
     "status": "ok",
     "timestamp": 1654315834867,
     "user": {
      "displayName": "Karla Margarita Munoz Rico",
      "userId": "00608333476889534688"
     },
     "user_tz": 300
    },
    "id": "50OWeMQ2nueg"
   },
   "outputs": [],
   "source": [
    "# This is to supress the warning messages (if any) generated in our code\n",
    "import warnings\n",
    "warnings.filterwarnings('ignore')"
   ]
  },
  {
   "cell_type": "markdown",
   "metadata": {},
   "source": [
    "## PRUEBAS "
   ]
  },
  {
   "cell_type": "markdown",
   "metadata": {},
   "source": [
    "PRUEBAS ANGELA"
   ]
  },
  {
   "cell_type": "markdown",
   "metadata": {
    "id": "nqjA4p17AArR"
   },
   "source": [
    "# LOAD FILES"
   ]
  },
  {
   "cell_type": "code",
   "execution_count": 3,
   "metadata": {
    "executionInfo": {
     "elapsed": 7328,
     "status": "ok",
     "timestamp": 1654315869204,
     "user": {
      "displayName": "Karla Margarita Munoz Rico",
      "userId": "00608333476889534688"
     },
     "user_tz": 300
    },
    "id": "PDfuU_3r_s8a"
   },
   "outputs": [],
   "source": [
    "dfResLab = pd.read_csv(\"data/RESULTADOS_LAB.csv\", on_bad_lines='skip', delimiter =\";\",low_memory=False)\n",
    "dfNotObl = pd.read_csv(\"data/EVENTOS_NOTIFICACION_OBLIGATORIA.csv\",on_bad_lines='skip', delimiter =\";\",low_memory=False)\n",
    "dfRuaf = pd.read_csv(\"data/RUAF_ND.csv\",on_bad_lines='skip', delimiter =\";\",low_memory=False)\n",
    "#df4 = pd.read_csv(\"Data/COSTOS_DE_ MEDICAMENTOS_ E_ INSUMOS.csv\", on_bad_lines='skip', delimiter =\";\",low_memory=False)"
   ]
  },
  {
   "cell_type": "code",
   "execution_count": 4,
   "metadata": {
    "colab": {
     "base_uri": "https://localhost:8080/"
    },
    "executionInfo": {
     "elapsed": 187,
     "status": "ok",
     "timestamp": 1654315870416,
     "user": {
      "displayName": "Karla Margarita Munoz Rico",
      "userId": "00608333476889534688"
     },
     "user_tz": 300
    },
    "id": "6lO44SZPn8Ec",
    "outputId": "a8aaabcb-7502-4125-90db-1c34c25e0a07"
   },
   "outputs": [
    {
     "data": {
      "text/plain": [
       "(546443, 17)"
      ]
     },
     "execution_count": 4,
     "metadata": {},
     "output_type": "execute_result"
    }
   ],
   "source": [
    "#dimensions of the dataset Resultados laboratorio\n",
    "nrowlab, ncollab = dfResLab.shape \n",
    "nrowlab, ncollab"
   ]
  },
  {
   "cell_type": "code",
   "execution_count": 5,
   "metadata": {
    "colab": {
     "base_uri": "https://localhost:8080/"
    },
    "executionInfo": {
     "elapsed": 196,
     "status": "ok",
     "timestamp": 1654315872532,
     "user": {
      "displayName": "Karla Margarita Munoz Rico",
      "userId": "00608333476889534688"
     },
     "user_tz": 300
    },
    "id": "MvXTyQ9jn7_b",
    "outputId": "8f6523a9-0d0e-450b-f4bb-b80a1e0bcde1"
   },
   "outputs": [
    {
     "data": {
      "text/plain": [
       "(32430, 72)"
      ]
     },
     "execution_count": 5,
     "metadata": {},
     "output_type": "execute_result"
    }
   ],
   "source": [
    "#dimensions of the dataset Notificaciones\n",
    "nrowNot, ncolNot = dfNotObl.shape\n",
    "nrowNot, ncolNot"
   ]
  },
  {
   "cell_type": "code",
   "execution_count": 6,
   "metadata": {
    "colab": {
     "base_uri": "https://localhost:8080/"
    },
    "executionInfo": {
     "elapsed": 5,
     "status": "ok",
     "timestamp": 1654315873693,
     "user": {
      "displayName": "Karla Margarita Munoz Rico",
      "userId": "00608333476889534688"
     },
     "user_tz": 300
    },
    "id": "Xve4Rl3Mn70c",
    "outputId": "d86250d7-d6b3-4219-c006-e2f04be0c976"
   },
   "outputs": [
    {
     "data": {
      "text/plain": [
       "(9553, 82)"
      ]
     },
     "execution_count": 6,
     "metadata": {},
     "output_type": "execute_result"
    }
   ],
   "source": [
    "#dimensions of the dataset RUAF\n",
    "nrowRuaf, ncolRuaf = dfRuaf.shape\n",
    "nrowRuaf, ncolRuaf"
   ]
  },
  {
   "cell_type": "code",
   "execution_count": 7,
   "metadata": {
    "executionInfo": {
     "elapsed": 1396,
     "status": "ok",
     "timestamp": 1654315878064,
     "user": {
      "displayName": "Karla Margarita Munoz Rico",
      "userId": "00608333476889534688"
     },
     "user_tz": 300
    },
    "id": "t8rRGDc5n_-s"
   },
   "outputs": [],
   "source": [
    "# Drop duplicates rows - if any\n",
    "dfResLab = dfResLab.drop_duplicates()\n",
    "dfNotObl = dfNotObl.drop_duplicates()\n",
    "dfRuaf = dfRuaf.drop_duplicates()"
   ]
  },
  {
   "cell_type": "markdown",
   "metadata": {
    "id": "xVVppGphNd7I"
   },
   "source": [
    "The dimensions of the DataFrame calculated above indicate the number of record and the number of variables in each dataset"
   ]
  },
  {
   "cell_type": "code",
   "execution_count": 8,
   "metadata": {
    "executionInfo": {
     "elapsed": 204,
     "status": "ok",
     "timestamp": 1654315883232,
     "user": {
      "displayName": "Karla Margarita Munoz Rico",
      "userId": "00608333476889534688"
     },
     "user_tz": 300
    },
    "id": "QQr1rPKVsGWU"
   },
   "outputs": [],
   "source": [
    "# Column identification standardization to facilitate joining\n",
    "dfNotObl.rename(columns = {'IDENTIFICACIÓN':'IDENTIFICACION'}, inplace = True)"
   ]
  },
  {
   "cell_type": "markdown",
   "metadata": {
    "id": "gO-RZeW0kNq_"
   },
   "source": [
    "#EDA LAB RESULTS"
   ]
  },
  {
   "cell_type": "code",
   "execution_count": 9,
   "metadata": {
    "colab": {
     "base_uri": "https://localhost:8080/"
    },
    "executionInfo": {
     "elapsed": 18,
     "status": "ok",
     "timestamp": 1654267968821,
     "user": {
      "displayName": "Angela Olarte",
      "userId": "04022086783241571381"
     },
     "user_tz": 300
    },
    "id": "TCykFoA3oUub",
    "outputId": "f4d500bb-14e1-4cda-b41c-9b03ef5d4cc8"
   },
   "outputs": [
    {
     "data": {
      "text/plain": [
       "(546443, 17)"
      ]
     },
     "execution_count": 9,
     "metadata": {},
     "output_type": "execute_result"
    }
   ],
   "source": [
    "#dimensions of the dataset Resultados laboratorio\n",
    "nrowlab, ncollab = dfResLab.shape \n",
    "nrowlab, ncollab"
   ]
  },
  {
   "cell_type": "code",
   "execution_count": 10,
   "metadata": {
    "colab": {
     "base_uri": "https://localhost:8080/"
    },
    "executionInfo": {
     "elapsed": 13,
     "status": "ok",
     "timestamp": 1654267968822,
     "user": {
      "displayName": "Angela Olarte",
      "userId": "04022086783241571381"
     },
     "user_tz": 300
    },
    "id": "Gi_JY4AAoUrL",
    "outputId": "058c8701-9ced-4727-9073-f21bc43b74fd"
   },
   "outputs": [
    {
     "data": {
      "text/html": [
       "<div>\n",
       "<style scoped>\n",
       "    .dataframe tbody tr th:only-of-type {\n",
       "        vertical-align: middle;\n",
       "    }\n",
       "\n",
       "    .dataframe tbody tr th {\n",
       "        vertical-align: top;\n",
       "    }\n",
       "\n",
       "    .dataframe thead th {\n",
       "        text-align: right;\n",
       "    }\n",
       "</style>\n",
       "<table border=\"1\" class=\"dataframe\">\n",
       "  <thead>\n",
       "    <tr style=\"text-align: right;\">\n",
       "      <th></th>\n",
       "      <th>FECHA DE TOMA DE MUESTRA</th>\n",
       "      <th>IDENTIFICACION</th>\n",
       "      <th>CODIGO DE LA MUESTRA</th>\n",
       "      <th>FECHA DE NACIMIENTO</th>\n",
       "      <th>GENERO</th>\n",
       "      <th>TIPO DE MUESTRA</th>\n",
       "      <th>SALA</th>\n",
       "      <th>MICROORGANISMO</th>\n",
       "      <th>ANTIBIOTICO</th>\n",
       "      <th>SENSIBLE / RESISTENTE / INTERMEDIO</th>\n",
       "      <th>LA CONCENTRACION MINIMA O MAX</th>\n",
       "      <th>HOSPILTAL</th>\n",
       "      <th>NUMERO DE AISLAMIENTO</th>\n",
       "      <th>ESBL (+ es blee )</th>\n",
       "      <th>THM</th>\n",
       "      <th>APB (boronico)</th>\n",
       "      <th>EDTA (si son positivas o negativas)</th>\n",
       "    </tr>\n",
       "  </thead>\n",
       "  <tbody>\n",
       "    <tr>\n",
       "      <th>0</th>\n",
       "      <td>10/12/2013 11:48:00</td>\n",
       "      <td>2232117</td>\n",
       "      <td>13-11366-S</td>\n",
       "      <td>SIN DATO</td>\n",
       "      <td>SIN ESPECIFICAR</td>\n",
       "      <td>HEMOCULTIVO PUNCION PERIFERICA</td>\n",
       "      <td>RECIEN NACIDOS (CIRENA)</td>\n",
       "      <td>Escherichia coli</td>\n",
       "      <td>Amikacina</td>\n",
       "      <td>S</td>\n",
       "      <td>&lt;=8</td>\n",
       "      <td>HOSPITAL UNIVERSITARIO DEL VALLE</td>\n",
       "      <td>1</td>\n",
       "      <td>SIN ESPECIFICAR</td>\n",
       "      <td>SIN ESPECIFICAR</td>\n",
       "      <td>SIN ESPECIFICAR</td>\n",
       "      <td>SIN ESPECIFICAR</td>\n",
       "    </tr>\n",
       "    <tr>\n",
       "      <th>1</th>\n",
       "      <td>10/12/2013 11:48:00</td>\n",
       "      <td>2232117</td>\n",
       "      <td>13-11366-S</td>\n",
       "      <td>SIN DATO</td>\n",
       "      <td>SIN ESPECIFICAR</td>\n",
       "      <td>HEMOCULTIVO PUNCION PERIFERICA</td>\n",
       "      <td>RECIEN NACIDOS (CIRENA)</td>\n",
       "      <td>Escherichia coli</td>\n",
       "      <td>Amoxicilina-Clavulanato</td>\n",
       "      <td>S</td>\n",
       "      <td>8/4</td>\n",
       "      <td>HOSPITAL UNIVERSITARIO DEL VALLE</td>\n",
       "      <td>1</td>\n",
       "      <td>SIN ESPECIFICAR</td>\n",
       "      <td>SIN ESPECIFICAR</td>\n",
       "      <td>SIN ESPECIFICAR</td>\n",
       "      <td>SIN ESPECIFICAR</td>\n",
       "    </tr>\n",
       "    <tr>\n",
       "      <th>2</th>\n",
       "      <td>10/12/2013 11:48:00</td>\n",
       "      <td>2232117</td>\n",
       "      <td>13-11366-S</td>\n",
       "      <td>SIN DATO</td>\n",
       "      <td>SIN ESPECIFICAR</td>\n",
       "      <td>HEMOCULTIVO PUNCION PERIFERICA</td>\n",
       "      <td>RECIEN NACIDOS (CIRENA)</td>\n",
       "      <td>Escherichia coli</td>\n",
       "      <td>Ampicilina</td>\n",
       "      <td>R</td>\n",
       "      <td>&gt;16</td>\n",
       "      <td>HOSPITAL UNIVERSITARIO DEL VALLE</td>\n",
       "      <td>1</td>\n",
       "      <td>SIN ESPECIFICAR</td>\n",
       "      <td>SIN ESPECIFICAR</td>\n",
       "      <td>SIN ESPECIFICAR</td>\n",
       "      <td>SIN ESPECIFICAR</td>\n",
       "    </tr>\n",
       "  </tbody>\n",
       "</table>\n",
       "</div>"
      ],
      "text/plain": [
       "  FECHA DE TOMA DE MUESTRA IDENTIFICACION CODIGO DE LA MUESTRA  \\\n",
       "0      10/12/2013 11:48:00        2232117           13-11366-S   \n",
       "1      10/12/2013 11:48:00        2232117           13-11366-S   \n",
       "2      10/12/2013 11:48:00        2232117           13-11366-S   \n",
       "\n",
       "  FECHA DE NACIMIENTO           GENERO                 TIPO DE MUESTRA  \\\n",
       "0            SIN DATO  SIN ESPECIFICAR  HEMOCULTIVO PUNCION PERIFERICA   \n",
       "1            SIN DATO  SIN ESPECIFICAR  HEMOCULTIVO PUNCION PERIFERICA   \n",
       "2            SIN DATO  SIN ESPECIFICAR  HEMOCULTIVO PUNCION PERIFERICA   \n",
       "\n",
       "                      SALA    MICROORGANISMO              ANTIBIOTICO  \\\n",
       "0  RECIEN NACIDOS (CIRENA)  Escherichia coli                Amikacina   \n",
       "1  RECIEN NACIDOS (CIRENA)  Escherichia coli  Amoxicilina-Clavulanato   \n",
       "2  RECIEN NACIDOS (CIRENA)  Escherichia coli               Ampicilina   \n",
       "\n",
       "  SENSIBLE / RESISTENTE / INTERMEDIO LA CONCENTRACION MINIMA O MAX  \\\n",
       "0                                  S                           <=8   \n",
       "1                                  S                           8/4   \n",
       "2                                  R                           >16   \n",
       "\n",
       "                          HOSPILTAL  NUMERO DE AISLAMIENTO ESBL (+ es blee )  \\\n",
       "0  HOSPITAL UNIVERSITARIO DEL VALLE                      1   SIN ESPECIFICAR   \n",
       "1  HOSPITAL UNIVERSITARIO DEL VALLE                      1   SIN ESPECIFICAR   \n",
       "2  HOSPITAL UNIVERSITARIO DEL VALLE                      1   SIN ESPECIFICAR   \n",
       "\n",
       "               THM   APB (boronico) EDTA (si son positivas o negativas)  \n",
       "0  SIN ESPECIFICAR  SIN ESPECIFICAR                     SIN ESPECIFICAR  \n",
       "1  SIN ESPECIFICAR  SIN ESPECIFICAR                     SIN ESPECIFICAR  \n",
       "2  SIN ESPECIFICAR  SIN ESPECIFICAR                     SIN ESPECIFICAR  "
      ]
     },
     "execution_count": 10,
     "metadata": {},
     "output_type": "execute_result"
    }
   ],
   "source": [
    "dfResLab.head(3)"
   ]
  },
  {
   "cell_type": "code",
   "execution_count": 11,
   "metadata": {
    "id": "8z1f5rgnoUoL"
   },
   "outputs": [],
   "source": [
    "dfResLab['FECHA DE TOMA DE MUESTRA'] = dfResLab['FECHA DE TOMA DE MUESTRA'].astype(str).str[0:10]\n",
    "dfResLab['FECHA DE TOMA DE MUESTRA'] = pd.to_datetime(dfResLab['FECHA DE TOMA DE MUESTRA'], dayfirst=True)"
   ]
  },
  {
   "cell_type": "code",
   "execution_count": 12,
   "metadata": {
    "colab": {
     "base_uri": "https://localhost:8080/"
    },
    "executionInfo": {
     "elapsed": 245,
     "status": "ok",
     "timestamp": 1654267969682,
     "user": {
      "displayName": "Angela Olarte",
      "userId": "04022086783241571381"
     },
     "user_tz": 300
    },
    "id": "1SKscsxfoUlN",
    "outputId": "4751cbfe-e125-4b17-9d24-1fa364f84dc4"
   },
   "outputs": [
    {
     "name": "stdout",
     "output_type": "stream",
     "text": [
      "<class 'pandas.core.frame.DataFrame'>\n",
      "Int64Index: 546443 entries, 0 to 546442\n",
      "Data columns (total 17 columns):\n",
      " #   Column                               Non-Null Count   Dtype         \n",
      "---  ------                               --------------   -----         \n",
      " 0   FECHA DE TOMA DE MUESTRA             546443 non-null  datetime64[ns]\n",
      " 1   IDENTIFICACION                       546443 non-null  object        \n",
      " 2   CODIGO DE LA MUESTRA                 546443 non-null  object        \n",
      " 3   FECHA DE NACIMIENTO                  546443 non-null  object        \n",
      " 4   GENERO                               546443 non-null  object        \n",
      " 5   TIPO DE MUESTRA                      546443 non-null  object        \n",
      " 6   SALA                                 546443 non-null  object        \n",
      " 7   MICROORGANISMO                       546443 non-null  object        \n",
      " 8   ANTIBIOTICO                          546443 non-null  object        \n",
      " 9   SENSIBLE / RESISTENTE / INTERMEDIO   546443 non-null  object        \n",
      " 10  LA CONCENTRACION MINIMA O MAX        546443 non-null  object        \n",
      " 11  HOSPILTAL                            521623 non-null  object        \n",
      " 12  NUMERO DE AISLAMIENTO                546443 non-null  int64         \n",
      " 13  ESBL (+ es blee )                    546443 non-null  object        \n",
      " 14  THM                                  546443 non-null  object        \n",
      " 15  APB (boronico)                       546443 non-null  object        \n",
      " 16  EDTA (si son positivas o negativas)  546443 non-null  object        \n",
      "dtypes: datetime64[ns](1), int64(1), object(15)\n",
      "memory usage: 75.0+ MB\n"
     ]
    }
   ],
   "source": [
    "# dfResLab Info\n",
    "dfResLab.info()"
   ]
  },
  {
   "cell_type": "markdown",
   "metadata": {
    "id": "6YFTe_j5tksS"
   },
   "source": [
    "This dataset has 546443 records(rows) and 13 variables (columns). The dataset is comprised mainly of categorical values"
   ]
  },
  {
   "cell_type": "markdown",
   "metadata": {
    "id": "s6_haVKbobkl"
   },
   "source": [
    "## HOSPILTAL VARIABLE"
   ]
  },
  {
   "cell_type": "code",
   "execution_count": 13,
   "metadata": {
    "colab": {
     "base_uri": "https://localhost:8080/"
    },
    "executionInfo": {
     "elapsed": 31,
     "status": "ok",
     "timestamp": 1654267969683,
     "user": {
      "displayName": "Angela Olarte",
      "userId": "04022086783241571381"
     },
     "user_tz": 300
    },
    "id": "EHtEr7uLoUik",
    "outputId": "390b46c6-1916-4918-eff8-1796aa56febf"
   },
   "outputs": [
    {
     "data": {
      "text/plain": [
       "array(['HOSPITAL UNIVERSITARIO DEL VALLE', 'SIN ESPECIFICAR',\n",
       "       'DEPARTAMENTO DEL VAL', 'EMSSANAR E.S.S', 'CAPRECOM NACIONAL',\n",
       "       'ASMET SALUD', nan, 'ASOC. M. BARRIOS U.', 'COOSALUD EPS-S',\n",
       "       'SALUDVIDA EPS', 'EPS COMFAMILIAR DE N', 'SECRETARIA DE SALUD',\n",
       "       'SEC DPTAL SALUD DEL', 'QBE SEGUROS S.A', 'CONSORCIO SAYP 2011',\n",
       "       'SECRET. DE SALUD DPT', 'CAPRECOM', 'S.O.S. SERV.OCCID.DE',\n",
       "       'ASOCIACION INDIGENA', 'COOSALUD E.S.S', 'SALUD COLMENA EPS',\n",
       "       'NUEVA EPS', 'E.P.S. INDIGENA MALL', 'SECRET.SALUD DPTAL P',\n",
       "       'SEGUROS DEL ESTADO', 'SALUDVIDA', 'A.R.S.-COMFAMILIAR H',\n",
       "       'CAFESALUD EPS', 'CAFESALUD SISBEN', 'COMFAMILIAR NARINO',\n",
       "       'CAJA COMPENSACION FA', 'CAPITAL SALUD EPS-S', 'CAJACOPI',\n",
       "       'P.N . DIRECCION DE S', 'SALUDCOOP', 'COSMITET LTDA',\n",
       "       'COMFENALCO VALLE', 'CAJA COMP FLIAR CHOC', 'COOP.DE SALUD SEVILL',\n",
       "       'CAJA COMPENSACION FL', 'CAJA PREV. SOCIAL DE',\n",
       "       'SECRET.SALUD DPTAL D', 'SALUD TOTAL EPS', 'E.P.S. CONVIDA',\n",
       "       'SALUD TOTAL A.R.S.', 'POSITIVA', 'CAPRECOM  VALLE  EPS',\n",
       "       'E.P.S FAMISANAR LTDA', 'COOMEVA E.P.S.', 'FONDO FINANCIERO DIS',\n",
       "       'INST.DPTL. SALUD NAR', 'SECRET.SALUD DPTAL A',\n",
       "       'CONSORCIO FIDUFOSYGA', 'ALCALDIA SAN PEDRO V', 'CRUZ BLANCA',\n",
       "       'SECRET.DE SALUD CUND', 'SEC. SALUD DE RISARA',\n",
       "       'CAJA COMP. FLIAR CHO', 'COMPARTA A.R.S.', 'COMFACOR _ CAJA COMP',\n",
       "       'SECRET.DE SALUD DPTA', 'CAPRECOM ARS SECCION', 'MUTUAL SER ESS',\n",
       "       'ALCALDIA PUERTO TEJA', 'COMFAMA A.R.S.', 'A.R.S. COLSUBSIDIO',\n",
       "       'ASMET SALUD PARCIAL', 'MEDISANITAS S.A.', 'SECRETARIA SALUD DEP',\n",
       "       'INPEC-DIVISION SALUD', 'ALIANSALUD E.P.S.',\n",
       "       'ALCALDIA MPAL DE BUE', 'LA EQUIDAD SEGUROS D',\n",
       "       'DIR. DE SANIDAD. H M', 'COMPANIA EUROPEA DE',\n",
       "       'INSTITUTO DEPTAL DE', 'COOSALUD VALLE E.S.S',\n",
       "       'ANDIASISTENCIA S.A.', 'ALIANZA MEDELLIN ANT', 'COOMEVA EPS',\n",
       "       'COMFACUNDI', 'HOSPITAL UNIVERSIT.', 'A.P.C. COHOSVAL'],\n",
       "      dtype=object)"
      ]
     },
     "execution_count": 13,
     "metadata": {},
     "output_type": "execute_result"
    }
   ],
   "source": [
    "# HOSPILTAL list\n",
    "dfResLab['HOSPILTAL'].unique()"
   ]
  },
  {
   "cell_type": "code",
   "execution_count": 14,
   "metadata": {
    "colab": {
     "base_uri": "https://localhost:8080/"
    },
    "executionInfo": {
     "elapsed": 22,
     "status": "ok",
     "timestamp": 1654267969684,
     "user": {
      "displayName": "Angela Olarte",
      "userId": "04022086783241571381"
     },
     "user_tz": 300
    },
    "id": "8aKqqm5hoUfz",
    "outputId": "751276a4-d339-4abf-cc00-224c9b096633"
   },
   "outputs": [
    {
     "data": {
      "text/plain": [
       "83"
      ]
     },
     "execution_count": 14,
     "metadata": {},
     "output_type": "execute_result"
    }
   ],
   "source": [
    "# number of categories for HOSPILTAL\n",
    "len(dfResLab['HOSPILTAL'].unique())"
   ]
  },
  {
   "cell_type": "code",
   "execution_count": 15,
   "metadata": {
    "colab": {
     "base_uri": "https://localhost:8080/"
    },
    "executionInfo": {
     "elapsed": 16,
     "status": "ok",
     "timestamp": 1654267969684,
     "user": {
      "displayName": "Angela Olarte",
      "userId": "04022086783241571381"
     },
     "user_tz": 300
    },
    "id": "vJnIJG3Uoh3m",
    "outputId": "3e5b10c0-3eac-473d-97f0-f113d199a9af"
   },
   "outputs": [
    {
     "data": {
      "text/plain": [
       "24820"
      ]
     },
     "execution_count": 15,
     "metadata": {},
     "output_type": "execute_result"
    }
   ],
   "source": [
    "# Number of Missing Values\n",
    "dfResLab['HOSPILTAL'].isnull().sum()"
   ]
  },
  {
   "cell_type": "markdown",
   "metadata": {
    "id": "m6MmlW_OolbR"
   },
   "source": [
    "## IDENTIFICATION VARIABLE"
   ]
  },
  {
   "cell_type": "code",
   "execution_count": 16,
   "metadata": {
    "colab": {
     "base_uri": "https://localhost:8080/"
    },
    "executionInfo": {
     "elapsed": 395,
     "status": "ok",
     "timestamp": 1654267970070,
     "user": {
      "displayName": "Angela Olarte",
      "userId": "04022086783241571381"
     },
     "user_tz": 300
    },
    "id": "ZXqp3DWioh1P",
    "outputId": "2091ebcc-e82a-43b6-aa79-9d838ea9dbaa"
   },
   "outputs": [
    {
     "data": {
      "text/plain": [
       "array(['2232117', '2225907', '2225407', ..., '30744000', '24999535',\n",
       "       '1239688398'], dtype=object)"
      ]
     },
     "execution_count": 16,
     "metadata": {},
     "output_type": "execute_result"
    }
   ],
   "source": [
    "# Identification list\n",
    "dfResLab['IDENTIFICACION'].unique()"
   ]
  },
  {
   "cell_type": "code",
   "execution_count": 17,
   "metadata": {
    "colab": {
     "base_uri": "https://localhost:8080/"
    },
    "executionInfo": {
     "elapsed": 54,
     "status": "ok",
     "timestamp": 1654267970072,
     "user": {
      "displayName": "Angela Olarte",
      "userId": "04022086783241571381"
     },
     "user_tz": 300
    },
    "id": "mAizW0uzohyr",
    "outputId": "b5256136-fb44-41b7-d3dc-fe177787d3ea"
   },
   "outputs": [
    {
     "data": {
      "text/plain": [
       "16095"
      ]
     },
     "execution_count": 17,
     "metadata": {},
     "output_type": "execute_result"
    }
   ],
   "source": [
    "# number of categories for Identification\n",
    "len(dfResLab['IDENTIFICACION'].unique())"
   ]
  },
  {
   "cell_type": "code",
   "execution_count": 18,
   "metadata": {
    "colab": {
     "base_uri": "https://localhost:8080/"
    },
    "executionInfo": {
     "elapsed": 45,
     "status": "ok",
     "timestamp": 1654267970072,
     "user": {
      "displayName": "Angela Olarte",
      "userId": "04022086783241571381"
     },
     "user_tz": 300
    },
    "id": "SseAEQMDyxFz",
    "outputId": "b0a324fa-cac8-4df6-e565-8667cbe55dd4"
   },
   "outputs": [
    {
     "data": {
      "text/plain": [
       "1114875048    562\n",
       "14468615      518\n",
       "66938118      477\n",
       "1109567757    459\n",
       "1130609288    447\n",
       "             ... \n",
       "38865407        1\n",
       "31907283        1\n",
       "1144069466      1\n",
       "165435371       1\n",
       "0001016098      1\n",
       "Name: IDENTIFICACION, Length: 16095, dtype: int64"
      ]
     },
     "execution_count": 18,
     "metadata": {},
     "output_type": "execute_result"
    }
   ],
   "source": [
    " dfResLab.IDENTIFICACION.value_counts() "
   ]
  },
  {
   "cell_type": "code",
   "execution_count": 19,
   "metadata": {
    "colab": {
     "base_uri": "https://localhost:8080/"
    },
    "executionInfo": {
     "elapsed": 37,
     "status": "ok",
     "timestamp": 1654267970073,
     "user": {
      "displayName": "Angela Olarte",
      "userId": "04022086783241571381"
     },
     "user_tz": 300
    },
    "id": "u4-ccFnLohwD",
    "outputId": "88143193-c7be-4c5c-e7ea-005cb0ec0e11"
   },
   "outputs": [
    {
     "data": {
      "text/plain": [
       "0"
      ]
     },
     "execution_count": 19,
     "metadata": {},
     "output_type": "execute_result"
    }
   ],
   "source": [
    "# Number of Missing Values\n",
    "dfResLab['IDENTIFICACION'].isnull().sum()"
   ]
  },
  {
   "cell_type": "markdown",
   "metadata": {
    "id": "srQyEV3TopxC"
   },
   "source": [
    "The main key of the DataFrame dfResLab (Lab Results) in patient ID. The exploration above indicates that each patient may have several test results and each test has 21 associated records, one per antibiotic tested. The dataset contains 546443 belonging to 16095 unique patients."
   ]
  },
  {
   "cell_type": "markdown",
   "metadata": {
    "id": "_X-fDUSeotvj"
   },
   "source": [
    "## MICROORGANISM VARIABLE"
   ]
  },
  {
   "cell_type": "code",
   "execution_count": 20,
   "metadata": {
    "colab": {
     "base_uri": "https://localhost:8080/"
    },
    "executionInfo": {
     "elapsed": 31,
     "status": "ok",
     "timestamp": 1654267970074,
     "user": {
      "displayName": "Angela Olarte",
      "userId": "04022086783241571381"
     },
     "user_tz": 300
    },
    "id": "1f3UtuJwohtd",
    "outputId": "1bad3d7c-1b5a-4450-8fad-b2420ccd873f"
   },
   "outputs": [
    {
     "data": {
      "text/plain": [
       "array(['Escherichia coli', 'Staphylococcus epidermidis',\n",
       "       'Pseudomonas aeruginosa', 'Klebsiella oxytoca',\n",
       "       'Pseudomonas putida', 'Staphylococcus aureus',\n",
       "       'Enterococcus faecalis', 'Pseudomonas fluorescens',\n",
       "       'Enterobacter cloacae',\n",
       "       'Acinetobacter baumannii/calcoaceticus complejo',\n",
       "       'Acinetobacter baumannii', 'Candida albicans',\n",
       "       'Citrobacter freundii', 'Klebsiella pneumoniae',\n",
       "       'Citrobacter koseri', 'Stenotrophomonas maltophilia',\n",
       "       'Staphylococcus hominis', 'Staphylococcus coagulasa-negativo',\n",
       "       'Citrobacter youngae', 'Staphylococcus haemolyticus',\n",
       "       'Proteus mirabilis', 'Morganella morganii', 'Aeromonas hydrophila',\n",
       "       'Cronobacter sakazakii complejo', 'Candida tropicalis',\n",
       "       'Enterococcus faecium', 'Acinetobacter lwoffii/haemolyticus',\n",
       "       'Staphylococcus saprophyticus', 'Elizabethkingia meningoseptica',\n",
       "       'Aeromonas caviae', 'Acinetobacter spp.',\n",
       "       'Cryptococcus neoformans', 'Serratia marcescens',\n",
       "       'Pantoea agglomerans', 'Streptococcus agalactiae (Strep. grupo B)',\n",
       "       'Staphylococcus capitis ssp urealyticus',\n",
       "       'Streptococcus viridans grupo', 'Staphylococcus warneri',\n",
       "       'Achromobacter spp.', 'Pluralibacter gergoviae',\n",
       "       'Streptococcus alfa-hemolítico', 'Hongos',\n",
       "       'Streptococcus pneumoniae', 'Providencia stuartii',\n",
       "       'Streptococcus intermedius', 'Candida', 'Proteus vulgaris',\n",
       "       'Klebsiella aerogenes', 'Candida parapsilosis complejo',\n",
       "       'Ochrobactrum anthropi', 'Bacillus',\n",
       "       'Listeria monocytogenes/innocua',\n",
       "       'Streptococcus beta-hemolítico ACG (colonia grande)',\n",
       "       'Enterococcus casseliflavus/gallinarum', 'Acinetobacter lwoffii',\n",
       "       'Staphylococcus capitis', 'Acinetobacter baumannii/haemolyticus',\n",
       "       'Enterobacter asburiae', 'Candida spp.',\n",
       "       'Streptococcus pyogenes (Strep. grupo A)', 'Salmonella spp.',\n",
       "       'Salmonella', 'Micrococcus', 'Trichophyton rubrum',\n",
       "       'Citrobacter werkmanii', 'Enterococcus raffinosus',\n",
       "       'Citrobacter amalonaticus', 'Streptococcus', 'Haemophilus spp.',\n",
       "       'Enterococcus hirae', 'Streptococcus parasanguinis', 'Levaduras',\n",
       "       'Escherichia hermannii', 'Enterococcus avium', 'Enterococcus',\n",
       "       'Staphylococcus', 'Staphylococcus schleiferi ssp coagulans',\n",
       "       'Streptococcus uberis', 'Streptococcus sanguinis',\n",
       "       'Providencia rettgeri', 'Aeromonas veronii bv veronii',\n",
       "       'Chryseobacterium indologenes', 'Empedobacter brevis',\n",
       "       'Trichosporon asahii', 'Alcaligenes faecalis', 'Fusarium spp.',\n",
       "       'Histoplasma capsulatum', 'Pseudomonas spp.',\n",
       "       'Hyphopichia burtonii', 'Staphylococcus lugdunensis',\n",
       "       'Aeromonas veronii bv sobria', 'Listeria monocytogenes',\n",
       "       'Burkholderia gladioli', 'Candida glabrata',\n",
       "       'Staphylococcus capitis ssp capitis', 'Streptococcus mitis grupo',\n",
       "       'Staphylococcus spp.', 'Streptococcus anginosus',\n",
       "       'Burkholderia cepacia complejo',\n",
       "       'Salmonella enterica ssp enterica sv Paratyphi A',\n",
       "       'Staphylococcus chromogenes',\n",
       "       'Salmonella enterica ssp enterica sv Typhi',\n",
       "       'Streptococcus oralis', 'Neoscytalidium dimidiatum',\n",
       "       'Trichophyton mentagrophytes var mentagrophytes',\n",
       "       'Candida guilliermondii', 'Proteus vulgaris/penneri',\n",
       "       'Klebsiella ozaenae', 'Staphylococcus schleiferi',\n",
       "       'Sphingomonas paucimobilis', 'Shewanella putrefaciens',\n",
       "       'Trichosporon inkin', 'Pseudomonas luteola',\n",
       "       'Streptococcus salivarius', 'Burkholderia spp.',\n",
       "       'Sphingobacterium spiritivorum', 'Corynebacterium amycolatum',\n",
       "       'Haemophilus influenzae', 'Candida melibiosica', 'Trichosporon',\n",
       "       'Enterobacter hormaechei', 'Scedosporium apiospermum',\n",
       "       'Acinetobacter', 'Staphylococcus caprae',\n",
       "       'Cryptococcus neoformans var neoformans', 'Curvularia spp',\n",
       "       'Aspergillus flavus',\n",
       "       'Streptococcus gallolyticus ssp pasteurianus/infantarius',\n",
       "       'Brevundimonas vesicularis', 'Delftia acidovorans',\n",
       "       'Brevibacterium spp.', 'Staphylococcus cohnii ssp urealyticum',\n",
       "       'Candida dubliniensis', 'Escherichia fergusonii',\n",
       "       'Staphylococcus intermedius', 'Staphylococcus xylosus',\n",
       "       'Mannheimia haemolytica', 'Staphylococcus coagulasa-positivo',\n",
       "       'Proteus penneri', 'Shigella flexneri', 'Streptococcus spp.',\n",
       "       'Enterococcus spp.', 'Rhodotorula glutinis',\n",
       "       'Bacilo Gram-positivo', 'Haemophilus', 'Ralstonia pickettii',\n",
       "       'Candida parapsilosis', 'Streptococcus dysgalactiae/canis',\n",
       "       'Rhizobium radiobacter', 'Corynebacterium amycolatum/minutissimum',\n",
       "       'Streptococcus dysgalactiae ssp equisimilis', 'Cryptococcus',\n",
       "       'Citrobacter farmeri', 'Staphylococcus cohnii ssp cohnii',\n",
       "       'Moraxella spp.', 'Streptococcus mitis', 'Micrococcus luteus',\n",
       "       'Serratia marcescens ssp marcescens',\n",
       "       'Pseudomonas pseudoalcaligenes',\n",
       "       'Bacilo Gram-negativo oxidasa-negativo',\n",
       "       'Bacilo Gram-negativo oxidasa-positivo', 'Candida rugosa',\n",
       "       'Shigella', 'Staphylococcus carnosus', 'Aspergillus terreus',\n",
       "       'Shigella boydii', 'Edwardsiella tarda', 'Paracoccus yeei',\n",
       "       'Corynebacterium urealyticum', 'Corynebacterium spp.',\n",
       "       'Bacilo Gram-negativo no identificado no fermentador',\n",
       "       'Cryptococcus spp.', 'Corynebacterium',\n",
       "       'Pseudomonas oryzihabitans', 'Corynebacterium amycolatum/striatum',\n",
       "       'Candida kefyr', 'Rhodotorula spp.', 'Lactococcus raffinolactis',\n",
       "       'Shigella sonnei', 'Corynebacterium matruchotii',\n",
       "       'Staphylococcus sciuri', 'Candida lusitaniae',\n",
       "       'Streptococcus mutans', 'Candida norvegensis',\n",
       "       'Saccharomyces cerevisiae', 'BIPOLARIS', 'Kluyvera ascorbata',\n",
       "       'Citrobacter braakii', 'Leifsonia aquatica',\n",
       "       'Salmonella enterica ssp arizonae', 'Staphylococcus auricularis',\n",
       "       'BACTERIA FILAMENTOSA', 'Rhizopus', 'Candida krusei',\n",
       "       'Streptococcus acidominimus', 'Cunninghamella',\n",
       "       'Enterococcus durans', 'Staphylococcus gallinarum',\n",
       "       'Streptococcus vestibularis', 'Serratia plymuthica',\n",
       "       'Pseudomonas stutzeri', 'Dermacoccus nishinomiyaensis',\n",
       "       'Streptococcus porcinus', 'Candida haemulonii/auris',\n",
       "       'Leuconostoc spp.', 'Bacillus spp.',\n",
       "       'Staphylococcus saccharolyticus', 'Trichophyton mentagrophytes',\n",
       "       'Micrococcus spp.', 'Arcanobacterium haemolyticum',\n",
       "       'Lactobacillus spp.', 'Brevibacillus brevis',\n",
       "       'Streptococcus equi ssp equi', 'Providencia alcalifaciens',\n",
       "       'CDC grupo Vb-3', 'Staphylococcus kloosii',\n",
       "       'Salmonella enterica ssp enterica serovar Choleraesuis',\n",
       "       'Trichosporon mucoides', 'Bacillus megaterium',\n",
       "       'Aspergillus fumigatus', 'Rothia dentocariosa', 'Rothia spp.',\n",
       "       'Aspergillus spp.', 'Globicatella sanguinis',\n",
       "       'Streptococcus dysgalactiae', 'Kocuria varians',\n",
       "       'Staphylococcus simulans',\n",
       "       'Burkholderia cepacia/Ralstonia pickettii',\n",
       "       'Pasteurella multocida', 'Trichophyton tonsurans',\n",
       "       'Staphylococcus lentus', 'Trichosporon spp.',\n",
       "       'Streptococcus grupo C/G (colonia grande)', 'Bacillus pumilus',\n",
       "       'Streptococcus gallolyticus/infantarius',\n",
       "       'Rhodotorula mucilaginosa var mucilaginosa', 'Vibrio cholerae',\n",
       "       'Staphylococcus pasteuri', 'Gemella spp.',\n",
       "       'Streptococcus equi ssp zooepidemicus', 'Rhodococcus',\n",
       "       'Rothia mucilaginosa', 'Streptococcus gordonii',\n",
       "       'Klebsiella rhinoscleromatis', 'Alloiococcus otitis',\n",
       "       'Streptococcus constellatus',\n",
       "       'Streptococcus grupo C/G (colonia pequeña)', 'Hafnia alvei',\n",
       "       'Corynebacterium striatum', 'Staphylococcus equorum',\n",
       "       'Gemella morbillorum', 'Moraxella (Branhamella) catarrhalis',\n",
       "       'Serratia liquefaciens', 'Neisseria meningitidis',\n",
       "       'Streptococcus equinus', 'Gemella haemolysans',\n",
       "       'Cryptococcus laurentii', 'Bacillus thuringiensis',\n",
       "       'Penicillium spp.', 'Pasteurella aerogenes', 'Cedecea davisae',\n",
       "       'Streptococcus anginosus (antes milleri) grupo', 'Neisseria spp.',\n",
       "       'Candida pararugosa', 'Bacilo Gram-negativo', 'Lactococcus spp.',\n",
       "       'Candida catenulata', 'Tatumella ptyseos',\n",
       "       'Kingella denitrificans', 'Neisseria gonorrhoeae',\n",
       "       'Candida ciferrii', 'Enterococcus casseliflavus',\n",
       "       'Leclercia adecarboxylata', 'Cedecea neteri',\n",
       "       'Aerococcus viridans', 'Providencia rustigianii',\n",
       "       'Streptococcus gallolyticus ssp gallolyticus',\n",
       "       'Cryptococcus gattii', 'Moellerella wisconsensis',\n",
       "       'Comamonas testosteroni', 'Chromobacterium violaceum',\n",
       "       'Lactococcus garvieae', 'Enterobacter cancerogenus',\n",
       "       'Vibrio fluvialis', 'Staphylococcus pettenkoferi',\n",
       "       'Trueperella pyogenes', 'Kluyvera intermedia',\n",
       "       'Exophiala dermatitidis', 'Pediococcus acidilactici',\n",
       "       'Brevundimonas diminuta', 'Bacillus circulans',\n",
       "       'Staphylococcus felis', 'Streptococcus sobrinus',\n",
       "       'Cellulomonas turbata', 'Proteus spp.', 'Pediococcus pentosaceus',\n",
       "       'Geotrichum', 'Cedecea lapagei', 'Aerococcus spp.',\n",
       "       'Streptococcus gallolyticus', 'Chryseobacterium gleum',\n",
       "       'Streptococcus gallolyticus ssp pasteurianus',\n",
       "       'Staphylococcus haemolyticus/lugdunensis',\n",
       "       'Streptococcus mitis/pneumoniae', 'Fusarium',\n",
       "       'Shigella dysenteriae', 'Kingella kingae', 'Stenotrophomonas spp.',\n",
       "       'Burkholderia spp./Ralstonia spp.', 'Leuconostoc lactis',\n",
       "       'Neisseria animaloris', 'Pseudomonas', 'Arcanobacterium spp.',\n",
       "       'Kytococcus sedentarius'], dtype=object)"
      ]
     },
     "execution_count": 20,
     "metadata": {},
     "output_type": "execute_result"
    }
   ],
   "source": [
    "# Microorganismo List\n",
    "dfResLab['MICROORGANISMO'].unique()"
   ]
  },
  {
   "cell_type": "code",
   "execution_count": 21,
   "metadata": {
    "colab": {
     "base_uri": "https://localhost:8080/"
    },
    "executionInfo": {
     "elapsed": 314,
     "status": "ok",
     "timestamp": 1654267970365,
     "user": {
      "displayName": "Angela Olarte",
      "userId": "04022086783241571381"
     },
     "user_tz": 300
    },
    "id": "21WbLPiyohrE",
    "outputId": "0cf4b02b-7b77-4805-d013-9d5f089a7f24"
   },
   "outputs": [
    {
     "data": {
      "text/plain": [
       "314"
      ]
     },
     "execution_count": 21,
     "metadata": {},
     "output_type": "execute_result"
    }
   ],
   "source": [
    "# number of microorganism\n",
    "len(dfResLab['MICROORGANISMO'].unique())"
   ]
  },
  {
   "cell_type": "code",
   "execution_count": 22,
   "metadata": {
    "colab": {
     "base_uri": "https://localhost:8080/"
    },
    "executionInfo": {
     "elapsed": 22,
     "status": "ok",
     "timestamp": 1654267970366,
     "user": {
      "displayName": "Angela Olarte",
      "userId": "04022086783241571381"
     },
     "user_tz": 300
    },
    "id": "1jqiS99cohoG",
    "outputId": "9810d394-6426-4543-9355-012a2af04420"
   },
   "outputs": [
    {
     "data": {
      "text/plain": [
       "0"
      ]
     },
     "execution_count": 22,
     "metadata": {},
     "output_type": "execute_result"
    }
   ],
   "source": [
    "# Number of Missing Values\n",
    "dfResLab['MICROORGANISMO'].isnull().sum()"
   ]
  },
  {
   "cell_type": "markdown",
   "metadata": {
    "id": "wRRaQV5xo05d"
   },
   "source": [
    "314 unique microorganismos were identified in the 546443 laboratory result records. Groupings of these microorganisms by species may facilitate further exploration."
   ]
  },
  {
   "cell_type": "code",
   "execution_count": 23,
   "metadata": {
    "id": "mCCIdyg7G_Ng"
   },
   "outputs": [],
   "source": [
    "#Dictionary to group Microorganisms by species\n",
    "microorganism_dict={\n",
    "    \"Vibrio fluvialis\":\"Vibrionaceae\",\n",
    "    \"Vibrio cholerae\":\"Vibrionaceae\",\n",
    "    \"Trueperella pyogenes\":\"Actinomycetaceae\",\n",
    "    \"Trichosporon spp.\":\"Levaduras\",\n",
    "    \"Trichosporon mucoides\":\"Levaduras\",\n",
    "    \"Trichosporon inkin\":\"Levaduras\",\n",
    "    \"Trichosporon asahii\":\"Levaduras\",\n",
    "    \"Trichosporon\":\"Levaduras\",\n",
    "    \"Trichophyton tonsurans\":\"Dermatofitos\",\n",
    "    \"Trichophyton rubrum\":\"Dermatofitos\",\n",
    "    \"Trichophyton mentagrophytes var mentagrophytes\":\"Dermatofitos\",\n",
    "    \"Trichophyton mentagrophytes\":\"Dermatofitos\",\n",
    "    \"Tatumella ptyseos\":\"Enterobacteriales\",\n",
    "    \"Streptococcus viridans grupo\":\"Streptococcaceae\",\n",
    "    \"Streptococcus vestibularis\":\"Streptococcaceae\",\n",
    "    \"Streptococcus uberis\":\"Streptococcaceae\",\n",
    "    \"Streptococcus spp.\":\"Streptococcaceae\",\n",
    "    \"Streptococcus sobrinus\":\"Streptococcaceae\",\n",
    "    \"Streptococcus sanguinis\":\"Streptococcaceae\",\n",
    "    \"Streptococcus salivarius\":\"Streptococcaceae\",\n",
    "    \"Streptococcus pyogenes (Strep. grupo A)\":\"Streptococcaceae\",\n",
    "    \"Streptococcus porcinus\":\"Streptococcaceae\",\n",
    "    \"Streptococcus pneumoniae\":\"Streptococcaceae\",\n",
    "    \"Streptococcus parasanguinis\":\"Streptococcaceae\",\n",
    "    \"Streptococcus oralis\":\"Streptococcaceae\",\n",
    "    \"Streptococcus mutans\":\"Streptococcaceae\",\n",
    "    \"Streptococcus mitis/pneumoniae\":\"Streptococcaceae\",\n",
    "    \"Streptococcus mitis grupo\":\"Streptococcaceae\",\n",
    "    \"Streptococcus mitis\":\"Streptococcaceae\",\n",
    "    \"Streptococcus intermedius\":\"Streptococcaceae\",\n",
    "    \"Streptococcus grupo C/G (colonia pequeña)\":\"Streptococcaceae\",\n",
    "    \"Streptococcus grupo C/G (colonia grande)\":\"Streptococcaceae\",\n",
    "    \"Streptococcus gordonii\":\"Streptococcaceae\",\n",
    "    \"Streptococcus gallolyticus/infantarius\":\"Streptococcaceae\",\n",
    "    \"Streptococcus gallolyticus ssp pasteurianus/infantarius\":\"Streptococcaceae\",\n",
    "    \"Streptococcus gallolyticus ssp pasteurianus\":\"Streptococcaceae\",\n",
    "    \"Streptococcus gallolyticus ssp gallolyticus\":\"Streptococcaceae\",\n",
    "    \"Streptococcus gallolyticus\":\"Streptococcaceae\",\n",
    "    \"Streptococcus equisspzooepidemicus\":\"Streptococcaceae\",\n",
    "    \"Streptococcus equisspequi\":\"Streptococcaceae\",\n",
    "    \"Streptococcus equinus\":\"Streptococcaceae\",\n",
    "    \"Streptococcus equi ssp zooepidemicus\":\"Streptococcaceae\",\n",
    "    \"Streptococcus equi ssp equi\":\"Streptococcaceae\",\n",
    "    \"Streptococcus dysgalactiae/canis\":\"Streptococcaceae\",\n",
    "    \"Streptococcus dysgalactiae ssp equisimilis\":\"Streptococcaceae\",\n",
    "    \"Streptococcus dysgalactiae\":\"Streptococcaceae\",\n",
    "    \"Streptococcus constellatus\":\"Streptococcaceae\",\n",
    "    \"Streptococcus beta-hemolítico ACG (colonia grande)\":\"Streptococcaceae\",\n",
    "    \"Streptococcus anginosus (antesmilleri) grupo\":\"Streptococcaceae\",\n",
    "    \"Streptococcus anginosus (antes milleri) grupo\":\"Streptococcaceae\",\n",
    "    \"Streptococcus anginosus\":\"Streptococcaceae\",\n",
    "    \"Streptococcus alfa-hemolítico\":\"Streptococcaceae\",\n",
    "    \"Streptococcus agalactiae (Strep. grupo B)\":\"Streptococcaceae\",\n",
    "    \"Streptococcus acidominimus\":\"Streptococcaceae\",\n",
    "    \"Streptococcus\":\"Streptococcaceae\",\n",
    "    \"Stenotrophomonas spp.\":\"Xanthomonadaceae\",\n",
    "    \"Stenotrophomonas maltophilia\":\"Xanthomonadaceae\",\n",
    "    \"Stenotrophomonas\":\"Xanthomonadaceae\",\n",
    "    \"Staphylococcus xylosus\":\"Staphylococcaceae\",\n",
    "    \"Staphylococcus warneri\":\"Staphylococcaceae\",\n",
    "    \"Staphylococcus spp.\":\"Staphylococcaceae\",\n",
    "    \"Staphylococcus simulans\":\"Staphylococcaceae\",\n",
    "    \"Staphylococcus sciuri\":\"Staphylococcaceae\",\n",
    "    \"Staphylococcus schleiferi ssp coagulans\":\"Staphylococcaceae\",\n",
    "    \"Staphylococcus schleiferi\":\"Staphylococcaceae\",\n",
    "    \"Staphylococcus saprophyticus\":\"Staphylococcaceae\",\n",
    "    \"Staphylococcus saccharolyticus\":\"Staphylococcaceae\",\n",
    "    \"Staphylococcus pettenkoferi\":\"Staphylococcaceae\",\n",
    "    \"Staphylococcus pasteuri\":\"Staphylococcaceae\",\n",
    "    \"Staphylococcus lugdunensis\":\"Staphylococcaceae\",\n",
    "    \"Staphylococcus lentus\":\"Staphylococcaceae\",\n",
    "    \"Staphylococcus kloosii\":\"Staphylococcaceae\",\n",
    "    \"Staphylococcus intermedius\":\"Staphylococcaceae\",\n",
    "    \"Staphylococcus hominis\":\"Staphylococcaceae\",\n",
    "    \"Staphylococcus haemolyticus/lugdunensis\":\"Staphylococcaceae\",\n",
    "    \"Staphylococcus haemolyticus\":\"Staphylococcaceae\",\n",
    "    \"Staphylococcus gallinarum\":\"Staphylococcaceae\",\n",
    "    \"Staphylococcus felis\":\"Staphylococcaceae\",\n",
    "    \"Staphylococcus equorum\":\"Staphylococcaceae\",\n",
    "    \"Staphylococcus epidermidis\":\"Staphylococcaceae\",\n",
    "    \"Staphylococcus cohniisspurealyticum\":\"Staphylococcaceae\",\n",
    "    \"Staphylococcus cohnii ssp urealyticum\":\"Staphylococcaceae\",\n",
    "    \"Staphylococcus cohnii ssp cohnii\":\"Staphylococcaceae\",\n",
    "    \"Staphylococcus coagulasa-positivo\":\"Staphylococcaceae\",\n",
    "    \"Staphylococcus coagulasa-negativo\":\"Staphylococcaceae\",\n",
    "    \"Staphylococcus chromogenes\":\"Staphylococcaceae\",\n",
    "    \"Staphylococcus carnosus\":\"Staphylococcaceae\",\n",
    "    \"Staphylococcus caprae\":\"Staphylococcaceae\",\n",
    "    \"Staphylococcus capitis ssp urealyticus\":\"Staphylococcaceae\",\n",
    "    \"Staphylococcus capitis ssp capitis\":\"Staphylococcaceae\",\n",
    "    \"Staphylococcus capitis\":\"Staphylococcaceae\",\n",
    "    \"Staphylococcus auricularis\":\"Staphylococcaceae\",\n",
    "    \"Staphylococcus aureus\":\"Staphylococcaceae\",\n",
    "    \"Staphylococcus\":\"Staphylococcaceae\",\n",
    "    \"Sphingomonas paucimobilis\":\"Sphingomonadaceae\",\n",
    "    \"Sphingobacterium spiritivorum\":\"Sphingobacteriaceae\",\n",
    "    \"Shigella sonnei\":\"Enterobacteriales\",\n",
    "    \"Shigella flexneri\":\"Enterobacteriales\",\n",
    "    \"Shigella dysenteriae\":\"Enterobacteriales\",\n",
    "    \"Shigella boydii\":\"Enterobacteriales\",\n",
    "    \"Shigella\":\"Enterobacteriales\",\n",
    "    \"Shewanella putrefaciens\":\"Shewanellaceae\",\n",
    "    \"Serratia plymuthica\":\"Enterobacteriales\",\n",
    "    \"Serratia marcescens ssp marcescens\":\"Enterobacteriales\",\n",
    "    \"Serratia marcescens\":\"Enterobacteriales\",\n",
    "    \"Serratia liquefaciens\":\"Enterobacteriales\",\n",
    "    \"Scedosporium apiospermum\":\"Mohos\",\n",
    "    \"Salmonella spp.\":\"Enterobacteriales\",\n",
    "    \"Salmonella enterica ssp enterica sv Typhi\":\"Enterobacteriales\",\n",
    "    \"Salmonella enterica ssp enterica sv Paratyphi A\":\"Enterobacteriales\",\n",
    "    \"Salmonella enterica ssp enterica serovar Choleraesuis\":\"Enterobacteriales\",\n",
    "    \"Salmonella enterica ssp arizonae\":\"Enterobacteriales\",\n",
    "    \"Salmonella enterica ss penterica sv Typhi\":\"Enterobacteriales\",\n",
    "    \"Salmonella enterica ss penterica sv Paratyphi A\":\"Enterobacteriales\",\n",
    "    \"Salmonella\":\"Enterobacteriales\",\"Saccharomyces cerevisiae\":\"Levaduras\",\n",
    "    \"Rothia spp.\":\"Micrococcales\",\"Rothia mucilaginosa\":\"Micrococcales\",\n",
    "    \"Rothia dentocariosa\":\"Micrococcales\",\"Rothia\":\"Micrococcales\",\n",
    "    \"Rhodotorula spp.\":\"Levaduras\",\n",
    "    \"Rhodotorula mucilaginosa var mucilaginosa\":\"Levaduras\",\n",
    "    \"Rhodotorula glutinis\":\"Levaduras\",\"Rhodotorula\":\"Levaduras\",\n",
    "    \"Rhodococcus\":\"Nocardiaceae\",\n",
    "    \"Rhizopus\":\"Mucorales\",\n",
    "    \"Rhizobium radiobacter\":\"Rhizobiaceae\",\n",
    "    \"Ralstonia pickettii\":\"Burkholderiales\",\n",
    "    \"Pseudomonas stutzeri\":\"Pseudomonadaceae\",\n",
    "    \"Pseudomonas spp.\":\"Pseudomonadaceae\",\n",
    "    \"Pseudomonas putida\":\"Pseudomonadaceae\",\n",
    "    \"Pseudomonas pseudoalcaligenes\":\"Pseudomonadaceae\",\n",
    "    \"Pseudomonas oryzihabitans\":\"Pseudomonadaceae\",\n",
    "    \"Pseudomonas luteola\":\"Pseudomonadaceae\",\n",
    "    \"Pseudomonas fluorescens\":\"Pseudomonadaceae\",\n",
    "    \"Pseudomonas aeruginosa\":\"Pseudomonadaceae\",\n",
    "    \"Pseudomonas\":\"Pseudomonadaceae\",\n",
    "    \"Providencia stuartii\":\"Enterobacteriales\",\n",
    "    \"Providencia rustigianii\":\"Enterobacteriales\",\n",
    "    \"Providencia rettgeri\":\"Enterobacteriales\",\n",
    "    \"Providencia alcalifaciens\":\"Enterobacteriales\",\n",
    "    \"Proteus vulgaris/penneri\":\"Enterobacteriales\",\n",
    "    \"Proteus vulgaris\":\"Enterobacteriales\",\n",
    "    \"Proteus penneri\":\"Enterobacteriales\",\n",
    "    \"Proteus mirabilis\":\"Enterobacteriales\",\n",
    "    \"Proteus\":\"Enterobacteriales\",\n",
    "    \"Proteus spp.\":\"Enterobacteriales\",\n",
    "    \"Pluralibacter gergoviae\":\"Enterobacteriales\",\n",
    "    \"Penicillium spp.\":\"Mohos\",\"Penicillium\":\"Mohos\",\n",
    "    \"Pediococcus pentosaceus\":\"Lactobacillales\",\n",
    "    \"Pediococcus acidilactici\":\"Lactobacillales\",\n",
    "    \"Pasteurella multocida\":\"Pasteurellaceae\",\n",
    "    \"Pasteurella aerogenes\":\"Pasteurellaceae\",\n",
    "    \"Paracoccus yeei\":\"Rhodobacteraceae\",\n",
    "    \"Pantoea agglomerans\":\"Enterobacteriales\",\n",
    "    \"Ochrobactrum anthropi\":\"Brucellaceae\",\n",
    "    \"Neoscytalidium dimidiatum\":\"Mohos\",\n",
    "    \"Neisseria spp.\":\"Neisseriales\",\n",
    "    \"Neisseria meningitidis\":\"Neisseriales\",\n",
    "    \"Neisseria gonorrhoeae\":\"Neisseriales\",\n",
    "    \"Neisseria animaloris\":\"Neisseriales\",\n",
    "    \"Neisseria\":\"Neisseriales\",\n",
    "    \"Morganella morganii\":\"Enterobacteriales\",\n",
    "    \"Moraxella spp.\":\"Moraxellaceae\",\n",
    "    \"Moraxella (Branhamella) catarrhalis\":\"Moraxellaceae\",\n",
    "    \"Moraxella\":\"Moraxellaceae\",\n",
    "    \"Moellerella wisconsensis\":\"Enterobacteriales\",\n",
    "    \"Micrococcus spp.\":\"Micrococcales\",\n",
    "    \"Micrococcus luteus\":\"Micrococcales\",\n",
    "    \"Micrococcus\":\"Micrococcales\",\n",
    "    \"Mannheimia haemolytica\":\"Pasteurellaceae\",\n",
    "    \"Listeria monocytogenes/innocua\":\"Bacillales\",\n",
    "    \"Listeria monocytogenes\":\"Bacillales\",\n",
    "    \"Levaduras\":\"Levaduras\",\n",
    "    \"Leuconostoc spp.\":\"Lactobacillales\",\n",
    "    \"Leuconostoc lactis\":\"Lactobacillales\",\n",
    "    \"Leuconostoc\":\"Lactobacillales\",\n",
    "    \"Leifsonia aquatica\":\"Micrococcales\",\n",
    "    \"Leclercia adecarboxylata\":\"Enterobacteriales\",\n",
    "    \"Lactococcus spp.\":\"Streptococcaceae\",\n",
    "    \"Lactococcus raffinolactis\":\"Streptococcaceae\",\n",
    "    \"Lactococcus garvieae\":\"Streptococcaceae\",\n",
    "    \"Lactococcus\":\"Streptococcaceae\",\n",
    "    \"Lactobacillus spp.\":\"Lactobacillales\",\n",
    "    \"Lactobacillus\":\"Lactobacillales\",\n",
    "    \"Kytococcus sedentarius\":\"Micrococcales\",\n",
    "    \"Kocuria varians\":\"Micrococcales\",\n",
    "    \"Kluyvera intermedia\":\"Enterobacteriales\",\n",
    "    \"Kluyvera ascorbata\":\"Enterobacteriales\",\n",
    "    \"Klebsiella rhinoscleromatis\":\"Enterobacteriales\",\n",
    "    \"Klebsiella pneumoniae\":\"Enterobacteriales\",\n",
    "    \"Klebsiella ozaenae\":\"Enterobacteriales\",\n",
    "    \"Klebsiella oxytoca\":\"Enterobacteriales\",\n",
    "    \"Klebsiella aerogenes\":\"Enterobacteriales\",\n",
    "    \"Kingella kingae\":\"Neisseriales\",\n",
    "    \"Kingella denitrificans\":\"Neisseriales\",\n",
    "    \"Hyphopichia burtonii\":\"Levaduras\",\n",
    "    \"Histoplasma capsulatum\":\"Histoplasma\",\n",
    "    \"Hafnia alvei\":\"Enterobacteriales\",\n",
    "    \"Haemophilus spp.\":\"Pasteurellaceae\",\n",
    "    \"Haemophilus influenzae\":\"Pasteurellaceae\",\n",
    "    \"Haemophilus\":\"Pasteurellaceae\",\n",
    "    \"Globicatella sanguinis\":\"Lactobacillales\",\n",
    "    \"Geotrichum\":\"Levaduras\",\n",
    "    \"Gemella spp.\":\"Bacillales\",\n",
    "    \"Gemella morbillorum\":\"Bacillales\",\n",
    "    \"Gemella haemolysans\":\"Bacillales\",\n",
    "    \"Gemella\":\"Bacillales\",\n",
    "    \"Fusarium spp.\":\"Mohos\",\n",
    "    \"Fusarium\":\"Mohos\",\n",
    "    \"Exophiala dermatitidis\":\"Levaduras\",\n",
    "    \"Escherichia hermannii\":\"Enterobacteriales\",\n",
    "    \"Escherichia fergusonii\":\"Enterobacteriales\",\n",
    "    \"Escherichia coli\":\"Enterobacteriales\",\n",
    "    \"Enterococcus spp.\":\"Enterococcaceae\",\n",
    "    \"Enterococcus raffinosus\":\"Enterococcaceae\",\n",
    "    \"Enterococcus hirae\":\"Enterococcaceae\",\n",
    "    \"Enterococcus faecium\":\"Enterococcaceae\",\n",
    "    \"Enterococcus faecalis\":\"Enterococcaceae\",\n",
    "    \"Enterococcus durans\":\"Enterococcaceae\",\n",
    "    \"Enterococcus casseliflavus/gallinarum\":\"Enterococcaceae\",\n",
    "    \"Enterococcus casseliflavus\":\"Enterococcaceae\",\n",
    "    \"Enterococcus avium\":\"Enterococcaceae\",\n",
    "    \"Enterococcus\":\"Enterococcaceae\",\n",
    "    \"Enterobacter hormaechei\":\"Enterobacteriales\",\n",
    "    \"Enterobacter cloacae\":\"Enterobacteriales\",\n",
    "    \"Enterobacter cancerogenus\":\"Enterobacteriales\",\n",
    "    \"Enterobacter asburiae\":\"Enterobacteriales\",\n",
    "    \"Empedobacter brevis\":\"Flavobacteriales\",\n",
    "    \"Elizabethkingia meningoseptica\":\"Flavobacteriales\",\n",
    "    \"Edwardsiella tarda\":\"Enterobacteriales\",\n",
    "    \"Dermacoccus nishinomiyaensis\":\"Micrococcales\",\n",
    "    \"Delftia acidovorans\":\"Burkholderiales\",\n",
    "    \"Curvularia spp\":\"Mohos\",\n",
    "    \"Curvularia spp.\":\"Mohos\",\n",
    "    \"Cunninghamella\":\"Mucorales\",\n",
    "    \"Cryptococcus spp.\":\"Cryptococcus\",\n",
    "    \"Cryptococcus neoformans var neoformans\":\"Cryptococcus\",\n",
    "    \"Cryptococcus neoformans\":\"Cryptococcus\",\n",
    "    \"Cryptococcus laurentii\":\"Cryptococcus\",\n",
    "    \"Cryptococcus gattii\":\"Cryptococcus\",\n",
    "    \"Cryptococcus\":\"Cryptococcus\",\n",
    "    \"Cronobacter sakazakii complejo\":\"Enterobacteriales\",\n",
    "    \"Corynebacterium urealyticum\":\"Corynebacteriaceae\",\n",
    "    \"Corynebacterium striatum\":\"Corynebacteriaceae\",\n",
    "    \"Corynebacterium spp.\":\"Corynebacteriaceae\",\n",
    "    \"Corynebacterium matruchotii\":\"Corynebacteriaceae\",\n",
    "    \"Corynebacterium amycolatum/striatum\":\"Corynebacteriaceae\",\n",
    "    \"Corynebacterium amycolatum/minutissimum\":\"Corynebacteriaceae\",\n",
    "    \"Corynebacterium amycolatum\":\"Corynebacteriaceae\",\n",
    "    \"Corynebacterium\":\"Corynebacteriaceae\",\n",
    "    \"Comamonas testosteroni\":\"Burkholderiales\",\n",
    "    \"Citrobacter youngae\":\"Enterobacteriales\",\n",
    "    \"Citrobacter werkmanii\":\"Enterobacteriales\",\n",
    "    \"Citrobacter koseri\":\"Enterobacteriales\",\n",
    "    \"Citrobacter freundii\":\"Enterobacteriales\",\n",
    "    \"Citrobacter farmeri\":\"Enterobacteriales\",\n",
    "    \"Citrobacter braakii\":\"Enterobacteriales\",\n",
    "    \"Citrobacter amalonaticus\":\"Enterobacteriales\",\n",
    "    \"Chryseobacterium indologenes\":\"Flavobacteriales\",\n",
    "    \"Chryseobacterium gleum\":\"Flavobacteriales\",\n",
    "    \"Chromobacterium violaceum\":\"Neisseriales\",\n",
    "    \"Cellulomonas turbata\":\"Micrococcales\",\n",
    "    \"Cedecea neteri\":\"Enterobacteriales\",\n",
    "    \"Cedecea lapagei\":\"Enterobacteriales\",\n",
    "    \"Cedecea davisae\":\"Enterobacteriales\",\n",
    "    \"CDC grupo Vb-3\":\"Enterobacteriales\",\n",
    "    \"Candida tropicalis\":\"Candidas\",\n",
    "    \"Candida spp.\":\"Candidas\",\n",
    "    \"Candida rugosa\":\"Candidas\",\n",
    "    \"Candida pararugosa\":\"Candidas\",\n",
    "    \"Candida parapsilosis complejo\":\"Candidas\",\n",
    "    \"Candida parapsilosis\":\"Candidas\",\n",
    "    \"Candida norvegensis\":\"Candidas\",\n",
    "    \"Candida melibiosica\":\"Candidas\",\n",
    "    \"Candida lusitaniae\":\"Candidas\",\n",
    "    \"Candida krusei\":\"Candidas\",\n",
    "    \"Candida kefyr\":\"Candidas\",\n",
    "    \"Candida haemulonii/auris\":\"Candidas\",\n",
    "    \"Candida guilliermondii\":\"Candidas\",\n",
    "    \"Candida glabrata\":\"Candidas\",\n",
    "    \"Candida dubliniensis\":\"Candidas\",\n",
    "    \"Candida ciferrii\":\"Candidas\",\n",
    "    \"Candida catenulata\":\"Candidas\",\n",
    "    \"Candida albicans\":\"Candidas\",\n",
    "    \"Candida\":\"Candidas\",\n",
    "    \"Burkholderia/Ralstonia\":\"Burkholderiales\",\n",
    "    \"Burkholderia spp./Ralstonia spp.\":\"Burkholderiales\",\n",
    "    \"Burkholderia spp.\":\"Burkholderiales\",\n",
    "    \"Burkholderia gladioli\":\"Burkholderiales\",\n",
    "    \"Burkholderia cepacia/Ralstonia pickettii\":\"Burkholderiales\",\n",
    "    \"Burkholderia cepacia complejo\":\"Burkholderiales\",\n",
    "    \"Brevundimonas vesicularis\":\"Caulobacteraceae\",\n",
    "    \"Brevundimonas diminuta\":\"Caulobacteraceae\",\n",
    "    \"Brevibacterium spp.\":\"Micrococcales\",\n",
    "    \"Brevibacterium\":\"Micrococcales\",\n",
    "    \"Brevibacillus brevis\":\"Bacillales\",\n",
    "    \"Bipolaris\":\"Mohos\",\n",
    "    \"BIPOLARIS\":\"Mohos\",\n",
    "    \"BACTERIA FILAMENTOSA\":\"Otro\",\n",
    "    \"Bacilo Gram-negativo oxidasa-negativo\":\"Otro\",\n",
    "    \"Bacilo Gram-negativo no identificado no fermentador\":\"Otro\",\n",
    "    \"Bacilo Gram-negativo oxidasa-positivo\":\"Otro\",\n",
    "    \"Bacilo Gram-negativo\":\"Otro\",\n",
    "    \"Bacilo Gram-positivo\":\"Otro\",\n",
    "    \"Bacillus thuringiensis\":\"Bacillales\",\n",
    "    \"Bacillus spp.\":\"Bacillales\",\n",
    "    \"Bacillus pumilus\":\"Bacillales\",\n",
    "    \"Bacillus megaterium\":\"Bacillales\",\n",
    "    \"Bacillus circulans\":\"Bacillales\",\n",
    "    \"Bacillus\":\"Bacillales\",\n",
    "    \"Aspergillus terreus\":\"Mohos\",\n",
    "    \"Aspergillus spp.\":\"Mohos\",\n",
    "    \"Aspergillus fumigatus\":\"Mohos\",\n",
    "    \"Aspergillus flavus\":\"Mohos\",\n",
    "    \"Aspergillus\":\"Mohos\",\n",
    "    \"Arcanobacterium spp.\":\"Actinomycetaceae\",\n",
    "    \"Arcanobacterium haemolyticum\":\"Actinomycetaceae\",\n",
    "    \"Alloiococcus otitis\":\"Lactobacillales\",\n",
    "    \"Alcaligenes faecalis\":\"Burkholderiales\",\n",
    "    \"Aeromonas veronii bv veronii\":\"Aeromonadaceae\",\n",
    "    \"Aeromonas veronii bv sobria\":\"Aeromonadaceae\",\n",
    "    \"Aeromonas hydrophila\":\"Aeromonadaceae\",\n",
    "    \"Aeromonas caviae\":\"Aeromonadaceae\",\n",
    "    \"Aerococcus viridans\":\"Lactobacillales\",\n",
    "    \"Aerococcus spp.\":\"Lactobacillales\",\n",
    "    \"Acinetobacter spp.\":\"Moraxellaceae\",\n",
    "    \"Acinetobacter lwoffii/haemolyticus\":\"Moraxellaceae\",\n",
    "    \"Acinetobacter lwoffii\":\"Moraxellaceae\",\n",
    "    \"Acinetobacter baumannii/haemolyticus\":\"Moraxellaceae\",\n",
    "    \"Acinetobacter baumannii/calcoaceticus complejo\":\"Moraxellaceae\",\n",
    "    \"Acinetobacter baumannii\":\"Moraxellaceae\",\"Acinetobacter\":\"Moraxellaceae\",\n",
    "    \"Achromobacter spp.\":\"Burkholderiales\"  \n",
    "}\n"
   ]
  },
  {
   "cell_type": "code",
   "execution_count": 24,
   "metadata": {
    "id": "TjLFJGc2HXDi"
   },
   "outputs": [],
   "source": [
    "#dfResLab[\"FAMILIA_MICROORGANISMO\"] = dfResLab[\"MICROORGANISMO\"]\n",
    "#dfResLab[\"FAMILIA_MICROORGANISMO\"].replace(microorganism_dict, inplace=True)\n",
    "dfResLab['FAMILIA_MICROORGANISMO'] = dfResLab['MICROORGANISMO'].apply(lambda x: microorganism_dict.get(x)).fillna('')"
   ]
  },
  {
   "cell_type": "markdown",
   "metadata": {
    "id": "qGm-203To4et"
   },
   "source": [
    "## ANTIBIOTIC VARIABLE"
   ]
  },
  {
   "cell_type": "code",
   "execution_count": 25,
   "metadata": {
    "colab": {
     "base_uri": "https://localhost:8080/"
    },
    "executionInfo": {
     "elapsed": 23,
     "status": "ok",
     "timestamp": 1654267971400,
     "user": {
      "displayName": "Angela Olarte",
      "userId": "04022086783241571381"
     },
     "user_tz": 300
    },
    "id": "4_LKw4ykohlc",
    "outputId": "ca8417ee-ee65-4a04-dbaf-a5fd83cdd9fa"
   },
   "outputs": [
    {
     "data": {
      "text/plain": [
       "array(['Amikacina', 'Amoxicilina-Clavulanato', 'Ampicilina', 'Aztreonam',\n",
       "       'Cefalotina', 'Cefepima', 'Cefoxitina', 'Ceftazidima',\n",
       "       'Ceftriaxona', 'Cefuroxima', 'Ciprofloxacino', 'Colistina',\n",
       "       'Ertapenem', 'Gentamicina', 'Imipenem', 'Levofloxacino',\n",
       "       'Meropenem', 'Nitrofurantoína', 'Piperacilina-Tazobactam',\n",
       "       'Tigeciclina', 'Trimetoprim-Sulfametoxazol', 'Cefazolina',\n",
       "       'Clindamicina', 'Daptomicina', 'Eritromicina',\n",
       "       'Estreptomicina-Sin', 'Gentamicina-Sin', 'Linezolida',\n",
       "       'Minociclina', 'Moxifloxacino', 'Oxacilina', 'Penicilina G',\n",
       "       'Quinupristina-dalfopristina', 'Rifampicina', 'Tetraciclina',\n",
       "       'Vancomicina', 'SIN ESPECIFICAR', 'Rifamicina', 'Ácido nalidíxico',\n",
       "       'Amoxicilina-Clavulanato (f)', 'Cefixima', 'Fosfomicina c/G6P',\n",
       "       'Norfloxacino', 'Cefotaximo', 'Ticarcilina',\n",
       "       'Ticarcilina-Clavulanato', 'Tobramicina', 'Ampicilina-Sulbactam',\n",
       "       'Amoxicilina', 'Cloranfenicol', 'Teicoplanin', 'Telitromicina',\n",
       "       'Doripenem', 'Polimixina B', 'Ácido fusídico', 'Mupirocina',\n",
       "       'Mupirocina de alto nivel', 'Trimetoprim', 'Anfotericina B',\n",
       "       'Flucitosina', 'Fluconazol', 'Itraconazol', 'Voriconazol',\n",
       "       'Pristinamicina', 'Ceftarolina', 'Ceftazidima-avibactam '],\n",
       "      dtype=object)"
      ]
     },
     "execution_count": 25,
     "metadata": {},
     "output_type": "execute_result"
    }
   ],
   "source": [
    "# Antibiotic List\n",
    "dfResLab['ANTIBIOTICO'].unique()"
   ]
  },
  {
   "cell_type": "code",
   "execution_count": 26,
   "metadata": {
    "colab": {
     "base_uri": "https://localhost:8080/"
    },
    "executionInfo": {
     "elapsed": 20,
     "status": "ok",
     "timestamp": 1654267971400,
     "user": {
      "displayName": "Angela Olarte",
      "userId": "04022086783241571381"
     },
     "user_tz": 300
    },
    "id": "jL9tTG-do4Pm",
    "outputId": "e6866c94-3d14-47b4-a474-36e05fdb3215"
   },
   "outputs": [
    {
     "data": {
      "text/plain": [
       "66"
      ]
     },
     "execution_count": 26,
     "metadata": {},
     "output_type": "execute_result"
    }
   ],
   "source": [
    "# number of antibiotic\n",
    "len(dfResLab['ANTIBIOTICO'].unique())"
   ]
  },
  {
   "cell_type": "code",
   "execution_count": 27,
   "metadata": {
    "colab": {
     "base_uri": "https://localhost:8080/"
    },
    "executionInfo": {
     "elapsed": 13,
     "status": "ok",
     "timestamp": 1654267971401,
     "user": {
      "displayName": "Angela Olarte",
      "userId": "04022086783241571381"
     },
     "user_tz": 300
    },
    "id": "92c2m9aZo4Mc",
    "outputId": "4f2708fe-5e48-486c-a301-13f4ef389a6c"
   },
   "outputs": [
    {
     "data": {
      "text/plain": [
       "0"
      ]
     },
     "execution_count": 27,
     "metadata": {},
     "output_type": "execute_result"
    }
   ],
   "source": [
    "# Number of Missing Values\n",
    "dfResLab['ANTIBIOTICO'].isnull().sum()"
   ]
  },
  {
   "cell_type": "markdown",
   "metadata": {
    "id": "fEI_NTz2rvLc"
   },
   "source": [
    "66 different antibiotics have been tried out against the microorganisms identified.\n",
    "\n"
   ]
  },
  {
   "cell_type": "markdown",
   "metadata": {
    "id": "IrxtXjTKo6ZI"
   },
   "source": [
    "## HOSPITAL UNIT/ROOM VARIABLE"
   ]
  },
  {
   "cell_type": "code",
   "execution_count": 28,
   "metadata": {
    "id": "xS_NRNKcfxrb"
   },
   "outputs": [],
   "source": [
    "dfResLab['SALA'] = dfResLab['SALA'].str.lower()"
   ]
  },
  {
   "cell_type": "code",
   "execution_count": 29,
   "metadata": {
    "id": "Xb3fyYNXo4J6"
   },
   "outputs": [],
   "source": [
    "# room List\n",
    "dfResLab['SALA'].unique()\n",
    "arreglosalas = dfResLab['SALA'].unique()\n",
    "listasalas = arreglosalas.tolist()"
   ]
  },
  {
   "cell_type": "code",
   "execution_count": 30,
   "metadata": {
    "colab": {
     "base_uri": "https://localhost:8080/"
    },
    "executionInfo": {
     "elapsed": 21,
     "status": "ok",
     "timestamp": 1654267971674,
     "user": {
      "displayName": "Angela Olarte",
      "userId": "04022086783241571381"
     },
     "user_tz": 300
    },
    "id": "Mn-APxaefLxx",
    "outputId": "ea2e9839-08e1-43b9-9c2c-368faab7a609"
   },
   "outputs": [
    {
     "data": {
      "text/plain": [
       "['recien nacidos (cirena)',\n",
       " 'unidad de cuidado intensivo 3',\n",
       " 'medica hombres',\n",
       " 'unidad de cuidado intensivo 4',\n",
       " 'observacion cirugia',\n",
       " 'autorizado',\n",
       " 'unidad de trauma',\n",
       " 'cirugia hombres',\n",
       " 'uci neurocirugia',\n",
       " 'neurocirugia',\n",
       " 'pediatria urgencias',\n",
       " 'pediatria general',\n",
       " 'uci cx pediatrica ana frank',\n",
       " 'consulta externa',\n",
       " 'unidad de cuidado intensivo 2',\n",
       " 'filtro urgencias',\n",
       " 'unidad de quemados',\n",
       " 'sala de operaciones',\n",
       " 'medicina observacion',\n",
       " 'sin especificar',\n",
       " 'cirugia general',\n",
       " 'uci urgencias',\n",
       " 'unidad de cuidado intensivo',\n",
       " 'anhelo de vida',\n",
       " 'infecto adultos',\n",
       " 'ortopedia',\n",
       " 'ginecologia',\n",
       " 'ana frank',\n",
       " 'septicas',\n",
       " 'alto riesgo obstetrico',\n",
       " 'medica mujeres',\n",
       " 'puerperio',\n",
       " 'patologia',\n",
       " 'programa domiciliario',\n",
       " 'salud ocupacional',\n",
       " 'particular',\n",
       " 'unidad de salud mental',\n",
       " 'yesos',\n",
       " 'recuperacion',\n",
       " 'medicina urgencias',\n",
       " 'partos',\n",
       " 'consultorio 1',\n",
       " 'admision y sala de partos',\n",
       " 'ucim',\n",
       " 'neuro uci',\n",
       " 'pens 6',\n",
       " 'cirugia pediatrica ana frank',\n",
       " 'cirugia recien nacidos',\n",
       " 'pdo6',\n",
       " 'transplantes',\n",
       " 'ciren uci',\n",
       " 'consultorio 3',\n",
       " 'cirugia mujeres',\n",
       " 'miocardio',\n",
       " '1 piso torre a sede norte',\n",
       " '1 piso torre b sede norte',\n",
       " 'centro de salud',\n",
       " 'pediatria infecto',\n",
       " '2 piso quirofano 2 sede norte',\n",
       " 'uce',\n",
       " 'medicina legal',\n",
       " 'ortope',\n",
       " 'consultorio 2',\n",
       " 'sala de partos',\n",
       " '1 piso laboratorio sede norte',\n",
       " 'banco de sangre',\n",
       " 'pediatria trauma',\n",
       " 'inpec',\n",
       " 'hospitalizacion sede norte',\n",
       " 'unidad de cuidado especial',\n",
       " 'consultorio urgencias',\n",
       " 'sede norte',\n",
       " '5 piso torre b sede norte',\n",
       " 'terapia intensiva urgencias',\n",
       " 'uci recien nacidos (cirena) ',\n",
       " '3 piso torre a sede norte',\n",
       " 'trauma y reanimacion',\n",
       " '4 piso torre b hosp sede norte',\n",
       " 'quirofano central ',\n",
       " 'observacion neuro ',\n",
       " '4 piso torre a hosp sede norte',\n",
       " 'alto riesgo septico',\n",
       " '6 piso torre b sede norte',\n",
       " 'medicina interna critico',\n",
       " 'unidad cuidado especial piso 2',\n",
       " '3 piso torre b sede norte',\n",
       " 'pediatria clinica urgencias',\n",
       " 'piso 5 aislamiento pediatrico',\n",
       " 'uci 2',\n",
       " '4 piso uci trasplantes',\n",
       " 'pediatria observacion urgencia',\n",
       " '5 piso torre a sede norte',\n",
       " 'uci 3',\n",
       " 'uci cardio transplantes',\n",
       " '6 piso torre a sede norte',\n",
       " 'pediatria anhelo de vida ',\n",
       " 'neurocirugia 4 piso ala norte',\n",
       " 'uci pediatria (cipaf) ',\n",
       " 'pensionado hemato onco adultos',\n",
       " 'uci 4',\n",
       " 'terapia intensiva',\n",
       " '4 piso hospi trasplantes',\n",
       " 'hospital san jose',\n",
       " 'unidad salud mental',\n",
       " 'medicina interna no critico',\n",
       " 'medicina interna',\n",
       " '3 piso hospi sede norte',\n",
       " 'recuperacion quirofanos',\n",
       " 'pensionado hemato onco ped',\n",
       " 'torre b consulta sede norte',\n",
       " '4 piso ala norte',\n",
       " 'clinica del dolor']"
      ]
     },
     "execution_count": 30,
     "metadata": {},
     "output_type": "execute_result"
    }
   ],
   "source": [
    "listasalas"
   ]
  },
  {
   "cell_type": "code",
   "execution_count": 31,
   "metadata": {
    "colab": {
     "base_uri": "https://localhost:8080/"
    },
    "executionInfo": {
     "elapsed": 19,
     "status": "ok",
     "timestamp": 1654267971675,
     "user": {
      "displayName": "Angela Olarte",
      "userId": "04022086783241571381"
     },
     "user_tz": 300
    },
    "id": "KZm39EWGo4Hk",
    "outputId": "60e3f324-2e22-4f4f-913c-b2d02cf4d763"
   },
   "outputs": [
    {
     "data": {
      "text/plain": [
       "112"
      ]
     },
     "execution_count": 31,
     "metadata": {},
     "output_type": "execute_result"
    }
   ],
   "source": [
    "# number of room\n",
    "len(dfResLab['SALA'].unique())"
   ]
  },
  {
   "cell_type": "code",
   "execution_count": 32,
   "metadata": {
    "colab": {
     "base_uri": "https://localhost:8080/"
    },
    "executionInfo": {
     "elapsed": 88,
     "status": "ok",
     "timestamp": 1654267971979,
     "user": {
      "displayName": "Angela Olarte",
      "userId": "04022086783241571381"
     },
     "user_tz": 300
    },
    "id": "kaM5KylIo4E9",
    "outputId": "ed9641e7-d592-4438-d6a3-b709e9a1311d"
   },
   "outputs": [
    {
     "data": {
      "text/plain": [
       "0"
      ]
     },
     "execution_count": 32,
     "metadata": {},
     "output_type": "execute_result"
    }
   ],
   "source": [
    "# Number of Missing Values\n",
    "dfResLab['SALA'].isnull().sum()"
   ]
  },
  {
   "cell_type": "code",
   "execution_count": 33,
   "metadata": {
    "colab": {
     "base_uri": "https://localhost:8080/"
    },
    "executionInfo": {
     "elapsed": 18,
     "status": "ok",
     "timestamp": 1654267971980,
     "user": {
      "displayName": "Angela Olarte",
      "userId": "04022086783241571381"
     },
     "user_tz": 300
    },
    "id": "sv7Elhw1H9Ts",
    "outputId": "6b97cbb4-5601-4802-91e8-e15037c2a494"
   },
   "outputs": [
    {
     "data": {
      "text/plain": [
       "SALA\n",
       "medicina urgencias               50095\n",
       "filtro urgencias                 35645\n",
       "pediatria urgencias              35159\n",
       "ortopedia                        27464\n",
       "uci urgencias                    22509\n",
       "cirugia hombres                  20420\n",
       "consulta externa                 19641\n",
       "admision y sala de partos        19304\n",
       "observacion cirugia              16037\n",
       "consultorio 1                    15374\n",
       "pens 6                           15231\n",
       "unidad de cuidado intensivo 3    14317\n",
       "medica hombres                   13936\n",
       "anhelo de vida                   13083\n",
       "medica mujeres                   12396\n",
       "unidad de cuidado intensivo 4    12391\n",
       "unidad de cuidado intensivo 2    11175\n",
       "neurocirugia                     10594\n",
       "cirugia mujeres                   9796\n",
       "neuro uci                         9665\n",
       "dtype: int64"
      ]
     },
     "execution_count": 33,
     "metadata": {},
     "output_type": "execute_result"
    }
   ],
   "source": [
    "dfResLab.groupby([\"SALA\"]).size().sort_values(ascending=False).head(20)"
   ]
  },
  {
   "cell_type": "code",
   "execution_count": 34,
   "metadata": {
    "id": "uQkVX2Nkdgrc"
   },
   "outputs": [],
   "source": [
    "# standarize rooms\n",
    "import difflib "
   ]
  },
  {
   "cell_type": "code",
   "execution_count": 35,
   "metadata": {
    "colab": {
     "base_uri": "https://localhost:8080/"
    },
    "executionInfo": {
     "elapsed": 12,
     "status": "ok",
     "timestamp": 1654267971982,
     "user": {
      "displayName": "Angela Olarte",
      "userId": "04022086783241571381"
     },
     "user_tz": 300
    },
    "id": "DbYRXFUgdrSt",
    "outputId": "639ca244-31ae-4c29-c3af-0f093fbf97af"
   },
   "outputs": [
    {
     "data": {
      "text/plain": [
       "['ucim', 'uci 4', 'uci 3', 'uci 2']"
      ]
     },
     "execution_count": 35,
     "metadata": {},
     "output_type": "execute_result"
    }
   ],
   "source": [
    "lista1 = difflib.get_close_matches('recien nacidos', listasalas, n = 3, cutoff=0.6)\n",
    "lista2 = difflib.get_close_matches('cirena', listasalas, n = 1, cutoff=0.6)\n",
    "lista3 = difflib.get_close_matches('pediatria observacion urgencias', listasalas, n = 3, cutoff=0.6)\n",
    "lista4 = difflib.get_close_matches('pediatria general', listasalas, n = 1, cutoff=0.6)\n",
    "lista5 = difflib.get_close_matches('anhelo de vida pediatria', listasalas, n = 6, cutoff=0.6)\n",
    "lista6 = difflib.get_close_matches('cipaf uci cx pediatrica', listasalas, n = 3, cutoff=0.4)\n",
    "lista7 = difflib.get_close_matches('ana frank', listasalas, n = 1, cutoff=0.4)\n",
    "lista8 = difflib.get_close_matches('cons urgencias', listasalas, n = 4, cutoff=0.6)\n",
    "lista9 = difflib.get_close_matches('hombres', listasalas, n = 2, cutoff=0.6)\n",
    "lista10 = difflib.get_close_matches('mujeres', listasalas, n = 2, cutoff=0.6)\n",
    "lista11 = difflib.get_close_matches('unidad de trauma', listasalas, n = 1, cutoff=0.6)\n",
    "lista12 = difflib.get_close_matches('unidad de quemados', listasalas, n = 1, cutoff=0.6)\n",
    "lista13 = difflib.get_close_matches('observacion cirugia', listasalas, n = 1, cutoff=0.6)\n",
    "lista14 = difflib.get_close_matches('admision y partos', listasalas, n = 3, cutoff=0.4)\n",
    "lista15 = difflib.get_close_matches('obstetrico', listasalas, n = 2, cutoff=0.4)\n",
    "lista16 = difflib.get_close_matches('ortopedia', listasalas, n = 6, cutoff=0.6)\n",
    "lista17 = difflib.get_close_matches('consulta externa', listasalas, n = 6, cutoff=0.6)\n",
    "lista18 = difflib.get_close_matches('uci', listasalas, n = 6, cutoff=0.7)\n",
    "lista19 = difflib.get_close_matches('unidad de cuidados in', listasalas, n = 5, cutoff=0.5)\n",
    "lista18"
   ]
  },
  {
   "cell_type": "code",
   "execution_count": 36,
   "metadata": {
    "id": "5DgQlFDYPe_j"
   },
   "outputs": [],
   "source": [
    "room11 = {i:\"recien nacidos\" for i in lista1}\n",
    "room1 = {i:\"recien nacidos\" for i in lista2}\n",
    "room1.update(room11)\n",
    "room1\n",
    "room2 = {i:\"pediatria urgencias\" for i in lista3}\n",
    "room1.update(room2)\n",
    "room1\n",
    "room3 = {i:\"pediatria general\" for i in lista4}\n",
    "room1.update(room3)\n",
    "room1\n",
    "room4 = {i:\"anhelo de vida pediatria\" for i in lista5}\n",
    "room1.update(room4)\n",
    "room1\n",
    "room5 = {i:\"cipaf uci Pediátrica ana frank\" for i in lista6}\n",
    "room1.update(room5)\n",
    "room55 = {i:\"anhelo de vida pediatria\" for i in lista7}\n",
    "room1.update(room55)\n",
    "room6 = {i:\"urgencias\" for i in lista8}\n",
    "room1.update(room6)\n",
    "room7 = {i:\"sala hombres\" for i in lista9}\n",
    "room1.update(room7)\n",
    "room8 = {i:\"sala mujeres\" for i in lista10}\n",
    "room1.update(room8)\n",
    "room9 = {i:\"unidad de traumas\" for i in lista11}\n",
    "room1.update(room9)\n",
    "room10 = {i:\"unidad de quedamos\" for i in lista12}\n",
    "room1.update(room10)\n",
    "room11 = {i:\"observacion cirugia\" for i in lista13}\n",
    "room1.update(room11)\n",
    "room12 = {i:\"partos\" for i in lista14}\n",
    "room1.update(room12)\n",
    "room13 = {i:\"aro\" for i in lista15}\n",
    "room1.update(room13)\n",
    "room14 = {i:\"sala ortopedia\" for i in lista16}\n",
    "room1.update(room14)\n",
    "room15 = {i:\"consulta externa\" for i in lista17}\n",
    "room1.update(room15)"
   ]
  },
  {
   "cell_type": "code",
   "execution_count": 37,
   "metadata": {
    "colab": {
     "base_uri": "https://localhost:8080/"
    },
    "executionInfo": {
     "elapsed": 8,
     "status": "ok",
     "timestamp": 1654267972246,
     "user": {
      "displayName": "Angela Olarte",
      "userId": "04022086783241571381"
     },
     "user_tz": 300
    },
    "id": "PqPNY1Aavmlm",
    "outputId": "c1354446-e1ca-42b7-8a64-de13ab19ded4"
   },
   "outputs": [
    {
     "data": {
      "text/html": [
       "<div>\n",
       "<style scoped>\n",
       "    .dataframe tbody tr th:only-of-type {\n",
       "        vertical-align: middle;\n",
       "    }\n",
       "\n",
       "    .dataframe tbody tr th {\n",
       "        vertical-align: top;\n",
       "    }\n",
       "\n",
       "    .dataframe thead th {\n",
       "        text-align: right;\n",
       "    }\n",
       "</style>\n",
       "<table border=\"1\" class=\"dataframe\">\n",
       "  <thead>\n",
       "    <tr style=\"text-align: right;\">\n",
       "      <th></th>\n",
       "      <th>FECHA DE TOMA DE MUESTRA</th>\n",
       "      <th>IDENTIFICACION</th>\n",
       "      <th>CODIGO DE LA MUESTRA</th>\n",
       "      <th>FECHA DE NACIMIENTO</th>\n",
       "      <th>GENERO</th>\n",
       "      <th>TIPO DE MUESTRA</th>\n",
       "      <th>SALA</th>\n",
       "      <th>MICROORGANISMO</th>\n",
       "      <th>ANTIBIOTICO</th>\n",
       "      <th>SENSIBLE / RESISTENTE / INTERMEDIO</th>\n",
       "      <th>LA CONCENTRACION MINIMA O MAX</th>\n",
       "      <th>HOSPILTAL</th>\n",
       "      <th>NUMERO DE AISLAMIENTO</th>\n",
       "      <th>ESBL (+ es blee )</th>\n",
       "      <th>THM</th>\n",
       "      <th>APB (boronico)</th>\n",
       "      <th>EDTA (si son positivas o negativas)</th>\n",
       "      <th>FAMILIA_MICROORGANISMO</th>\n",
       "      <th>SALAESTANDAR</th>\n",
       "    </tr>\n",
       "  </thead>\n",
       "  <tbody>\n",
       "    <tr>\n",
       "      <th>0</th>\n",
       "      <td>2013-12-10</td>\n",
       "      <td>2232117</td>\n",
       "      <td>13-11366-S</td>\n",
       "      <td>SIN DATO</td>\n",
       "      <td>SIN ESPECIFICAR</td>\n",
       "      <td>HEMOCULTIVO PUNCION PERIFERICA</td>\n",
       "      <td>recien nacidos (cirena)</td>\n",
       "      <td>Escherichia coli</td>\n",
       "      <td>Amikacina</td>\n",
       "      <td>S</td>\n",
       "      <td>&lt;=8</td>\n",
       "      <td>HOSPITAL UNIVERSITARIO DEL VALLE</td>\n",
       "      <td>1</td>\n",
       "      <td>SIN ESPECIFICAR</td>\n",
       "      <td>SIN ESPECIFICAR</td>\n",
       "      <td>SIN ESPECIFICAR</td>\n",
       "      <td>SIN ESPECIFICAR</td>\n",
       "      <td>Enterobacteriales</td>\n",
       "      <td>recien nacidos</td>\n",
       "    </tr>\n",
       "    <tr>\n",
       "      <th>1</th>\n",
       "      <td>2013-12-10</td>\n",
       "      <td>2232117</td>\n",
       "      <td>13-11366-S</td>\n",
       "      <td>SIN DATO</td>\n",
       "      <td>SIN ESPECIFICAR</td>\n",
       "      <td>HEMOCULTIVO PUNCION PERIFERICA</td>\n",
       "      <td>recien nacidos (cirena)</td>\n",
       "      <td>Escherichia coli</td>\n",
       "      <td>Amoxicilina-Clavulanato</td>\n",
       "      <td>S</td>\n",
       "      <td>8/4</td>\n",
       "      <td>HOSPITAL UNIVERSITARIO DEL VALLE</td>\n",
       "      <td>1</td>\n",
       "      <td>SIN ESPECIFICAR</td>\n",
       "      <td>SIN ESPECIFICAR</td>\n",
       "      <td>SIN ESPECIFICAR</td>\n",
       "      <td>SIN ESPECIFICAR</td>\n",
       "      <td>Enterobacteriales</td>\n",
       "      <td>recien nacidos</td>\n",
       "    </tr>\n",
       "    <tr>\n",
       "      <th>2</th>\n",
       "      <td>2013-12-10</td>\n",
       "      <td>2232117</td>\n",
       "      <td>13-11366-S</td>\n",
       "      <td>SIN DATO</td>\n",
       "      <td>SIN ESPECIFICAR</td>\n",
       "      <td>HEMOCULTIVO PUNCION PERIFERICA</td>\n",
       "      <td>recien nacidos (cirena)</td>\n",
       "      <td>Escherichia coli</td>\n",
       "      <td>Ampicilina</td>\n",
       "      <td>R</td>\n",
       "      <td>&gt;16</td>\n",
       "      <td>HOSPITAL UNIVERSITARIO DEL VALLE</td>\n",
       "      <td>1</td>\n",
       "      <td>SIN ESPECIFICAR</td>\n",
       "      <td>SIN ESPECIFICAR</td>\n",
       "      <td>SIN ESPECIFICAR</td>\n",
       "      <td>SIN ESPECIFICAR</td>\n",
       "      <td>Enterobacteriales</td>\n",
       "      <td>recien nacidos</td>\n",
       "    </tr>\n",
       "    <tr>\n",
       "      <th>3</th>\n",
       "      <td>2013-12-10</td>\n",
       "      <td>2232117</td>\n",
       "      <td>13-11366-S</td>\n",
       "      <td>SIN DATO</td>\n",
       "      <td>SIN ESPECIFICAR</td>\n",
       "      <td>HEMOCULTIVO PUNCION PERIFERICA</td>\n",
       "      <td>recien nacidos (cirena)</td>\n",
       "      <td>Escherichia coli</td>\n",
       "      <td>Aztreonam</td>\n",
       "      <td>S</td>\n",
       "      <td>&lt;=2</td>\n",
       "      <td>HOSPITAL UNIVERSITARIO DEL VALLE</td>\n",
       "      <td>1</td>\n",
       "      <td>SIN ESPECIFICAR</td>\n",
       "      <td>SIN ESPECIFICAR</td>\n",
       "      <td>SIN ESPECIFICAR</td>\n",
       "      <td>SIN ESPECIFICAR</td>\n",
       "      <td>Enterobacteriales</td>\n",
       "      <td>recien nacidos</td>\n",
       "    </tr>\n",
       "    <tr>\n",
       "      <th>4</th>\n",
       "      <td>2013-12-10</td>\n",
       "      <td>2232117</td>\n",
       "      <td>13-11366-S</td>\n",
       "      <td>SIN DATO</td>\n",
       "      <td>SIN ESPECIFICAR</td>\n",
       "      <td>HEMOCULTIVO PUNCION PERIFERICA</td>\n",
       "      <td>recien nacidos (cirena)</td>\n",
       "      <td>Escherichia coli</td>\n",
       "      <td>Cefalotina</td>\n",
       "      <td>I</td>\n",
       "      <td>16</td>\n",
       "      <td>HOSPITAL UNIVERSITARIO DEL VALLE</td>\n",
       "      <td>1</td>\n",
       "      <td>SIN ESPECIFICAR</td>\n",
       "      <td>SIN ESPECIFICAR</td>\n",
       "      <td>SIN ESPECIFICAR</td>\n",
       "      <td>SIN ESPECIFICAR</td>\n",
       "      <td>Enterobacteriales</td>\n",
       "      <td>recien nacidos</td>\n",
       "    </tr>\n",
       "    <tr>\n",
       "      <th>...</th>\n",
       "      <td>...</td>\n",
       "      <td>...</td>\n",
       "      <td>...</td>\n",
       "      <td>...</td>\n",
       "      <td>...</td>\n",
       "      <td>...</td>\n",
       "      <td>...</td>\n",
       "      <td>...</td>\n",
       "      <td>...</td>\n",
       "      <td>...</td>\n",
       "      <td>...</td>\n",
       "      <td>...</td>\n",
       "      <td>...</td>\n",
       "      <td>...</td>\n",
       "      <td>...</td>\n",
       "      <td>...</td>\n",
       "      <td>...</td>\n",
       "      <td>...</td>\n",
       "      <td>...</td>\n",
       "    </tr>\n",
       "    <tr>\n",
       "      <th>546438</th>\n",
       "      <td>2021-07-30</td>\n",
       "      <td>30744000</td>\n",
       "      <td>107300456.57</td>\n",
       "      <td>04/07/1969</td>\n",
       "      <td>Femenino</td>\n",
       "      <td>SEC. PIEL Y TEJIDOS BLANDOS</td>\n",
       "      <td>unidad de cuidado intensivo 4</td>\n",
       "      <td>Pseudomonas aeruginosa</td>\n",
       "      <td>Tigeciclina</td>\n",
       "      <td>SIN ESPECIFICAR</td>\n",
       "      <td>&gt;4</td>\n",
       "      <td>HOSPITAL UNIVERSITARIO DEL VALLE</td>\n",
       "      <td>1</td>\n",
       "      <td>SIN ESPECIFICAR</td>\n",
       "      <td>SIN ESPECIFICAR</td>\n",
       "      <td>SIN ESPECIFICAR</td>\n",
       "      <td>SIN ESPECIFICAR</td>\n",
       "      <td>Pseudomonadaceae</td>\n",
       "      <td></td>\n",
       "    </tr>\n",
       "    <tr>\n",
       "      <th>546439</th>\n",
       "      <td>2021-07-30</td>\n",
       "      <td>30744000</td>\n",
       "      <td>107300456.57</td>\n",
       "      <td>04/07/1969</td>\n",
       "      <td>Femenino</td>\n",
       "      <td>SEC. PIEL Y TEJIDOS BLANDOS</td>\n",
       "      <td>unidad de cuidado intensivo 4</td>\n",
       "      <td>Pseudomonas aeruginosa</td>\n",
       "      <td>Trimetoprim-Sulfametoxazol</td>\n",
       "      <td>SIN ESPECIFICAR</td>\n",
       "      <td>4/76</td>\n",
       "      <td>HOSPITAL UNIVERSITARIO DEL VALLE</td>\n",
       "      <td>1</td>\n",
       "      <td>SIN ESPECIFICAR</td>\n",
       "      <td>SIN ESPECIFICAR</td>\n",
       "      <td>SIN ESPECIFICAR</td>\n",
       "      <td>SIN ESPECIFICAR</td>\n",
       "      <td>Pseudomonadaceae</td>\n",
       "      <td></td>\n",
       "    </tr>\n",
       "    <tr>\n",
       "      <th>546440</th>\n",
       "      <td>2021-10-29</td>\n",
       "      <td>24999535</td>\n",
       "      <td>110290032.35</td>\n",
       "      <td>25/10/1955</td>\n",
       "      <td>Femenino</td>\n",
       "      <td>Orina</td>\n",
       "      <td>4 piso uci trasplantes</td>\n",
       "      <td>Candida guilliermondii</td>\n",
       "      <td>SIN ESPECIFICAR</td>\n",
       "      <td>SIN ESPECIFICAR</td>\n",
       "      <td>SIN ESPECIFICAR</td>\n",
       "      <td>HOSPITAL UNIVERSITARIO DEL VALLE</td>\n",
       "      <td>1</td>\n",
       "      <td>SIN ESPECIFICAR</td>\n",
       "      <td>SIN ESPECIFICAR</td>\n",
       "      <td>SIN ESPECIFICAR</td>\n",
       "      <td>SIN ESPECIFICAR</td>\n",
       "      <td>Candidas</td>\n",
       "      <td></td>\n",
       "    </tr>\n",
       "    <tr>\n",
       "      <th>546441</th>\n",
       "      <td>2021-03-28</td>\n",
       "      <td>1239688398</td>\n",
       "      <td>103280420.35</td>\n",
       "      <td>04/09/2020</td>\n",
       "      <td>Masculino</td>\n",
       "      <td>ORINA POR SONDA VESICAL</td>\n",
       "      <td>pediatria urgencias</td>\n",
       "      <td>Escherichia coli</td>\n",
       "      <td>Amikacina</td>\n",
       "      <td>S</td>\n",
       "      <td>&lt;=8</td>\n",
       "      <td>HOSPITAL UNIVERSITARIO DEL VALLE</td>\n",
       "      <td>1</td>\n",
       "      <td>+</td>\n",
       "      <td>SIN ESPECIFICAR</td>\n",
       "      <td>SIN ESPECIFICAR</td>\n",
       "      <td>SIN ESPECIFICAR</td>\n",
       "      <td>Enterobacteriales</td>\n",
       "      <td>pediatria urgencias</td>\n",
       "    </tr>\n",
       "    <tr>\n",
       "      <th>546442</th>\n",
       "      <td>2021-03-28</td>\n",
       "      <td>1239688398</td>\n",
       "      <td>103280420.35</td>\n",
       "      <td>04/09/2020</td>\n",
       "      <td>Masculino</td>\n",
       "      <td>ORINA POR SONDA VESICAL</td>\n",
       "      <td>pediatria urgencias</td>\n",
       "      <td>Escherichia coli</td>\n",
       "      <td>Ampicilina</td>\n",
       "      <td>R</td>\n",
       "      <td>&gt;16</td>\n",
       "      <td>HOSPITAL UNIVERSITARIO DEL VALLE</td>\n",
       "      <td>1</td>\n",
       "      <td>+</td>\n",
       "      <td>SIN ESPECIFICAR</td>\n",
       "      <td>SIN ESPECIFICAR</td>\n",
       "      <td>SIN ESPECIFICAR</td>\n",
       "      <td>Enterobacteriales</td>\n",
       "      <td>pediatria urgencias</td>\n",
       "    </tr>\n",
       "  </tbody>\n",
       "</table>\n",
       "<p>546443 rows × 19 columns</p>\n",
       "</div>"
      ],
      "text/plain": [
       "       FECHA DE TOMA DE MUESTRA IDENTIFICACION CODIGO DE LA MUESTRA  \\\n",
       "0                    2013-12-10        2232117           13-11366-S   \n",
       "1                    2013-12-10        2232117           13-11366-S   \n",
       "2                    2013-12-10        2232117           13-11366-S   \n",
       "3                    2013-12-10        2232117           13-11366-S   \n",
       "4                    2013-12-10        2232117           13-11366-S   \n",
       "...                         ...            ...                  ...   \n",
       "546438               2021-07-30       30744000         107300456.57   \n",
       "546439               2021-07-30       30744000         107300456.57   \n",
       "546440               2021-10-29       24999535         110290032.35   \n",
       "546441               2021-03-28     1239688398         103280420.35   \n",
       "546442               2021-03-28     1239688398         103280420.35   \n",
       "\n",
       "       FECHA DE NACIMIENTO           GENERO                 TIPO DE MUESTRA  \\\n",
       "0                 SIN DATO  SIN ESPECIFICAR  HEMOCULTIVO PUNCION PERIFERICA   \n",
       "1                 SIN DATO  SIN ESPECIFICAR  HEMOCULTIVO PUNCION PERIFERICA   \n",
       "2                 SIN DATO  SIN ESPECIFICAR  HEMOCULTIVO PUNCION PERIFERICA   \n",
       "3                 SIN DATO  SIN ESPECIFICAR  HEMOCULTIVO PUNCION PERIFERICA   \n",
       "4                 SIN DATO  SIN ESPECIFICAR  HEMOCULTIVO PUNCION PERIFERICA   \n",
       "...                    ...              ...                             ...   \n",
       "546438          04/07/1969         Femenino     SEC. PIEL Y TEJIDOS BLANDOS   \n",
       "546439          04/07/1969         Femenino     SEC. PIEL Y TEJIDOS BLANDOS   \n",
       "546440          25/10/1955         Femenino                           Orina   \n",
       "546441          04/09/2020        Masculino         ORINA POR SONDA VESICAL   \n",
       "546442          04/09/2020        Masculino         ORINA POR SONDA VESICAL   \n",
       "\n",
       "                                 SALA          MICROORGANISMO  \\\n",
       "0             recien nacidos (cirena)        Escherichia coli   \n",
       "1             recien nacidos (cirena)        Escherichia coli   \n",
       "2             recien nacidos (cirena)        Escherichia coli   \n",
       "3             recien nacidos (cirena)        Escherichia coli   \n",
       "4             recien nacidos (cirena)        Escherichia coli   \n",
       "...                               ...                     ...   \n",
       "546438  unidad de cuidado intensivo 4  Pseudomonas aeruginosa   \n",
       "546439  unidad de cuidado intensivo 4  Pseudomonas aeruginosa   \n",
       "546440         4 piso uci trasplantes  Candida guilliermondii   \n",
       "546441            pediatria urgencias        Escherichia coli   \n",
       "546442            pediatria urgencias        Escherichia coli   \n",
       "\n",
       "                       ANTIBIOTICO SENSIBLE / RESISTENTE / INTERMEDIO  \\\n",
       "0                        Amikacina                                  S   \n",
       "1          Amoxicilina-Clavulanato                                  S   \n",
       "2                       Ampicilina                                  R   \n",
       "3                        Aztreonam                                  S   \n",
       "4                       Cefalotina                                  I   \n",
       "...                            ...                                ...   \n",
       "546438                 Tigeciclina                    SIN ESPECIFICAR   \n",
       "546439  Trimetoprim-Sulfametoxazol                    SIN ESPECIFICAR   \n",
       "546440             SIN ESPECIFICAR                    SIN ESPECIFICAR   \n",
       "546441                   Amikacina                                  S   \n",
       "546442                  Ampicilina                                  R   \n",
       "\n",
       "       LA CONCENTRACION MINIMA O MAX                         HOSPILTAL  \\\n",
       "0                                <=8  HOSPITAL UNIVERSITARIO DEL VALLE   \n",
       "1                                8/4  HOSPITAL UNIVERSITARIO DEL VALLE   \n",
       "2                                >16  HOSPITAL UNIVERSITARIO DEL VALLE   \n",
       "3                                <=2  HOSPITAL UNIVERSITARIO DEL VALLE   \n",
       "4                                 16  HOSPITAL UNIVERSITARIO DEL VALLE   \n",
       "...                              ...                               ...   \n",
       "546438                            >4  HOSPITAL UNIVERSITARIO DEL VALLE   \n",
       "546439                          4/76  HOSPITAL UNIVERSITARIO DEL VALLE   \n",
       "546440               SIN ESPECIFICAR  HOSPITAL UNIVERSITARIO DEL VALLE   \n",
       "546441                           <=8  HOSPITAL UNIVERSITARIO DEL VALLE   \n",
       "546442                           >16  HOSPITAL UNIVERSITARIO DEL VALLE   \n",
       "\n",
       "        NUMERO DE AISLAMIENTO ESBL (+ es blee )              THM  \\\n",
       "0                           1   SIN ESPECIFICAR  SIN ESPECIFICAR   \n",
       "1                           1   SIN ESPECIFICAR  SIN ESPECIFICAR   \n",
       "2                           1   SIN ESPECIFICAR  SIN ESPECIFICAR   \n",
       "3                           1   SIN ESPECIFICAR  SIN ESPECIFICAR   \n",
       "4                           1   SIN ESPECIFICAR  SIN ESPECIFICAR   \n",
       "...                       ...               ...              ...   \n",
       "546438                      1   SIN ESPECIFICAR  SIN ESPECIFICAR   \n",
       "546439                      1   SIN ESPECIFICAR  SIN ESPECIFICAR   \n",
       "546440                      1   SIN ESPECIFICAR  SIN ESPECIFICAR   \n",
       "546441                      1                 +  SIN ESPECIFICAR   \n",
       "546442                      1                 +  SIN ESPECIFICAR   \n",
       "\n",
       "         APB (boronico) EDTA (si son positivas o negativas)  \\\n",
       "0       SIN ESPECIFICAR                     SIN ESPECIFICAR   \n",
       "1       SIN ESPECIFICAR                     SIN ESPECIFICAR   \n",
       "2       SIN ESPECIFICAR                     SIN ESPECIFICAR   \n",
       "3       SIN ESPECIFICAR                     SIN ESPECIFICAR   \n",
       "4       SIN ESPECIFICAR                     SIN ESPECIFICAR   \n",
       "...                 ...                                 ...   \n",
       "546438  SIN ESPECIFICAR                     SIN ESPECIFICAR   \n",
       "546439  SIN ESPECIFICAR                     SIN ESPECIFICAR   \n",
       "546440  SIN ESPECIFICAR                     SIN ESPECIFICAR   \n",
       "546441  SIN ESPECIFICAR                     SIN ESPECIFICAR   \n",
       "546442  SIN ESPECIFICAR                     SIN ESPECIFICAR   \n",
       "\n",
       "       FAMILIA_MICROORGANISMO         SALAESTANDAR  \n",
       "0           Enterobacteriales       recien nacidos  \n",
       "1           Enterobacteriales       recien nacidos  \n",
       "2           Enterobacteriales       recien nacidos  \n",
       "3           Enterobacteriales       recien nacidos  \n",
       "4           Enterobacteriales       recien nacidos  \n",
       "...                       ...                  ...  \n",
       "546438       Pseudomonadaceae                       \n",
       "546439       Pseudomonadaceae                       \n",
       "546440               Candidas                       \n",
       "546441      Enterobacteriales  pediatria urgencias  \n",
       "546442      Enterobacteriales  pediatria urgencias  \n",
       "\n",
       "[546443 rows x 19 columns]"
      ]
     },
     "execution_count": 37,
     "metadata": {},
     "output_type": "execute_result"
    }
   ],
   "source": [
    "dfResLab['SALAESTANDAR'] = dfResLab['SALA'].apply(lambda x: room1.get(x)).fillna('')\n",
    "dfResLab"
   ]
  },
  {
   "cell_type": "markdown",
   "metadata": {
    "id": "Ap_XjQLhpDhi"
   },
   "source": [
    "## FILTER AND PLOTING MICROORGANISM VARIABLE"
   ]
  },
  {
   "cell_type": "code",
   "execution_count": 38,
   "metadata": {
    "id": "DJSBzWb8o4CL"
   },
   "outputs": [],
   "source": [
    "# Dataset filter by str.contains 'HOSPITAL UNIVERSIT' concat with 'HUV'\n",
    "dataframenew= dfResLab[dfResLab.HOSPILTAL.str.contains('HOSPITAL UNIVERSIT', na= False)]\n",
    "dataframenew2 = dfResLab[dfResLab.HOSPILTAL.str.contains('HUV', na= False)]"
   ]
  },
  {
   "cell_type": "code",
   "execution_count": 39,
   "metadata": {
    "id": "sjPujY_PpG9a"
   },
   "outputs": [],
   "source": [
    "dfJoin = pd.concat([dataframenew,dataframenew2], ignore_index=False)"
   ]
  },
  {
   "cell_type": "code",
   "execution_count": 40,
   "metadata": {
    "colab": {
     "base_uri": "https://localhost:8080/"
    },
    "executionInfo": {
     "elapsed": 17,
     "status": "ok",
     "timestamp": 1654267973118,
     "user": {
      "displayName": "Angela Olarte",
      "userId": "04022086783241571381"
     },
     "user_tz": 300
    },
    "id": "ZdS0eok6pG0y",
    "outputId": "c8184847-8732-4d74-a736-4fa2ef24a0e3"
   },
   "outputs": [
    {
     "data": {
      "text/plain": [
       "array(['HOSPITAL UNIVERSITARIO DEL VALLE', 'HOSPITAL UNIVERSIT.'],\n",
       "      dtype=object)"
      ]
     },
     "execution_count": 40,
     "metadata": {},
     "output_type": "execute_result"
    }
   ],
   "source": [
    "dfJoin['HOSPILTAL'].unique()"
   ]
  },
  {
   "cell_type": "code",
   "execution_count": 41,
   "metadata": {
    "colab": {
     "base_uri": "https://localhost:8080/"
    },
    "executionInfo": {
     "elapsed": 14,
     "status": "ok",
     "timestamp": 1654267973118,
     "user": {
      "displayName": "Angela Olarte",
      "userId": "04022086783241571381"
     },
     "user_tz": 300
    },
    "id": "6--nAa8OpGtr",
    "outputId": "ac8f0df2-c4f3-49c9-e789-4b4b013b69c0"
   },
   "outputs": [
    {
     "data": {
      "text/plain": [
       "17487"
      ]
     },
     "execution_count": 41,
     "metadata": {},
     "output_type": "execute_result"
    }
   ],
   "source": [
    "df5 = dfJoin.groupby([\"CODIGO DE LA MUESTRA\",'MICROORGANISMO']).size()\n",
    "df6 = df5.reset_index(level=['MICROORGANISMO'])\n",
    "df7 = df6['MICROORGANISMO'].value_counts().head(20)\n",
    "df6['MICROORGANISMO'].value_counts().sum()"
   ]
  },
  {
   "cell_type": "code",
   "execution_count": 42,
   "metadata": {
    "colab": {
     "base_uri": "https://localhost:8080/",
     "height": 513
    },
    "executionInfo": {
     "elapsed": 679,
     "status": "ok",
     "timestamp": 1654267973792,
     "user": {
      "displayName": "Angela Olarte",
      "userId": "04022086783241571381"
     },
     "user_tz": 300
    },
    "id": "yO-Kv9lgohiz",
    "outputId": "2e319af7-c69c-4c29-e4bd-bfe37b7f2cef"
   },
   "outputs": [
    {
     "data": {
      "image/png": "[encoded data removed]",
      "text/plain": [
       "<Figure size 432x288 with 1 Axes>"
      ]
     },
     "metadata": {
      "needs_background": "light"
     },
     "output_type": "display_data"
    }
   ],
   "source": [
    "sns.barplot(df7.values, df7.index)\n",
    "plt.title('TOP 20 MICROORGANISMOS')\n",
    "plt.ylabel('Microorganismo')\n",
    "plt.xlabel('Frequencia')\n",
    "plt.rcParams[\"figure.figsize\"] = [8, 8]\n",
    "plt.show()"
   ]
  },
  {
   "cell_type": "code",
   "execution_count": 43,
   "metadata": {
    "colab": {
     "base_uri": "https://localhost:8080/"
    },
    "executionInfo": {
     "elapsed": 9,
     "status": "ok",
     "timestamp": 1654267973793,
     "user": {
      "displayName": "Angela Olarte",
      "userId": "04022086783241571381"
     },
     "user_tz": 300
    },
    "id": "ZGQKjo9oy_1Z",
    "outputId": "e69865ee-4cca-43bb-a98e-7ad83364451f"
   },
   "outputs": [
    {
     "data": {
      "text/plain": [
       "33061"
      ]
     },
     "execution_count": 43,
     "metadata": {},
     "output_type": "execute_result"
    }
   ],
   "source": [
    "# dataset without filters\n",
    "df5 = dfResLab.groupby([\"CODIGO DE LA MUESTRA\",'MICROORGANISMO']).size()\n",
    "df6 = df5.reset_index(level=['MICROORGANISMO'])\n",
    "df7 = df6['MICROORGANISMO'].value_counts().head(20)\n",
    "df6['MICROORGANISMO'].value_counts().sum()"
   ]
  },
  {
   "cell_type": "code",
   "execution_count": 44,
   "metadata": {
    "colab": {
     "base_uri": "https://localhost:8080/",
     "height": 585
    },
    "executionInfo": {
     "elapsed": 474,
     "status": "ok",
     "timestamp": 1654267974262,
     "user": {
      "displayName": "Angela Olarte",
      "userId": "04022086783241571381"
     },
     "user_tz": 300
    },
    "id": "nu3sNH_s9lAQ",
    "outputId": "05e341e7-5bd2-4e3d-8e7d-0f801b385e72"
   },
   "outputs": [
    {
     "data": {
      "image/png": "[encoded data removed]",
      "text/plain": [
       "<Figure size 576x576 with 1 Axes>"
      ]
     },
     "metadata": {
      "needs_background": "light"
     },
     "output_type": "display_data"
    }
   ],
   "source": [
    "plt.rcParams[\"figure.figsize\"] = [8, 8]\n",
    "plt.rcParams[\"figure.autolayout\"] = True\n",
    "\n",
    "fig, ax = plt.subplots()\n",
    "\n",
    "df6['MICROORGANISMO'].value_counts().head(20).plot(ax=ax, kind='bar', xlabel='Microorganismos', ylabel='Frequencia')\n",
    "plt.title('Microorganismos más identificados')\n",
    "plt.grid(True)\n",
    "\n",
    "plt.show()"
   ]
  },
  {
   "cell_type": "code",
   "execution_count": 45,
   "metadata": {
    "colab": {
     "base_uri": "https://localhost:8080/"
    },
    "executionInfo": {
     "elapsed": 650,
     "status": "ok",
     "timestamp": 1654267974906,
     "user": {
      "displayName": "Angela Olarte",
      "userId": "04022086783241571381"
     },
     "user_tz": 300
    },
    "id": "UNAk70-mxmts",
    "outputId": "a788b597-e0d4-4fb3-dde3-b6224fe79d00"
   },
   "outputs": [
    {
     "data": {
      "image/png": "[encoded data removed]",
      "text/plain": [
       "<Figure size 576x576 with 1 Axes>"
      ]
     },
     "metadata": {
      "needs_background": "light"
     },
     "output_type": "display_data"
    }
   ],
   "source": [
    "df7 = df6['MICROORGANISMO'].value_counts().head(20)\n",
    "plt.barh(df7.index,df7.values)\n",
    "plt.title('Microorganismos más identificados')\n",
    "plt.ylabel('Microorganismo')\n",
    "plt.xlabel('Frequencia')\n",
    "plt.rcParams[\"figure.figsize\"] = [8, 8]\n",
    "plt.rcParams[\"figure.autolayout\"] = True\n",
    "plt.grid(True)\n",
    "plt.show()\n"
   ]
  },
  {
   "cell_type": "markdown",
   "metadata": {
    "id": "LxwItJFkpe30"
   },
   "source": [
    "----"
   ]
  },
  {
   "cell_type": "markdown",
   "metadata": {
    "id": "KAipAcbxph8D"
   },
   "source": [
    "# EDA DATASET HEALTH EVENTS OF COMPULSORY NOTIFICATION"
   ]
  },
  {
   "cell_type": "code",
   "execution_count": 46,
   "metadata": {
    "colab": {
     "base_uri": "https://localhost:8080/"
    },
    "executionInfo": {
     "elapsed": 23,
     "status": "ok",
     "timestamp": 1654267974907,
     "user": {
      "displayName": "Angela Olarte",
      "userId": "04022086783241571381"
     },
     "user_tz": 300
    },
    "id": "g1ZX7Fx4peni",
    "outputId": "3818a6f2-6282-4203-ee4d-ee29fbc3e45e"
   },
   "outputs": [
    {
     "data": {
      "text/plain": [
       "(32430, 72)"
      ]
     },
     "execution_count": 46,
     "metadata": {},
     "output_type": "execute_result"
    }
   ],
   "source": [
    "#dimensions of the dataset Notificaciones\n",
    "nrowNot, ncolNot = dfNotObl.shape\n",
    "nrowNot, ncolNot"
   ]
  },
  {
   "cell_type": "code",
   "execution_count": 47,
   "metadata": {
    "colab": {
     "base_uri": "https://localhost:8080/"
    },
    "executionInfo": {
     "elapsed": 15,
     "status": "ok",
     "timestamp": 1654267974908,
     "user": {
      "displayName": "Angela Olarte",
      "userId": "04022086783241571381"
     },
     "user_tz": 300
    },
    "id": "oaolB6aOpkxQ",
    "outputId": "5122ca87-4b9e-4c35-f44a-f40596fa69b0"
   },
   "outputs": [
    {
     "data": {
      "text/html": [
       "<div>\n",
       "<style scoped>\n",
       "    .dataframe tbody tr th:only-of-type {\n",
       "        vertical-align: middle;\n",
       "    }\n",
       "\n",
       "    .dataframe tbody tr th {\n",
       "        vertical-align: top;\n",
       "    }\n",
       "\n",
       "    .dataframe thead th {\n",
       "        text-align: right;\n",
       "    }\n",
       "</style>\n",
       "<table border=\"1\" class=\"dataframe\">\n",
       "  <thead>\n",
       "    <tr style=\"text-align: right;\">\n",
       "      <th></th>\n",
       "      <th>CÓDIGO DEL EVENTO</th>\n",
       "      <th>FECHA NOTIFICACIÓN</th>\n",
       "      <th>SEMANA</th>\n",
       "      <th>AÑO</th>\n",
       "      <th>COD_PRE</th>\n",
       "      <th>COD_SUB</th>\n",
       "      <th>TIPO IDENTIFICACIÓN</th>\n",
       "      <th>IDENTIFICACION</th>\n",
       "      <th>EDAD</th>\n",
       "      <th>UNIDAD DE MEDIDA</th>\n",
       "      <th>...</th>\n",
       "      <th>NOM_UPGD</th>\n",
       "      <th>PAÍS_PROCENCIA</th>\n",
       "      <th>DEPTO_PROCEDENCIA</th>\n",
       "      <th>MUN_PROCEDENCIA</th>\n",
       "      <th>PAÍS_RESIDENCIA</th>\n",
       "      <th>DEPTO_RESIDENCIA</th>\n",
       "      <th>MUN_RESIDENCIA</th>\n",
       "      <th>DEPTO_ NOTIFICACIÓN</th>\n",
       "      <th>MUN_NOTIFICACIÓN</th>\n",
       "      <th>NREG</th>\n",
       "    </tr>\n",
       "  </thead>\n",
       "  <tbody>\n",
       "    <tr>\n",
       "      <th>0</th>\n",
       "      <td>115</td>\n",
       "      <td>3/07/2015</td>\n",
       "      <td>1</td>\n",
       "      <td>2015</td>\n",
       "      <td>7600103799</td>\n",
       "      <td>1</td>\n",
       "      <td>RC</td>\n",
       "      <td>1114159144</td>\n",
       "      <td>2</td>\n",
       "      <td>1</td>\n",
       "      <td>...</td>\n",
       "      <td>HOSPITAL UNIVERSITARIO DEL VALLE EVARISTO GARCIA</td>\n",
       "      <td>COLOMBIA</td>\n",
       "      <td>VALLE</td>\n",
       "      <td>CARTAGO</td>\n",
       "      <td>COLOMBIA</td>\n",
       "      <td>VALLE</td>\n",
       "      <td>CARTAGO</td>\n",
       "      <td>VALLE</td>\n",
       "      <td>CALI</td>\n",
       "      <td>2204</td>\n",
       "    </tr>\n",
       "    <tr>\n",
       "      <th>1</th>\n",
       "      <td>115</td>\n",
       "      <td>3/07/2015</td>\n",
       "      <td>1</td>\n",
       "      <td>2015</td>\n",
       "      <td>7600103799</td>\n",
       "      <td>1</td>\n",
       "      <td>TI</td>\n",
       "      <td>1006208411</td>\n",
       "      <td>12</td>\n",
       "      <td>1</td>\n",
       "      <td>...</td>\n",
       "      <td>HOSPITAL UNIVERSITARIO DEL VALLE EVARISTO GARCIA</td>\n",
       "      <td>COLOMBIA</td>\n",
       "      <td>CAUCA</td>\n",
       "      <td>TIMBIO</td>\n",
       "      <td>COLOMBIA</td>\n",
       "      <td>VALLE</td>\n",
       "      <td>CALI</td>\n",
       "      <td>VALLE</td>\n",
       "      <td>CALI</td>\n",
       "      <td>2053</td>\n",
       "    </tr>\n",
       "  </tbody>\n",
       "</table>\n",
       "<p>2 rows × 72 columns</p>\n",
       "</div>"
      ],
      "text/plain": [
       "   CÓDIGO DEL EVENTO FECHA NOTIFICACIÓN  SEMANA   AÑO     COD_PRE  COD_SUB  \\\n",
       "0                115          3/07/2015       1  2015  7600103799        1   \n",
       "1                115          3/07/2015       1  2015  7600103799        1   \n",
       "\n",
       "  TIPO IDENTIFICACIÓN IDENTIFICACION  EDAD  UNIDAD DE MEDIDA  ...  \\\n",
       "0                  RC     1114159144     2                 1  ...   \n",
       "1                  TI     1006208411    12                 1  ...   \n",
       "\n",
       "                                           NOM_UPGD PAÍS_PROCENCIA  \\\n",
       "0  HOSPITAL UNIVERSITARIO DEL VALLE EVARISTO GARCIA       COLOMBIA   \n",
       "1  HOSPITAL UNIVERSITARIO DEL VALLE EVARISTO GARCIA       COLOMBIA   \n",
       "\n",
       "  DEPTO_PROCEDENCIA MUN_PROCEDENCIA PAÍS_RESIDENCIA  DEPTO_RESIDENCIA  \\\n",
       "0             VALLE         CARTAGO        COLOMBIA             VALLE   \n",
       "1             CAUCA          TIMBIO        COLOMBIA             VALLE   \n",
       "\n",
       "  MUN_RESIDENCIA DEPTO_ NOTIFICACIÓN MUN_NOTIFICACIÓN   NREG  \n",
       "0        CARTAGO               VALLE              CALI  2204  \n",
       "1           CALI               VALLE              CALI  2053  \n",
       "\n",
       "[2 rows x 72 columns]"
      ]
     },
     "execution_count": 47,
     "metadata": {},
     "output_type": "execute_result"
    }
   ],
   "source": [
    "dfNotObl.head(2)"
   ]
  },
  {
   "cell_type": "code",
   "execution_count": 48,
   "metadata": {
    "id": "ZPLuv34ipku1"
   },
   "outputs": [],
   "source": [
    "# convert to datetime some columns\n",
    "dfNotObl['FECHA NOTIFICACIÓN'] = dfNotObl['FECHA NOTIFICACIÓN'].astype(str).str[0:10]\n",
    "dfNotObl['FECHA NOTIFICACIÓN'] = pd.to_datetime(dfNotObl['FECHA NOTIFICACIÓN'], dayfirst=True)"
   ]
  },
  {
   "cell_type": "code",
   "execution_count": 49,
   "metadata": {
    "id": "2I3VpX7tpksm"
   },
   "outputs": [],
   "source": [
    "dfNotObl['FECHA HOSPITALIZACIÓN '] = dfNotObl['FECHA HOSPITALIZACIÓN '].astype(str).str[0:10]\n",
    "dfNotObl['FECHA HOSPITALIZACIÓN '] = pd.to_datetime(dfNotObl['FECHA HOSPITALIZACIÓN '], dayfirst=True, errors='coerce')"
   ]
  },
  {
   "cell_type": "code",
   "execution_count": 50,
   "metadata": {
    "id": "4FsAva3Zpkpb"
   },
   "outputs": [],
   "source": [
    "dfNotObl['FECHA DEFUNCIÓN '] = dfNotObl['FECHA DEFUNCIÓN '].astype(str).str[0:10]\n",
    "dfNotObl['FECHA DEFUNCIÓN '] = pd.to_datetime(dfNotObl['FECHA DEFUNCIÓN '], dayfirst=True, errors='coerce')"
   ]
  },
  {
   "cell_type": "code",
   "execution_count": 51,
   "metadata": {
    "id": "ZRbrnBd9pkmV"
   },
   "outputs": [],
   "source": [
    "dfNotObl['FEC_AJUSTE'] = dfNotObl['FEC_AJUSTE'].astype(str).str[0:10]\n",
    "dfNotObl['FEC_AJUSTE'] = pd.to_datetime(dfNotObl['FEC_AJUSTE'], dayfirst=True, errors='coerce')"
   ]
  },
  {
   "cell_type": "code",
   "execution_count": 52,
   "metadata": {
    "id": "GzOBaVvLpkj2"
   },
   "outputs": [],
   "source": [
    "dfNotObl['FEC_CON_'] = dfNotObl['FEC_CON_'].astype(str).str[0:10]\n",
    "dfNotObl['FEC_CON_'] = pd.to_datetime(dfNotObl['FEC_CON_'], dayfirst=True, errors='coerce')"
   ]
  },
  {
   "cell_type": "code",
   "execution_count": 53,
   "metadata": {
    "colab": {
     "base_uri": "https://localhost:8080/"
    },
    "executionInfo": {
     "elapsed": 35,
     "status": "ok",
     "timestamp": 1654267975282,
     "user": {
      "displayName": "Angela Olarte",
      "userId": "04022086783241571381"
     },
     "user_tz": 300
    },
    "id": "H1Ib-tJZpkhC",
    "outputId": "f6b53b41-a301-4da4-904b-6d1425246485"
   },
   "outputs": [
    {
     "name": "stdout",
     "output_type": "stream",
     "text": [
      "<class 'pandas.core.frame.DataFrame'>\n",
      "Int64Index: 32430 entries, 0 to 32429\n",
      "Data columns (total 72 columns):\n",
      " #   Column                  Non-Null Count  Dtype         \n",
      "---  ------                  --------------  -----         \n",
      " 0   CÓDIGO DEL EVENTO       32430 non-null  int64         \n",
      " 1   FECHA NOTIFICACIÓN      32430 non-null  datetime64[ns]\n",
      " 2   SEMANA                  32430 non-null  int64         \n",
      " 3   AÑO                     32430 non-null  int64         \n",
      " 4   COD_PRE                 32430 non-null  int64         \n",
      " 5   COD_SUB                 32430 non-null  int64         \n",
      " 6   TIPO IDENTIFICACIÓN     32430 non-null  object        \n",
      " 7   IDENTIFICACION          32430 non-null  object        \n",
      " 8   EDAD                    32430 non-null  int64         \n",
      " 9   UNIDAD DE MEDIDA        32430 non-null  int64         \n",
      " 10  CÓDIGO NACIONALIDAD     32430 non-null  object        \n",
      " 11  NACIONALIDAD            32430 non-null  object        \n",
      " 12  SEXO                    32430 non-null  object        \n",
      " 13  CÓDIGO PAÍS             32430 non-null  object        \n",
      " 14  CÓDIGO DEPTO            32430 non-null  object        \n",
      " 15  CÓDIGO MUN              32430 non-null  int64         \n",
      " 16  ÁREA                    32430 non-null  object        \n",
      " 17  LOCALIDAD               26104 non-null  object        \n",
      " 18  CENTRO/POBLADO          32428 non-null  object        \n",
      " 19  VEREDA                  32429 non-null  object        \n",
      " 20  BARRIO/VEREDA           32412 non-null  object        \n",
      " 21  DIRECCIÓN               32422 non-null  object        \n",
      " 22  OCUPACIÓN               32430 non-null  object        \n",
      " 23  TIPO REGIMEN            32430 non-null  object        \n",
      " 24  CÓDIGO DE ASEGURADORA   32430 non-null  object        \n",
      " 25  PERTENENCIA ETNICA      32430 non-null  object        \n",
      " 26  NOMBRE GRUPO ETNICO     32430 non-null  object        \n",
      " 27  ESTRATO                 32430 non-null  object        \n",
      " 28  GP_DISCAPA              32430 non-null  object        \n",
      " 29  GP_DESPLAZ              32430 non-null  object        \n",
      " 30  GP_MIGRANT              32430 non-null  object        \n",
      " 31  GP_CARCELA              32430 non-null  object        \n",
      " 32  GP_GESTAN               32430 non-null  object        \n",
      " 33  SEM_GES_                32430 non-null  object        \n",
      " 34  GP_INDIGEN              32430 non-null  object        \n",
      " 35  GP_POBICBF              32430 non-null  object        \n",
      " 36  GP_MAD_COM              32430 non-null  object        \n",
      " 37  GP_DESMOVI              32430 non-null  object        \n",
      " 38  GP_PSIQUIA              32430 non-null  object        \n",
      " 39  GP_VIC_VIO              32430 non-null  object        \n",
      " 40  GP_OTROS                32430 non-null  object        \n",
      " 41  FUENTE_                 32430 non-null  object        \n",
      " 42  COD_PAIS_R              32430 non-null  object        \n",
      " 43  COD_DPTO_R              32430 non-null  object        \n",
      " 44  COD_MUN_R               32430 non-null  object        \n",
      " 45  FEC_CON_                32429 non-null  datetime64[ns]\n",
      " 46  INICIO SÍNTOMAS         32430 non-null  object        \n",
      " 47  TIPO DE CASO            32430 non-null  int64         \n",
      " 48  HOSPITALIZADO           32430 non-null  object        \n",
      " 49  FECHA HOSPITALIZACIÓN   26288 non-null  datetime64[ns]\n",
      " 50  CONDICIÓN FINAL         32430 non-null  int64         \n",
      " 51  FECHA DEFUNCIÓN         2837 non-null   datetime64[ns]\n",
      " 52  AJUSTE_                 32430 non-null  object        \n",
      " 53  TELEFONO_               32425 non-null  object        \n",
      " 54  FECHA_NTO_              32430 non-null  object        \n",
      " 55  CER_DEF_                32430 non-null  object        \n",
      " 56  CAUSA DEFUNCIÓN         32430 non-null  object        \n",
      " 57  UNI_MODIF               32430 non-null  object        \n",
      " 58  NOMBRE_UNI_MODIF        32430 non-null  object        \n",
      " 59  FEC_AJUSTE              32430 non-null  datetime64[ns]\n",
      " 60  NIT_UPGD                32430 non-null  int64         \n",
      " 61  NOMBRE DEL EVENTO       32430 non-null  object        \n",
      " 62  NOM_UPGD                32430 non-null  object        \n",
      " 63  PAÍS_PROCENCIA          32430 non-null  object        \n",
      " 64  DEPTO_PROCEDENCIA       32430 non-null  object        \n",
      " 65  MUN_PROCEDENCIA         32430 non-null  object        \n",
      " 66  PAÍS_RESIDENCIA         32430 non-null  object        \n",
      " 67  DEPTO_RESIDENCIA        32430 non-null  object        \n",
      " 68  MUN_RESIDENCIA          32430 non-null  object        \n",
      " 69  DEPTO_ NOTIFICACIÓN     32430 non-null  object        \n",
      " 70  MUN_NOTIFICACIÓN        32430 non-null  object        \n",
      " 71  NREG                    32430 non-null  int64         \n",
      "dtypes: datetime64[ns](5), int64(12), object(55)\n",
      "memory usage: 18.1+ MB\n"
     ]
    }
   ],
   "source": [
    "# dfNotObl Info\n",
    "dfNotObl.info()"
   ]
  },
  {
   "cell_type": "markdown",
   "metadata": {
    "id": "mJs8Bya2pvGk"
   },
   "source": [
    "## IDENTIFICATION VARIABLE"
   ]
  },
  {
   "cell_type": "code",
   "execution_count": 54,
   "metadata": {
    "colab": {
     "base_uri": "https://localhost:8080/"
    },
    "executionInfo": {
     "elapsed": 32,
     "status": "ok",
     "timestamp": 1654267975283,
     "user": {
      "displayName": "Angela Olarte",
      "userId": "04022086783241571381"
     },
     "user_tz": 300
    },
    "id": "jrllSSQep77-",
    "outputId": "9ad0854b-61bd-4239-ff54-d658f01481a4"
   },
   "outputs": [
    {
     "data": {
      "text/plain": [
       "array(['1114159144', '1006208411', '97121902722', ..., '1067465198',\n",
       "       '1110298366', '1235138222'], dtype=object)"
      ]
     },
     "execution_count": 54,
     "metadata": {},
     "output_type": "execute_result"
    }
   ],
   "source": [
    "# IDENTIFICACION list\n",
    "dfNotObl['IDENTIFICACION'].unique()"
   ]
  },
  {
   "cell_type": "code",
   "execution_count": 55,
   "metadata": {
    "colab": {
     "base_uri": "https://localhost:8080/"
    },
    "executionInfo": {
     "elapsed": 20,
     "status": "ok",
     "timestamp": 1654267975283,
     "user": {
      "displayName": "Angela Olarte",
      "userId": "04022086783241571381"
     },
     "user_tz": 300
    },
    "id": "Anm1UwDxp75a",
    "outputId": "410ff584-47d5-4684-e004-1e20b2e621fc"
   },
   "outputs": [
    {
     "data": {
      "text/plain": [
       "25524"
      ]
     },
     "execution_count": 55,
     "metadata": {},
     "output_type": "execute_result"
    }
   ],
   "source": [
    "# number of antibiotic\n",
    "len(dfNotObl['IDENTIFICACION'].unique())"
   ]
  },
  {
   "cell_type": "code",
   "execution_count": 56,
   "metadata": {
    "colab": {
     "base_uri": "https://localhost:8080/"
    },
    "executionInfo": {
     "elapsed": 18,
     "status": "ok",
     "timestamp": 1654267975284,
     "user": {
      "displayName": "Angela Olarte",
      "userId": "04022086783241571381"
     },
     "user_tz": 300
    },
    "id": "tlkNHiTsp720",
    "outputId": "e35d7bef-6398-438c-b14c-5a98dafa27b1"
   },
   "outputs": [
    {
     "data": {
      "text/plain": [
       "0"
      ]
     },
     "execution_count": 56,
     "metadata": {},
     "output_type": "execute_result"
    }
   ],
   "source": [
    "# Number of Missing Values\n",
    "dfNotObl['IDENTIFICACION'].isnull().sum()"
   ]
  },
  {
   "cell_type": "markdown",
   "metadata": {
    "id": "CnWbDoGVpxqS"
   },
   "source": [
    "## NOM_UPGD VARIABLE"
   ]
  },
  {
   "cell_type": "code",
   "execution_count": 57,
   "metadata": {
    "colab": {
     "base_uri": "https://localhost:8080/"
    },
    "executionInfo": {
     "elapsed": 405,
     "status": "ok",
     "timestamp": 1654267975677,
     "user": {
      "displayName": "Angela Olarte",
      "userId": "04022086783241571381"
     },
     "user_tz": 300
    },
    "id": "FuvcIq06p8et",
    "outputId": "ea31e68d-38ab-4676-d2aa-8ba6fce6481b"
   },
   "outputs": [
    {
     "data": {
      "text/plain": [
       "array(['HOSPITAL UNIVERSITARIO DEL VALLE EVARISTO GARCIA',\n",
       "       'HOSPITAL UNIVERSITARIO DEL VALLE SEDE NORTE'], dtype=object)"
      ]
     },
     "execution_count": 57,
     "metadata": {},
     "output_type": "execute_result"
    }
   ],
   "source": [
    "# IDENTIFICACION list\n",
    "dfNotObl['NOM_UPGD'].unique()"
   ]
  },
  {
   "cell_type": "code",
   "execution_count": 58,
   "metadata": {
    "colab": {
     "base_uri": "https://localhost:8080/"
    },
    "executionInfo": {
     "elapsed": 117,
     "status": "ok",
     "timestamp": 1654267975678,
     "user": {
      "displayName": "Angela Olarte",
      "userId": "04022086783241571381"
     },
     "user_tz": 300
    },
    "id": "tUZ0ah7jp8cT",
    "outputId": "a07bea91-037a-46da-8254-5161f441e21c"
   },
   "outputs": [
    {
     "data": {
      "text/plain": [
       "2"
      ]
     },
     "execution_count": 58,
     "metadata": {},
     "output_type": "execute_result"
    }
   ],
   "source": [
    "# number of antibiotic\n",
    "len(dfNotObl['NOM_UPGD'].unique())"
   ]
  },
  {
   "cell_type": "code",
   "execution_count": 59,
   "metadata": {
    "colab": {
     "base_uri": "https://localhost:8080/"
    },
    "executionInfo": {
     "elapsed": 110,
     "status": "ok",
     "timestamp": 1654267975679,
     "user": {
      "displayName": "Angela Olarte",
      "userId": "04022086783241571381"
     },
     "user_tz": 300
    },
    "id": "JbBEMGkep8Zy",
    "outputId": "85b0861b-071f-4aed-cdab-976c90a4ffe1"
   },
   "outputs": [
    {
     "data": {
      "text/plain": [
       "0"
      ]
     },
     "execution_count": 59,
     "metadata": {},
     "output_type": "execute_result"
    }
   ],
   "source": [
    "# Number of Missing Values\n",
    "dfNotObl['NOM_UPGD'].isnull().sum()"
   ]
  },
  {
   "cell_type": "markdown",
   "metadata": {
    "id": "MYKkmifQpxmz"
   },
   "source": [
    "## AGE VARIABLE"
   ]
  },
  {
   "cell_type": "code",
   "execution_count": 60,
   "metadata": {
    "colab": {
     "base_uri": "https://localhost:8080/"
    },
    "executionInfo": {
     "elapsed": 104,
     "status": "ok",
     "timestamp": 1654267975680,
     "user": {
      "displayName": "Angela Olarte",
      "userId": "04022086783241571381"
     },
     "user_tz": 300
    },
    "id": "N_eVgyeAp85k",
    "outputId": "65c28682-bdea-4b94-bc01-cf7cb79ede69"
   },
   "outputs": [
    {
     "data": {
      "text/plain": [
       "array([  2,  12,  37,  26,   8,  23,  50,   4,  13,  16,  20,  11,  33,\n",
       "        30,  25,  55,   1,  24,  18,  34,  19,  15,   7,  41,  72,  31,\n",
       "        82,  32,   9,  17,  21,  46,  48,  47,   3,  28,  52,  14,  40,\n",
       "        22,  43,   5,  10,  38,  51,  53,   6,  39,  85,  27,  83,  56,\n",
       "        58,  49,  42,  35,  62,  65,  45,  60,  66,  54,  64,  76,  36,\n",
       "        29,  69,  78,  79,  63,  57,  70,  81,  75,  44,  74,  59,  73,\n",
       "        68,  61,  80,  94,  97,  93,  67,  86,  77,  90,  84,  87,  71,\n",
       "        89,  91,  88,  99,  95,  96,  92, 100,  98, 118,   0, 113, 104,\n",
       "       101, 111, 110, 109], dtype=int64)"
      ]
     },
     "execution_count": 60,
     "metadata": {},
     "output_type": "execute_result"
    }
   ],
   "source": [
    "# IDENTIFICACION list\n",
    "dfNotObl['EDAD'].unique()"
   ]
  },
  {
   "cell_type": "code",
   "execution_count": 61,
   "metadata": {
    "colab": {
     "base_uri": "https://localhost:8080/"
    },
    "executionInfo": {
     "elapsed": 98,
     "status": "ok",
     "timestamp": 1654267975681,
     "user": {
      "displayName": "Angela Olarte",
      "userId": "04022086783241571381"
     },
     "user_tz": 300
    },
    "id": "Ly2bjdF9p83b",
    "outputId": "d88fb42e-f241-49e0-b8c5-d60d4fd17195"
   },
   "outputs": [
    {
     "data": {
      "text/plain": [
       "108"
      ]
     },
     "execution_count": 61,
     "metadata": {},
     "output_type": "execute_result"
    }
   ],
   "source": [
    "# number of antibiotic\n",
    "len(dfNotObl['EDAD'].unique())"
   ]
  },
  {
   "cell_type": "code",
   "execution_count": 62,
   "metadata": {
    "colab": {
     "base_uri": "https://localhost:8080/"
    },
    "executionInfo": {
     "elapsed": 91,
     "status": "ok",
     "timestamp": 1654267975681,
     "user": {
      "displayName": "Angela Olarte",
      "userId": "04022086783241571381"
     },
     "user_tz": 300
    },
    "id": "6d0Fg9b7p80z",
    "outputId": "e4c4decf-1f66-45a8-dd3d-98cab88601d2"
   },
   "outputs": [
    {
     "data": {
      "text/plain": [
       "0"
      ]
     },
     "execution_count": 62,
     "metadata": {},
     "output_type": "execute_result"
    }
   ],
   "source": [
    "# Number of Missing Values\n",
    "dfNotObl['EDAD'].isnull().sum()"
   ]
  },
  {
   "cell_type": "markdown",
   "metadata": {
    "id": "BnyNPmQQpxVT"
   },
   "source": [
    "## SEX"
   ]
  },
  {
   "cell_type": "code",
   "execution_count": 63,
   "metadata": {
    "colab": {
     "base_uri": "https://localhost:8080/"
    },
    "executionInfo": {
     "elapsed": 85,
     "status": "ok",
     "timestamp": 1654267975682,
     "user": {
      "displayName": "Angela Olarte",
      "userId": "04022086783241571381"
     },
     "user_tz": 300
    },
    "id": "C142c51up9YC",
    "outputId": "734f1658-f7ed-440e-c3b7-055cb98ab6d9"
   },
   "outputs": [
    {
     "data": {
      "text/plain": [
       "array(['M', 'F', 'I'], dtype=object)"
      ]
     },
     "execution_count": 63,
     "metadata": {},
     "output_type": "execute_result"
    }
   ],
   "source": [
    "# IDENTIFICACION list\n",
    "dfNotObl['SEXO'].unique()"
   ]
  },
  {
   "cell_type": "code",
   "execution_count": 64,
   "metadata": {
    "colab": {
     "base_uri": "https://localhost:8080/"
    },
    "executionInfo": {
     "elapsed": 78,
     "status": "ok",
     "timestamp": 1654267975683,
     "user": {
      "displayName": "Angela Olarte",
      "userId": "04022086783241571381"
     },
     "user_tz": 300
    },
    "id": "EHX9UWYvp9Vm",
    "outputId": "a1b4a732-f046-4034-fa86-824749996323"
   },
   "outputs": [
    {
     "data": {
      "text/plain": [
       "3"
      ]
     },
     "execution_count": 64,
     "metadata": {},
     "output_type": "execute_result"
    }
   ],
   "source": [
    "# number of antibiotic\n",
    "len(dfNotObl['SEXO'].unique())"
   ]
  },
  {
   "cell_type": "code",
   "execution_count": 65,
   "metadata": {
    "colab": {
     "base_uri": "https://localhost:8080/"
    },
    "executionInfo": {
     "elapsed": 72,
     "status": "ok",
     "timestamp": 1654267975684,
     "user": {
      "displayName": "Angela Olarte",
      "userId": "04022086783241571381"
     },
     "user_tz": 300
    },
    "id": "3J1bAEVJp9TC",
    "outputId": "70c94d8b-23b6-410b-ea17-9cddc3710cf4"
   },
   "outputs": [
    {
     "data": {
      "text/plain": [
       "0"
      ]
     },
     "execution_count": 65,
     "metadata": {},
     "output_type": "execute_result"
    }
   ],
   "source": [
    "# Number of Missing Values\n",
    "dfNotObl['SEXO'].isnull().sum()"
   ]
  },
  {
   "cell_type": "markdown",
   "metadata": {
    "id": "pP1ctCo9p5A6"
   },
   "source": [
    "## CAUSE OF DEATH"
   ]
  },
  {
   "cell_type": "code",
   "execution_count": 66,
   "metadata": {
    "colab": {
     "base_uri": "https://localhost:8080/"
    },
    "executionInfo": {
     "elapsed": 66,
     "status": "ok",
     "timestamp": 1654267975685,
     "user": {
      "displayName": "Angela Olarte",
      "userId": "04022086783241571381"
     },
     "user_tz": 300
    },
    "id": "8JkH1ED8p-AD",
    "outputId": "199c2b19-6109-418b-82df-32255874f927"
   },
   "outputs": [
    {
     "data": {
      "text/plain": [
       "array(['SIN DATO', 'A162', 'A419', 'B24X', '9999', 'J159', 'B200', '8888',\n",
       "       'B459', 'A920', 'A90X', 'O60X', 'J189', 'A418', 'B208', 'B59X',\n",
       "       'K270', 'N740', 'R571', 'C403', 'B227', 'A199', 'A170', 'I219',\n",
       "       'I252', 'B201', 'P210', 'J150', 'I693', 'G800', 'Q897', 'Q902',\n",
       "       'Q248', 'Q02X', 'P021', 'Q000', 'P240', 'P000', 'P027', 'P209',\n",
       "       'C349', 'C859', 'Q250', 'P399', 'Q793', 'Q780', 'C530', 'P018',\n",
       "       'P293', 'P013', 'P280', 'Q899', 'P059', 'Q390', 'P025', 'P570',\n",
       "       'Q038', 'I713', 'Q210', 'P77X', 'Q259', 'Q249', 'P832', 'P292',\n",
       "       'G629', 'P523', 'A41', 'P022', 'P289', 'P211', 'Q332', 'P011',\n",
       "       'G039', 'Q999', 'P251', 'I64X', 'P002', 'Q792', 'T312', 'P285',\n",
       "       'K922', 'P700', 'Q049', 'N390', 'A183', 'Q878', 'J969', 'A509',\n",
       "       'X689', 'P269', 'X680', 'P95X', 'O459', 'I509', 'C58X', 'P368',\n",
       "       'C752', 'E109', 'O421', 'P220', 'Q439', 'Q079', 'P072', 'O95X',\n",
       "       'D573', 'P219', 'J069', 'O429', 'J210', 'O711', 'Q606', 'O285',\n",
       "       'Q917', 'P369', 'J110', 'O689', 'O410', 'Q410', 'O439', 'P073',\n",
       "       'Q601', 'O458', 'Q225', 'O72X', 'J22X', 'J129', 'U071', 'U072',\n",
       "       'J960', 'R104', 'P008', 'A159', 'P003', 'P201', 'E105', 'Q208',\n",
       "       'N178', 'O100', 'O312', 'O363', 'A160', 'P550', 'I429', 'J040',\n",
       "       'O40X', 'O362', 'O418', 'I270', 'O438', 'O365', 'P023', 'R578',\n",
       "       'J13X', 'O149', 'K710', 'Q459', 'P833', 'A09X', 'D486', 'E328',\n",
       "       'C509', '|', 'P294', 'I519', 'O13X', 'N049', 'P010', 'B018',\n",
       "       'P524', 'O151', 'O430', 'D638', 'A279', 'Q929', 'O86X', 'D570',\n",
       "       'Q226', 'O863', 'O698', 'O249', 'B204', 'R99X', 'Q282', 'M321',\n",
       "       'D649', 'B203', 'B909', 'Z206', 'A499', 'K613', 'P261', 'R570',\n",
       "       'J16X', 'B230', 'J10X', 'Q898', 'I612', 'D180', 'C719', 'J938',\n",
       "       'C449', 'D059', 'D057', 'A150', 'P618', 'Q872', 'P965', 'E45X',\n",
       "       'Q042', 'O680', 'O318', 'E640', 'O141', 'Q223', 'R579', 'K634',\n",
       "       'O16X', 'P371', 'Q048', 'O350', 'O85X', 'P501', 'I428', 'Q790',\n",
       "       'I517', 'C845', 'Q238', 'F024', 'O11X', 'O263', 'F130', 'D688',\n",
       "       'E161'], dtype=object)"
      ]
     },
     "execution_count": 66,
     "metadata": {},
     "output_type": "execute_result"
    }
   ],
   "source": [
    "# IDENTIFICACION list\n",
    "dfNotObl['CAUSA DEFUNCIÓN '].unique()"
   ]
  },
  {
   "cell_type": "code",
   "execution_count": 67,
   "metadata": {
    "colab": {
     "base_uri": "https://localhost:8080/"
    },
    "executionInfo": {
     "elapsed": 60,
     "status": "ok",
     "timestamp": 1654267975686,
     "user": {
      "displayName": "Angela Olarte",
      "userId": "04022086783241571381"
     },
     "user_tz": 300
    },
    "id": "jozydivKp92O",
    "outputId": "e46c9862-a056-4ef2-b51e-84bdc5b7cfbf"
   },
   "outputs": [
    {
     "data": {
      "text/plain": [
       "233"
      ]
     },
     "execution_count": 67,
     "metadata": {},
     "output_type": "execute_result"
    }
   ],
   "source": [
    "# number of antibiotic\n",
    "len(dfNotObl['CAUSA DEFUNCIÓN '].unique())"
   ]
  },
  {
   "cell_type": "code",
   "execution_count": 68,
   "metadata": {
    "colab": {
     "base_uri": "https://localhost:8080/"
    },
    "executionInfo": {
     "elapsed": 53,
     "status": "ok",
     "timestamp": 1654267975687,
     "user": {
      "displayName": "Angela Olarte",
      "userId": "04022086783241571381"
     },
     "user_tz": 300
    },
    "id": "ACh0opUPp9z0",
    "outputId": "1bbb4d8b-ed7e-4662-e76e-fac3f4e64216"
   },
   "outputs": [
    {
     "data": {
      "text/plain": [
       "0"
      ]
     },
     "execution_count": 68,
     "metadata": {},
     "output_type": "execute_result"
    }
   ],
   "source": [
    "# Number of Missing Values\n",
    "dfNotObl['CAUSA DEFUNCIÓN '].isnull().sum()"
   ]
  },
  {
   "cell_type": "markdown",
   "metadata": {
    "id": "-nSb2MO9p4-R"
   },
   "source": [
    "## HOSPITALIZED"
   ]
  },
  {
   "cell_type": "code",
   "execution_count": 69,
   "metadata": {
    "colab": {
     "base_uri": "https://localhost:8080/"
    },
    "executionInfo": {
     "elapsed": 46,
     "status": "ok",
     "timestamp": 1654267975688,
     "user": {
      "displayName": "Angela Olarte",
      "userId": "04022086783241571381"
     },
     "user_tz": 300
    },
    "id": "wW993GRGp-cb",
    "outputId": "3125f1c3-7404-4c88-9eea-04ccf50c4988"
   },
   "outputs": [
    {
     "data": {
      "text/plain": [
       "array(['1', '2', 'SIN DATO'], dtype=object)"
      ]
     },
     "execution_count": 69,
     "metadata": {},
     "output_type": "execute_result"
    }
   ],
   "source": [
    "# IDENTIFICACION list\n",
    "dfNotObl['HOSPITALIZADO'].unique()"
   ]
  },
  {
   "cell_type": "code",
   "execution_count": 70,
   "metadata": {
    "colab": {
     "base_uri": "https://localhost:8080/"
    },
    "executionInfo": {
     "elapsed": 38,
     "status": "ok",
     "timestamp": 1654267975689,
     "user": {
      "displayName": "Angela Olarte",
      "userId": "04022086783241571381"
     },
     "user_tz": 300
    },
    "id": "VDeI0qN3pkeM",
    "outputId": "8f118f9b-9350-4c7e-df39-39c1c4c904a3"
   },
   "outputs": [
    {
     "data": {
      "text/plain": [
       "3"
      ]
     },
     "execution_count": 70,
     "metadata": {},
     "output_type": "execute_result"
    }
   ],
   "source": [
    "# number of antibiotic\n",
    "len(dfNotObl['HOSPITALIZADO'].unique())"
   ]
  },
  {
   "cell_type": "code",
   "execution_count": 71,
   "metadata": {
    "colab": {
     "base_uri": "https://localhost:8080/"
    },
    "executionInfo": {
     "elapsed": 30,
     "status": "ok",
     "timestamp": 1654267975689,
     "user": {
      "displayName": "Angela Olarte",
      "userId": "04022086783241571381"
     },
     "user_tz": 300
    },
    "id": "5b2ysGRZpkaC",
    "outputId": "818ed68a-c4e7-4a27-cc49-b2f432f92b24"
   },
   "outputs": [
    {
     "data": {
      "text/plain": [
       "0"
      ]
     },
     "execution_count": 71,
     "metadata": {},
     "output_type": "execute_result"
    }
   ],
   "source": [
    "# Number of Missing Values\n",
    "dfNotObl['HOSPITALIZADO'].isnull().sum()"
   ]
  },
  {
   "cell_type": "markdown",
   "metadata": {
    "id": "_wliNJ64qTFD"
   },
   "source": [
    "## FILTER AND PLOTING CAUSE OF DEATH VARIABLE"
   ]
  },
  {
   "cell_type": "code",
   "execution_count": 72,
   "metadata": {
    "id": "AAUWHcqgqUPw"
   },
   "outputs": [],
   "source": [
    "dfNew = dfNotObl.groupby(['NREG','CAUSA DEFUNCIÓN ']).size()\n",
    "dfNew1 = dfNew.reset_index(level=['CAUSA DEFUNCIÓN '])\n",
    "dfNew2 = dfNew1['CAUSA DEFUNCIÓN '].value_counts()\n",
    "dfNew3 = pd.DataFrame({'Causa':dfNew2.index, 'Conteo':dfNew2.values})\n",
    "dfNew3 = dfNew3.head(10)"
   ]
  },
  {
   "cell_type": "code",
   "execution_count": 73,
   "metadata": {
    "colab": {
     "base_uri": "https://localhost:8080/"
    },
    "executionInfo": {
     "elapsed": 215,
     "status": "ok",
     "timestamp": 1654267975882,
     "user": {
      "displayName": "Angela Olarte",
      "userId": "04022086783241571381"
     },
     "user_tz": 300
    },
    "id": "yZSqjXQAqZpQ",
    "outputId": "13174638-414a-4ab1-9928-926c0e46e29a"
   },
   "outputs": [
    {
     "data": {
      "image/png": "[encoded data removed]",
      "text/plain": [
       "<Figure size 576x576 with 1 Axes>"
      ]
     },
     "metadata": {
      "needs_background": "light"
     },
     "output_type": "display_data"
    }
   ],
   "source": [
    "dfNew3 = dfNew3[dfNew3[\"Causa\"]!=\"SIN DATO\"]\n",
    "sns.barplot(dfNew3.Conteo, dfNew3.Causa)\n",
    "plt.title('Top 10 Causes of Death in Compulsory Notification Events')\n",
    "plt.ylabel('Cause of death')\n",
    "plt.xlabel('Frequency')\n",
    "plt.rcParams[\"figure.figsize\"] = [7, 7]\n",
    "plt.show()"
   ]
  },
  {
   "cell_type": "markdown",
   "metadata": {
    "id": "LCIFNf2CqbrA"
   },
   "source": [
    "## FILTER AND PLOTING SEX VARIABLE\n"
   ]
  },
  {
   "cell_type": "code",
   "execution_count": 74,
   "metadata": {
    "id": "miJeLPTMqei7"
   },
   "outputs": [],
   "source": [
    "dfNew = dfNotObl.groupby(['NREG','SEXO']).size()\n",
    "dfNew1 = dfNew.reset_index(level=['SEXO'])\n",
    "dfNew2 = dfNew1['SEXO'].value_counts()\n",
    "dfNew3 = pd.DataFrame({'sexo':dfNew2.index, 'Conteo':dfNew2.values})"
   ]
  },
  {
   "cell_type": "code",
   "execution_count": 75,
   "metadata": {
    "colab": {
     "base_uri": "https://localhost:8080/"
    },
    "executionInfo": {
     "elapsed": 307,
     "status": "ok",
     "timestamp": 1654267976363,
     "user": {
      "displayName": "Angela Olarte",
      "userId": "04022086783241571381"
     },
     "user_tz": 300
    },
    "id": "GBTYHl6dqfNk",
    "outputId": "de8c0089-2567-4028-bae2-5b2a470dd002"
   },
   "outputs": [
    {
     "data": {
      "image/png": "[encoded data removed]",
      "text/plain": [
       "<Figure size 504x504 with 1 Axes>"
      ]
     },
     "metadata": {
      "needs_background": "light"
     },
     "output_type": "display_data"
    }
   ],
   "source": [
    "sns.barplot(dfNew3.sexo, dfNew3.Conteo)\n",
    "plt.title('Health Events of Compulsory Notifications by Sex')\n",
    "plt.ylabel('Sex')\n",
    "plt.xlabel('Frequency')\n",
    "plt.rcParams[\"figure.figsize\"] = [7, 7]\n",
    "plt.show()"
   ]
  },
  {
   "cell_type": "markdown",
   "metadata": {
    "id": "wI5vN7T5qgwI"
   },
   "source": [
    "## FILTER AND PLOTING AGE VARIABLE"
   ]
  },
  {
   "cell_type": "code",
   "execution_count": 76,
   "metadata": {
    "id": "dI9rWH2cqcyr"
   },
   "outputs": [],
   "source": [
    "dfNew = dfNotObl.groupby(['NREG','EDAD']).size()\n",
    "dfNew1 = dfNew.reset_index(level=['EDAD'])\n",
    "dfNew2 = dfNew1['EDAD'].value_counts().head(35)\n",
    "dfNew3 = pd.DataFrame({'edad':dfNew2.index, 'Conteo':dfNew2.values})"
   ]
  },
  {
   "cell_type": "code",
   "execution_count": 77,
   "metadata": {
    "colab": {
     "base_uri": "https://localhost:8080/"
    },
    "executionInfo": {
     "elapsed": 673,
     "status": "ok",
     "timestamp": 1654267977030,
     "user": {
      "displayName": "Angela Olarte",
      "userId": "04022086783241571381"
     },
     "user_tz": 300
    },
    "id": "1JiszXPjqjDZ",
    "outputId": "19b2d60b-c693-46ca-956e-0ce6ad84caa2"
   },
   "outputs": [
    {
     "data": {
      "image/png": "[encoded data removed]",
      "text/plain": [
       "<Figure size 504x504 with 1 Axes>"
      ]
     },
     "metadata": {
      "needs_background": "light"
     },
     "output_type": "display_data"
    }
   ],
   "source": [
    "sns.barplot(x='edad', y ='Conteo', data=dfNew3)\n",
    "plt.title(\"Health Events of Compulsory Notification by Age\")\n",
    "plt.ylabel('Frequency')\n",
    "plt.xlabel('Age')\n",
    "plt.rcParams[\"figure.figsize\"] = [8,8]\n",
    "plt.show()"
   ]
  },
  {
   "cell_type": "markdown",
   "metadata": {
    "id": "K3yz1PZBAbrd"
   },
   "source": [
    "## HISTOGRAM AGE VARIABLE"
   ]
  },
  {
   "cell_type": "code",
   "execution_count": 78,
   "metadata": {
    "colab": {
     "base_uri": "https://localhost:8080/"
    },
    "executionInfo": {
     "elapsed": 411,
     "status": "ok",
     "timestamp": 1654267977434,
     "user": {
      "displayName": "Angela Olarte",
      "userId": "04022086783241571381"
     },
     "user_tz": 300
    },
    "id": "weYVMMikBgrj",
    "outputId": "5fbbcd79-5417-4e37-de6b-58b3d8024a33"
   },
   "outputs": [
    {
     "data": {
      "image/png": "[encoded data removed]",
      "text/plain": [
       "<Figure size 1080x576 with 1 Axes>"
      ]
     },
     "metadata": {
      "needs_background": "light"
     },
     "output_type": "display_data"
    }
   ],
   "source": [
    "plt.figure(figsize=(15,8))\n",
    "plt.hist(dfNotObl['EDAD'],bins=40)\n",
    "plt.title('Histogram Age vs Health Events of Compulsory Notifications')\n",
    "plt.xlabel('Age')\n",
    "plt.ylabel('Notificacions')\n",
    "plt.show()"
   ]
  },
  {
   "cell_type": "code",
   "execution_count": 79,
   "metadata": {
    "colab": {
     "base_uri": "https://localhost:8080/"
    },
    "executionInfo": {
     "elapsed": 290,
     "status": "ok",
     "timestamp": 1654267977719,
     "user": {
      "displayName": "Angela Olarte",
      "userId": "04022086783241571381"
     },
     "user_tz": 300
    },
    "id": "fHYR81O_BlWS",
    "outputId": "a2b25824-5194-49a7-d379-7dce6ecfd4a2"
   },
   "outputs": [
    {
     "data": {
      "image/png": "[encoded data removed]",
      "text/plain": [
       "<Figure size 1080x576 with 1 Axes>"
      ]
     },
     "metadata": {
      "needs_background": "light"
     },
     "output_type": "display_data"
    }
   ],
   "source": [
    "plt.figure(figsize=(15,8))\n",
    "plt.boxplot(dfNotObl ['EDAD'])\n",
    "plt.title(\"Age Boxplot\")\n",
    "plt.show()"
   ]
  },
  {
   "cell_type": "code",
   "execution_count": 80,
   "metadata": {
    "colab": {
     "base_uri": "https://localhost:8080/",
     "height": 711
    },
    "executionInfo": {
     "elapsed": 206,
     "status": "ok",
     "timestamp": 1654267977903,
     "user": {
      "displayName": "Angela Olarte",
      "userId": "04022086783241571381"
     },
     "user_tz": 300
    },
    "id": "KPgQHeevA3eP",
    "outputId": "5a80be0f-7698-4643-caed-e23d911c044c"
   },
   "outputs": [
    {
     "name": "stdout",
     "output_type": "stream",
     "text": [
      "The average notification by age is:  NREG    300.277778\n",
      "dtype: float64\n"
     ]
    },
    {
     "data": {
      "text/html": [
       "<div>\n",
       "<style scoped>\n",
       "    .dataframe tbody tr th:only-of-type {\n",
       "        vertical-align: middle;\n",
       "    }\n",
       "\n",
       "    .dataframe tbody tr th {\n",
       "        vertical-align: top;\n",
       "    }\n",
       "\n",
       "    .dataframe thead th {\n",
       "        text-align: right;\n",
       "    }\n",
       "</style>\n",
       "<table border=\"1\" class=\"dataframe\">\n",
       "  <thead>\n",
       "    <tr style=\"text-align: right;\">\n",
       "      <th></th>\n",
       "      <th>EDAD</th>\n",
       "      <th>NREG</th>\n",
       "    </tr>\n",
       "  </thead>\n",
       "  <tbody>\n",
       "    <tr>\n",
       "      <th>0</th>\n",
       "      <td>0</td>\n",
       "      <td>2</td>\n",
       "    </tr>\n",
       "    <tr>\n",
       "      <th>1</th>\n",
       "      <td>1</td>\n",
       "      <td>1417</td>\n",
       "    </tr>\n",
       "    <tr>\n",
       "      <th>2</th>\n",
       "      <td>2</td>\n",
       "      <td>1055</td>\n",
       "    </tr>\n",
       "    <tr>\n",
       "      <th>3</th>\n",
       "      <td>3</td>\n",
       "      <td>854</td>\n",
       "    </tr>\n",
       "    <tr>\n",
       "      <th>4</th>\n",
       "      <td>4</td>\n",
       "      <td>723</td>\n",
       "    </tr>\n",
       "    <tr>\n",
       "      <th>5</th>\n",
       "      <td>5</td>\n",
       "      <td>636</td>\n",
       "    </tr>\n",
       "    <tr>\n",
       "      <th>6</th>\n",
       "      <td>6</td>\n",
       "      <td>664</td>\n",
       "    </tr>\n",
       "    <tr>\n",
       "      <th>7</th>\n",
       "      <td>7</td>\n",
       "      <td>640</td>\n",
       "    </tr>\n",
       "    <tr>\n",
       "      <th>8</th>\n",
       "      <td>8</td>\n",
       "      <td>655</td>\n",
       "    </tr>\n",
       "    <tr>\n",
       "      <th>9</th>\n",
       "      <td>9</td>\n",
       "      <td>603</td>\n",
       "    </tr>\n",
       "    <tr>\n",
       "      <th>10</th>\n",
       "      <td>10</td>\n",
       "      <td>572</td>\n",
       "    </tr>\n",
       "    <tr>\n",
       "      <th>11</th>\n",
       "      <td>11</td>\n",
       "      <td>570</td>\n",
       "    </tr>\n",
       "    <tr>\n",
       "      <th>12</th>\n",
       "      <td>12</td>\n",
       "      <td>551</td>\n",
       "    </tr>\n",
       "    <tr>\n",
       "      <th>13</th>\n",
       "      <td>13</td>\n",
       "      <td>661</td>\n",
       "    </tr>\n",
       "    <tr>\n",
       "      <th>14</th>\n",
       "      <td>14</td>\n",
       "      <td>529</td>\n",
       "    </tr>\n",
       "    <tr>\n",
       "      <th>15</th>\n",
       "      <td>15</td>\n",
       "      <td>513</td>\n",
       "    </tr>\n",
       "    <tr>\n",
       "      <th>16</th>\n",
       "      <td>16</td>\n",
       "      <td>509</td>\n",
       "    </tr>\n",
       "    <tr>\n",
       "      <th>17</th>\n",
       "      <td>17</td>\n",
       "      <td>576</td>\n",
       "    </tr>\n",
       "    <tr>\n",
       "      <th>18</th>\n",
       "      <td>18</td>\n",
       "      <td>561</td>\n",
       "    </tr>\n",
       "    <tr>\n",
       "      <th>19</th>\n",
       "      <td>19</td>\n",
       "      <td>701</td>\n",
       "    </tr>\n",
       "  </tbody>\n",
       "</table>\n",
       "</div>"
      ],
      "text/plain": [
       "    EDAD  NREG\n",
       "0      0     2\n",
       "1      1  1417\n",
       "2      2  1055\n",
       "3      3   854\n",
       "4      4   723\n",
       "5      5   636\n",
       "6      6   664\n",
       "7      7   640\n",
       "8      8   655\n",
       "9      9   603\n",
       "10    10   572\n",
       "11    11   570\n",
       "12    12   551\n",
       "13    13   661\n",
       "14    14   529\n",
       "15    15   513\n",
       "16    16   509\n",
       "17    17   576\n",
       "18    18   561\n",
       "19    19   701"
      ]
     },
     "execution_count": 80,
     "metadata": {},
     "output_type": "execute_result"
    }
   ],
   "source": [
    "ed=dfNotObl [[\"EDAD\",\"NREG\"]].groupby(\"EDAD\").count()\n",
    "edad=ed.reset_index()\n",
    "print('The average notification by age is: ',ed.mean())\n",
    "edad.head(20)"
   ]
  },
  {
   "cell_type": "markdown",
   "metadata": {
    "id": "Et5P9lq0BR3e"
   },
   "source": [
    "##NUMBER OF NOTIFICATIONS PER WEEK"
   ]
  },
  {
   "cell_type": "code",
   "execution_count": 81,
   "metadata": {
    "colab": {
     "base_uri": "https://localhost:8080/",
     "height": 446
    },
    "executionInfo": {
     "elapsed": 564,
     "status": "ok",
     "timestamp": 1654267978463,
     "user": {
      "displayName": "Angela Olarte",
      "userId": "04022086783241571381"
     },
     "user_tz": 300
    },
    "id": "ynyCX6W2BQK-",
    "outputId": "a9ffe7a1-c096-46af-a881-1c6f6ad23d09"
   },
   "outputs": [
    {
     "data": {
      "image/png": "[encoded data removed]",
      "text/plain": [
       "<Figure size 1080x576 with 1 Axes>"
      ]
     },
     "metadata": {
      "needs_background": "light"
     },
     "output_type": "display_data"
    }
   ],
   "source": [
    "semana=dfNotObl [['SEMANA','NREG']].groupby(['SEMANA']).count()\n",
    "a=semana.reset_index()\n",
    "plt.figure(figsize=(15,8))\n",
    "plt.bar(a['SEMANA'],a['NREG'])\n",
    "plt.ylabel('Notifications')\n",
    "plt.xlabel('Week')\n",
    "plt.title('Notifications vs Week')\n",
    "plt.show()"
   ]
  },
  {
   "cell_type": "code",
   "execution_count": 82,
   "metadata": {
    "colab": {
     "base_uri": "https://localhost:8080/"
    },
    "executionInfo": {
     "elapsed": 50,
     "status": "ok",
     "timestamp": 1654267978464,
     "user": {
      "displayName": "Angela Olarte",
      "userId": "04022086783241571381"
     },
     "user_tz": 300
    },
    "id": "Oq0oV9p8BcHg",
    "outputId": "883130cf-ad46-4c13-bd0e-7fface984250"
   },
   "outputs": [
    {
     "name": "stdout",
     "output_type": "stream",
     "text": [
      "Week during which the most notifications were issued:          NREG\n",
      "SEMANA      \n",
      "52       819\n",
      "Week during which the least notifications were issued:          NREG\n",
      "SEMANA      \n",
      "53       185\n"
     ]
    }
   ],
   "source": [
    "print('Week during which the most notifications were issued: ',semana[semana['NREG']==semana['NREG'].max()])\n",
    "print('Week during which the least notifications were issued: ',semana[semana['NREG']==semana['NREG'].min()])"
   ]
  },
  {
   "cell_type": "markdown",
   "metadata": {
    "id": "Xlxz9WLnBylo"
   },
   "source": [
    "## HAI EVENTS"
   ]
  },
  {
   "cell_type": "code",
   "execution_count": 83,
   "metadata": {
    "colab": {
     "base_uri": "https://localhost:8080/",
     "height": 143
    },
    "executionInfo": {
     "elapsed": 46,
     "status": "ok",
     "timestamp": 1654267978465,
     "user": {
      "displayName": "Angela Olarte",
      "userId": "04022086783241571381"
     },
     "user_tz": 300
    },
    "id": "OWMMM5-_B29K",
    "outputId": "f0f4443f-a1b1-4d10-a987-3aa61dcfd198"
   },
   "outputs": [
    {
     "data": {
      "text/html": [
       "<div>\n",
       "<style scoped>\n",
       "    .dataframe tbody tr th:only-of-type {\n",
       "        vertical-align: middle;\n",
       "    }\n",
       "\n",
       "    .dataframe tbody tr th {\n",
       "        vertical-align: top;\n",
       "    }\n",
       "\n",
       "    .dataframe thead th {\n",
       "        text-align: right;\n",
       "    }\n",
       "</style>\n",
       "<table border=\"1\" class=\"dataframe\">\n",
       "  <thead>\n",
       "    <tr style=\"text-align: right;\">\n",
       "      <th></th>\n",
       "      <th>CÓDIGO DEL EVENTO</th>\n",
       "      <th>NREG</th>\n",
       "    </tr>\n",
       "  </thead>\n",
       "  <tbody>\n",
       "    <tr>\n",
       "      <th>27</th>\n",
       "      <td>351</td>\n",
       "      <td>14</td>\n",
       "    </tr>\n",
       "    <tr>\n",
       "      <th>28</th>\n",
       "      <td>352</td>\n",
       "      <td>79</td>\n",
       "    </tr>\n",
       "    <tr>\n",
       "      <th>31</th>\n",
       "      <td>357</td>\n",
       "      <td>1217</td>\n",
       "    </tr>\n",
       "  </tbody>\n",
       "</table>\n",
       "</div>"
      ],
      "text/plain": [
       "    CÓDIGO DEL EVENTO  NREG\n",
       "27                351    14\n",
       "28                352    79\n",
       "31                357  1217"
      ]
     },
     "execution_count": 83,
     "metadata": {},
     "output_type": "execute_result"
    }
   ],
   "source": [
    "#Selection of events related to HAIs\n",
    "HAI_codes=[351,352,354, 357, 359,362]\n",
    "s=dfNotObl [['CÓDIGO DEL EVENTO','NREG']].groupby(['CÓDIGO DEL EVENTO']).count()\n",
    "s=s.reset_index()\n",
    "s[s['CÓDIGO DEL EVENTO'].isin(HAI_codes)]"
   ]
  },
  {
   "cell_type": "markdown",
   "metadata": {
    "id": "O2Pd2ty8ql2s"
   },
   "source": [
    "# EDA RUAF DATASET"
   ]
  },
  {
   "cell_type": "code",
   "execution_count": 84,
   "metadata": {
    "colab": {
     "base_uri": "https://localhost:8080/"
    },
    "executionInfo": {
     "elapsed": 43,
     "status": "ok",
     "timestamp": 1654267978465,
     "user": {
      "displayName": "Angela Olarte",
      "userId": "04022086783241571381"
     },
     "user_tz": 300
    },
    "id": "Z71rIV3dqoAK",
    "outputId": "e70d616f-e8a1-4e08-8123-4cc00ea9bdad"
   },
   "outputs": [
    {
     "data": {
      "text/plain": [
       "(9553, 82)"
      ]
     },
     "execution_count": 84,
     "metadata": {},
     "output_type": "execute_result"
    }
   ],
   "source": [
    "#dimensions of the dataset Notificaciones\n",
    "nrowRuaf, ncolRuaf = dfRuaf.shape\n",
    "nrowRuaf, ncolRuaf"
   ]
  },
  {
   "cell_type": "code",
   "execution_count": 85,
   "metadata": {
    "colab": {
     "base_uri": "https://localhost:8080/",
     "height": 396
    },
    "executionInfo": {
     "elapsed": 32,
     "status": "ok",
     "timestamp": 1654267978466,
     "user": {
      "displayName": "Angela Olarte",
      "userId": "04022086783241571381"
     },
     "user_tz": 300
    },
    "id": "nodY5TyvqpOr",
    "outputId": "ab55bcaa-720d-4ac2-b091-6afe380cc232"
   },
   "outputs": [
    {
     "data": {
      "text/html": [
       "<div>\n",
       "<style scoped>\n",
       "    .dataframe tbody tr th:only-of-type {\n",
       "        vertical-align: middle;\n",
       "    }\n",
       "\n",
       "    .dataframe tbody tr th {\n",
       "        vertical-align: top;\n",
       "    }\n",
       "\n",
       "    .dataframe thead th {\n",
       "        text-align: right;\n",
       "    }\n",
       "</style>\n",
       "<table border=\"1\" class=\"dataframe\">\n",
       "  <thead>\n",
       "    <tr style=\"text-align: right;\">\n",
       "      <th></th>\n",
       "      <th>NÚMERO CERTIFICADO</th>\n",
       "      <th>DEPARTAMENTO</th>\n",
       "      <th>MUNICIPIO</th>\n",
       "      <th>AREA DEFUNCIÓN</th>\n",
       "      <th>INSPECCIÓN CORREGIMIENTO O CASERIO DEFUNCIÓN</th>\n",
       "      <th>SITIO DEFUNCIÓN</th>\n",
       "      <th>CÓDIGO INSTITUCIÓN</th>\n",
       "      <th>NOMBRE INSTITUCIÓN</th>\n",
       "      <th>TIPO DEFUNCIÓN</th>\n",
       "      <th>FECHA DEFUNCIÓN</th>\n",
       "      <th>...</th>\n",
       "      <th>TIPO PROFESIONAL</th>\n",
       "      <th>REGISTRO PROFESIONAL</th>\n",
       "      <th>DEPARTAMENTO EXPEDICIÓN</th>\n",
       "      <th>MUNICIPIO EXPEDICIÓN</th>\n",
       "      <th>FECHA EXPEDICIÓN</th>\n",
       "      <th>ESTADO CERTIFICADO</th>\n",
       "      <th>CÓDIGO ENTIDAD REGISTRÓ</th>\n",
       "      <th>USUARIO REGISTRÓ</th>\n",
       "      <th>ÚLTIMA FECHA MODIFICACIÓN</th>\n",
       "      <th>FECHA REGISTRO</th>\n",
       "    </tr>\n",
       "  </thead>\n",
       "  <tbody>\n",
       "    <tr>\n",
       "      <th>0</th>\n",
       "      <td>710159431.0</td>\n",
       "      <td>VALLE DEL CAUCA</td>\n",
       "      <td>CALI</td>\n",
       "      <td>CABECERA MUNICIPAL</td>\n",
       "      <td>NaN</td>\n",
       "      <td>HOSPITAL/CLÍNICA</td>\n",
       "      <td>7.600104e+11</td>\n",
       "      <td>760010379901 E.S.E. HOSPITAL UNIVERSITARIO DEL...</td>\n",
       "      <td>FETAL</td>\n",
       "      <td>1/01/2016</td>\n",
       "      <td>...</td>\n",
       "      <td>MÉDICO</td>\n",
       "      <td>766711-11</td>\n",
       "      <td>VALLE DEL CAUCA</td>\n",
       "      <td>CALI</td>\n",
       "      <td>1/01/2016</td>\n",
       "      <td>CONFIRMADO</td>\n",
       "      <td>760010379901</td>\n",
       "      <td>STGUEVARAFR</td>\n",
       "      <td>1/01/2016</td>\n",
       "      <td>1/01/2016</td>\n",
       "    </tr>\n",
       "    <tr>\n",
       "      <th>1</th>\n",
       "      <td>710159449.0</td>\n",
       "      <td>VALLE DEL CAUCA</td>\n",
       "      <td>CALI</td>\n",
       "      <td>CABECERA MUNICIPAL</td>\n",
       "      <td>NaN</td>\n",
       "      <td>CASA/DOMICILIO</td>\n",
       "      <td>7.600104e+11</td>\n",
       "      <td>760010379901 E.S.E. HOSPITAL UNIVERSITARIO DEL...</td>\n",
       "      <td>NO FETAL</td>\n",
       "      <td>2/01/2016</td>\n",
       "      <td>...</td>\n",
       "      <td>MÉDICO</td>\n",
       "      <td>10350</td>\n",
       "      <td>VALLE DEL CAUCA</td>\n",
       "      <td>CALI</td>\n",
       "      <td>7/01/2016</td>\n",
       "      <td>CONFIRMADO</td>\n",
       "      <td>760010379901</td>\n",
       "      <td>CATABORDAA</td>\n",
       "      <td>7/01/2016</td>\n",
       "      <td>7/01/2016</td>\n",
       "    </tr>\n",
       "  </tbody>\n",
       "</table>\n",
       "<p>2 rows × 82 columns</p>\n",
       "</div>"
      ],
      "text/plain": [
       "   NÚMERO CERTIFICADO     DEPARTAMENTO MUNICIPIO      AREA DEFUNCIÓN  \\\n",
       "0         710159431.0  VALLE DEL CAUCA      CALI  CABECERA MUNICIPAL   \n",
       "1         710159449.0  VALLE DEL CAUCA      CALI  CABECERA MUNICIPAL   \n",
       "\n",
       "  INSPECCIÓN CORREGIMIENTO O CASERIO DEFUNCIÓN   SITIO DEFUNCIÓN  \\\n",
       "0                                          NaN  HOSPITAL/CLÍNICA   \n",
       "1                                          NaN    CASA/DOMICILIO   \n",
       "\n",
       "   CÓDIGO INSTITUCIÓN                                 NOMBRE INSTITUCIÓN  \\\n",
       "0        7.600104e+11  760010379901 E.S.E. HOSPITAL UNIVERSITARIO DEL...   \n",
       "1        7.600104e+11  760010379901 E.S.E. HOSPITAL UNIVERSITARIO DEL...   \n",
       "\n",
       "  TIPO DEFUNCIÓN FECHA DEFUNCIÓN  ... TIPO PROFESIONAL REGISTRO PROFESIONAL  \\\n",
       "0          FETAL       1/01/2016  ...           MÉDICO            766711-11   \n",
       "1       NO FETAL       2/01/2016  ...           MÉDICO                10350   \n",
       "\n",
       "  DEPARTAMENTO EXPEDICIÓN MUNICIPIO EXPEDICIÓN FECHA EXPEDICIÓN  \\\n",
       "0         VALLE DEL CAUCA                 CALI        1/01/2016   \n",
       "1         VALLE DEL CAUCA                 CALI        7/01/2016   \n",
       "\n",
       "  ESTADO CERTIFICADO CÓDIGO ENTIDAD REGISTRÓ USUARIO REGISTRÓ  \\\n",
       "0         CONFIRMADO        760010379901          STGUEVARAFR   \n",
       "1         CONFIRMADO        760010379901           CATABORDAA   \n",
       "\n",
       "  ÚLTIMA FECHA MODIFICACIÓN FECHA REGISTRO  \n",
       "0                 1/01/2016      1/01/2016  \n",
       "1                 7/01/2016      7/01/2016  \n",
       "\n",
       "[2 rows x 82 columns]"
      ]
     },
     "execution_count": 85,
     "metadata": {},
     "output_type": "execute_result"
    }
   ],
   "source": [
    "dfRuaf.head(2)"
   ]
  },
  {
   "cell_type": "code",
   "execution_count": 86,
   "metadata": {
    "id": "Kx8fffpEqpL5"
   },
   "outputs": [],
   "source": [
    "# convert to datetime some columns\n",
    "dfRuaf['FECHA DEFUNCIÓN'] = dfRuaf['FECHA DEFUNCIÓN'].astype(str).str[0:10]\n",
    "dfRuaf['FECHA DEFUNCIÓN'] = pd.to_datetime(dfRuaf['FECHA DEFUNCIÓN'], dayfirst=True, errors = 'coerce')"
   ]
  },
  {
   "cell_type": "code",
   "execution_count": 87,
   "metadata": {
    "id": "dUhsObutqpIx"
   },
   "outputs": [],
   "source": [
    "dfRuaf['FECHA EXPEDICIÓN'] = dfRuaf['FECHA EXPEDICIÓN'].astype(str).str[0:10]\n",
    "dfRuaf['FECHA EXPEDICIÓN'] = pd.to_datetime(dfRuaf['FECHA EXPEDICIÓN'], dayfirst=True, errors = 'coerce')"
   ]
  },
  {
   "cell_type": "code",
   "execution_count": 88,
   "metadata": {
    "colab": {
     "base_uri": "https://localhost:8080/"
    },
    "executionInfo": {
     "elapsed": 276,
     "status": "ok",
     "timestamp": 1654267978716,
     "user": {
      "displayName": "Angela Olarte",
      "userId": "04022086783241571381"
     },
     "user_tz": 300
    },
    "id": "b5a7QbEWquC6",
    "outputId": "130b4690-a97c-49c7-a89a-c12579307e84"
   },
   "outputs": [
    {
     "name": "stdout",
     "output_type": "stream",
     "text": [
      "<class 'pandas.core.frame.DataFrame'>\n",
      "Int64Index: 9553 entries, 0 to 9552\n",
      "Data columns (total 82 columns):\n",
      " #   Column                                        Non-Null Count  Dtype         \n",
      "---  ------                                        --------------  -----         \n",
      " 0   NÚMERO CERTIFICADO                            9552 non-null   float64       \n",
      " 1   DEPARTAMENTO                                  9552 non-null   object        \n",
      " 2   MUNICIPIO                                     9552 non-null   object        \n",
      " 3   AREA DEFUNCIÓN                                9550 non-null   object        \n",
      " 4   INSPECCIÓN CORREGIMIENTO O CASERIO DEFUNCIÓN  8 non-null      object        \n",
      " 5   SITIO DEFUNCIÓN                               9552 non-null   object        \n",
      " 6   CÓDIGO INSTITUCIÓN                            9552 non-null   float64       \n",
      " 7   NOMBRE INSTITUCIÓN                            9552 non-null   object        \n",
      " 8   TIPO DEFUNCIÓN                                9552 non-null   object        \n",
      " 9   FECHA DEFUNCIÓN                               9552 non-null   datetime64[ns]\n",
      " 10  HORA DEFUNCIÓN                                9552 non-null   object        \n",
      " 11  SEXO                                          9552 non-null   object        \n",
      " 12  TIPO DOCUMENTO                                9423 non-null   object        \n",
      " 13  NÚMERO DOCUMENTO                              9553 non-null   object        \n",
      " 14  FECHA NACIMIENTO                              9553 non-null   object        \n",
      " 15  ESTADO CONYUGAL                               9553 non-null   object        \n",
      " 16  EDAD                                          9553 non-null   object        \n",
      " 17  UNIDAD DE MEDIDA                              9553 non-null   object        \n",
      " 18  NIVEL EDUCATIVO                               9553 non-null   object        \n",
      " 19  ULTIMO AÑO APROBADO                           9553 non-null   object        \n",
      " 20  OCUPACIÓN                                     9553 non-null   object        \n",
      " 21  PERTENENCIA ÉTNICA                            9553 non-null   object        \n",
      " 22  GRUPO INDIGENA                                9553 non-null   object        \n",
      " 23  PAÍS RESIDENCIA                               9553 non-null   object        \n",
      " 24  DEPARTAMENTO RESIDENCIA                       9553 non-null   object        \n",
      " 25  MUNICIPIO RESIDENCIA                          9553 non-null   object        \n",
      " 26  AREA RESIDENCIA                               9553 non-null   object        \n",
      " 27  LOCALIDAD                                     9553 non-null   object        \n",
      " 28  BARRIO                                        9541 non-null   object        \n",
      " 29  DIRECCIÓN                                     9552 non-null   object        \n",
      " 30  CENTRO POBLADO                                9553 non-null   object        \n",
      " 31  RURAL DISPERSO                                9553 non-null   object        \n",
      " 32  RÉGIMEN SEGURIDAD                             9553 non-null   object        \n",
      " 33  TIPO ADMINISTRADORA                           9553 non-null   object        \n",
      " 34  NOMBRE ADMINISTRADORA                         9553 non-null   object        \n",
      " 35  PROBABLE MANERA MUERTE                        9553 non-null   object        \n",
      " 36  EXPEDIDO POR                                  9553 non-null   object        \n",
      " 37  RELACIÓN MUERTE PARTO                         9553 non-null   object        \n",
      " 38  TIPO PARTO                                    9553 non-null   object        \n",
      " 39  MULTIPLICIDAD                                 9553 non-null   object        \n",
      " 40  TIEMPO GESTACIÓN                              9553 non-null   object        \n",
      " 41  PESO FETO                                     9553 non-null   object        \n",
      " 42  TIPO DOCUMENTO MADRE                          9553 non-null   object        \n",
      " 43  NÚMERO DOCUMENTO MADRE                        9553 non-null   object        \n",
      " 44  EDAD MADRE                                    9553 non-null   object        \n",
      " 45  UNIDAD MEDIDA EDAD MADRE                      9553 non-null   object        \n",
      " 46  HIJOS NACIDOS VIVOS                           9553 non-null   object        \n",
      " 47  HIJOS NACIDOS MUERTOS                         9553 non-null   object        \n",
      " 48  ESTADO CONYUGAL MADRE                         9553 non-null   object        \n",
      " 49  NIVEL EDUCATIVO MADRE                         9553 non-null   object        \n",
      " 50  ULTIMO AÑO APROBADO MADRE                     9553 non-null   object        \n",
      " 51  EMBARAZADA CUANDO FALLECIÓ                    9553 non-null   object        \n",
      " 52  EMBARAZADA ÚLTIMAS 6 SEMANAS                  9553 non-null   object        \n",
      " 53  EMBARAZADA ÚLTIMOS 12 MESES                   9553 non-null   object        \n",
      " 54  TIPO MUERTE VIOLENTA                          9553 non-null   object        \n",
      " 55  DESCRIPCIÓN MUERTE VIOLENTA                   9553 non-null   object        \n",
      " 56  DEPARTAMENTO MUERTE VIOLENTA                  9553 non-null   object        \n",
      " 57  MUNICIPIO MUERTE VIOLENTA                     9553 non-null   object        \n",
      " 58  DIRECCIÓN MUERTE VIOLENTA                     9553 non-null   object        \n",
      " 59  MECANISMO 1                                   9553 non-null   object        \n",
      " 60  MECANISMO 2                                   9553 non-null   object        \n",
      " 61  MECANISMO 3                                   9553 non-null   object        \n",
      " 62  MECANISMO 4                                   9553 non-null   object        \n",
      " 63  RECIBIÓ ASISTENCIA MEDICA                     9553 non-null   object        \n",
      " 64  CAUSA DIRECTA                                 9553 non-null   object        \n",
      " 65  CAUSA ANTECEDENTES B                          9553 non-null   object        \n",
      " 66  CAUSA ANTECEDENTES C                          9553 non-null   object        \n",
      " 67  CAUSA ANTECEDENTES D                          9553 non-null   object        \n",
      " 68  ESTADOS PATOLÓGICOS                           9553 non-null   object        \n",
      " 69  MUERTE SIN CERTIFICACIÓN MÉDICA               9553 non-null   object        \n",
      " 70  TIPO DOCUMENTO CERTIFICADOR                   9553 non-null   object        \n",
      " 71  NÚMERO DOCUMENTO CERTIFICADOR                 9553 non-null   object        \n",
      " 72  TIPO PROFESIONAL                              9553 non-null   object        \n",
      " 73  REGISTRO PROFESIONAL                          9553 non-null   object        \n",
      " 74  DEPARTAMENTO EXPEDICIÓN                       9553 non-null   object        \n",
      " 75  MUNICIPIO EXPEDICIÓN                          9553 non-null   object        \n",
      " 76  FECHA EXPEDICIÓN                              9552 non-null   datetime64[ns]\n",
      " 77  ESTADO CERTIFICADO                            9553 non-null   object        \n",
      " 78  CÓDIGO ENTIDAD REGISTRÓ                       9553 non-null   object        \n",
      " 79  USUARIO REGISTRÓ                              9553 non-null   object        \n",
      " 80  ÚLTIMA FECHA MODIFICACIÓN                     9553 non-null   object        \n",
      " 81  FECHA REGISTRO                                9553 non-null   object        \n",
      "dtypes: datetime64[ns](2), float64(2), object(78)\n",
      "memory usage: 6.0+ MB\n"
     ]
    }
   ],
   "source": [
    "# dfRuaf Info\n",
    "dfRuaf.info()"
   ]
  },
  {
   "cell_type": "code",
   "execution_count": 89,
   "metadata": {
    "colab": {
     "base_uri": "https://localhost:8080/"
    },
    "executionInfo": {
     "elapsed": 28,
     "status": "ok",
     "timestamp": 1654267978717,
     "user": {
      "displayName": "Angela Olarte",
      "userId": "04022086783241571381"
     },
     "user_tz": 300
    },
    "id": "PD_LKoaBZaMg",
    "outputId": "f5e36c87-0afd-4b86-9ff9-f8ac6f1b4e9d"
   },
   "outputs": [
    {
     "data": {
      "text/plain": [
       "array(['SIN ESPECIFICAR', '4', '2', '1', '3', '0'], dtype=object)"
      ]
     },
     "execution_count": 89,
     "metadata": {},
     "output_type": "execute_result"
    }
   ],
   "source": [
    "# unique data for unit of measurement\n",
    "dfRuaf['UNIDAD DE MEDIDA'].unique()"
   ]
  },
  {
   "cell_type": "markdown",
   "metadata": {
    "id": "9xrCoArtZph2"
   },
   "source": [
    "## AGE VARIABLE"
   ]
  },
  {
   "cell_type": "markdown",
   "metadata": {
    "id": "OV6NtS4HZrit"
   },
   "source": [
    "As there are 6 units of measurement for ages, some important values are highlighted within each unit of measurement."
   ]
  },
  {
   "cell_type": "markdown",
   "metadata": {
    "id": "JhbnwOafaBD9"
   },
   "source": [
    "We remove what appears to be 'SIN IDENTIFICAR' in order to obtain some measurements concerning the ages and their respective units of measurement."
   ]
  },
  {
   "cell_type": "code",
   "execution_count": 90,
   "metadata": {
    "colab": {
     "base_uri": "https://localhost:8080/"
    },
    "executionInfo": {
     "elapsed": 304,
     "status": "ok",
     "timestamp": 1654267979008,
     "user": {
      "displayName": "Angela Olarte",
      "userId": "04022086783241571381"
     },
     "user_tz": 300
    },
    "id": "siHlyPcpaM5o",
    "outputId": "c743ecb0-33f8-4fe7-85c8-93063bbfb8c1"
   },
   "outputs": [
    {
     "data": {
      "text/plain": [
       "Text(0.5, 1.0, 'Age by Unit of Measurement')"
      ]
     },
     "execution_count": 90,
     "metadata": {},
     "output_type": "execute_result"
    },
    {
     "data": {
      "image/png": "[encoded data removed]",
      "text/plain": [
       "<Figure size 576x576 with 1 Axes>"
      ]
     },
     "metadata": {
      "needs_background": "light"
     },
     "output_type": "display_data"
    }
   ],
   "source": [
    "indexNames = dfRuaf[dfRuaf['EDAD '] == 'SIN ESPECIFICAR' ].index\n",
    "# Delete these row indexes from dataFrame\n",
    "dfRuaf.drop(indexNames , inplace=True)\n",
    "sns.boxplot(x=dfRuaf[\"UNIDAD DE MEDIDA\"].astype(int), y=dfRuaf[\"EDAD \"].astype(int))\n",
    "plt.ylabel('Age')\n",
    "plt.xlabel('Unit of Measurement')\n",
    "plt.title('Age by Unit of Measurement')\n"
   ]
  },
  {
   "cell_type": "markdown",
   "metadata": {
    "id": "UHhMueesaQge"
   },
   "source": [
    "For this case the units of measurement are as follows:\n",
    "\n",
    "0 = years\n",
    "1 = months\n",
    "2 = days\n",
    "3 = hours\n",
    "4 = minutes"
   ]
  },
  {
   "cell_type": "markdown",
   "metadata": {
    "id": "GQEB3w5Gqwbf"
   },
   "source": [
    "## DEATH SITE VARIABLE"
   ]
  },
  {
   "cell_type": "code",
   "execution_count": 91,
   "metadata": {
    "colab": {
     "base_uri": "https://localhost:8080/"
    },
    "executionInfo": {
     "elapsed": 31,
     "status": "ok",
     "timestamp": 1654267979008,
     "user": {
      "displayName": "Angela Olarte",
      "userId": "04022086783241571381"
     },
     "user_tz": 300
    },
    "id": "MThBXXbSq5pQ",
    "outputId": "21ad6d83-1ce3-4f0e-f511-23a4ae7a3a3d"
   },
   "outputs": [
    {
     "data": {
      "text/plain": [
       "array(['CASA/DOMICILIO', 'HOSPITAL/CLÍNICA', 'OTRO SITIO', 'VÍA PÚBLICA',\n",
       "       'CENTRO/PUESTO DE SALUD'], dtype=object)"
      ]
     },
     "execution_count": 91,
     "metadata": {},
     "output_type": "execute_result"
    }
   ],
   "source": [
    "# IDENTIFICACION list\n",
    "dfRuaf['SITIO DEFUNCIÓN'].unique()"
   ]
  },
  {
   "cell_type": "code",
   "execution_count": 92,
   "metadata": {
    "colab": {
     "base_uri": "https://localhost:8080/"
    },
    "executionInfo": {
     "elapsed": 24,
     "status": "ok",
     "timestamp": 1654267979009,
     "user": {
      "displayName": "Angela Olarte",
      "userId": "04022086783241571381"
     },
     "user_tz": 300
    },
    "id": "O6Ff5CiVq5lr",
    "outputId": "7946bd6f-d508-446d-e9d1-26aedf5acc42"
   },
   "outputs": [
    {
     "data": {
      "text/plain": [
       "5"
      ]
     },
     "execution_count": 92,
     "metadata": {},
     "output_type": "execute_result"
    }
   ],
   "source": [
    "# number of antibiotic\n",
    "len(dfRuaf['SITIO DEFUNCIÓN'].unique())"
   ]
  },
  {
   "cell_type": "code",
   "execution_count": 93,
   "metadata": {
    "colab": {
     "base_uri": "https://localhost:8080/"
    },
    "executionInfo": {
     "elapsed": 18,
     "status": "ok",
     "timestamp": 1654267979009,
     "user": {
      "displayName": "Angela Olarte",
      "userId": "04022086783241571381"
     },
     "user_tz": 300
    },
    "id": "8WXqYtk_q5jE",
    "outputId": "5988dd6e-887f-4798-cd6d-4443e3ddc8a7"
   },
   "outputs": [
    {
     "data": {
      "text/plain": [
       "0"
      ]
     },
     "execution_count": 93,
     "metadata": {},
     "output_type": "execute_result"
    }
   ],
   "source": [
    "# Number of Missing Values\n",
    "dfRuaf['SITIO DEFUNCIÓN'].isnull().sum()"
   ]
  },
  {
   "cell_type": "markdown",
   "metadata": {
    "id": "F71pm2WHqxkp"
   },
   "source": [
    "## TYPE OF DEATH VARIABLE"
   ]
  },
  {
   "cell_type": "code",
   "execution_count": 94,
   "metadata": {
    "colab": {
     "base_uri": "https://localhost:8080/"
    },
    "executionInfo": {
     "elapsed": 15,
     "status": "ok",
     "timestamp": 1654267979009,
     "user": {
      "displayName": "Angela Olarte",
      "userId": "04022086783241571381"
     },
     "user_tz": 300
    },
    "id": "N5uA9S16q6bL",
    "outputId": "30068ba3-23e1-4148-c24f-15c165d0340f"
   },
   "outputs": [
    {
     "data": {
      "text/plain": [
       "array(['NO FETAL'], dtype=object)"
      ]
     },
     "execution_count": 94,
     "metadata": {},
     "output_type": "execute_result"
    }
   ],
   "source": [
    "# IDENTIFICACION list\n",
    "dfRuaf['TIPO DEFUNCIÓN'].unique()"
   ]
  },
  {
   "cell_type": "code",
   "execution_count": 95,
   "metadata": {
    "colab": {
     "base_uri": "https://localhost:8080/"
    },
    "executionInfo": {
     "elapsed": 13,
     "status": "ok",
     "timestamp": 1654267979010,
     "user": {
      "displayName": "Angela Olarte",
      "userId": "04022086783241571381"
     },
     "user_tz": 300
    },
    "id": "G37zICaJq6YV",
    "outputId": "ef844262-3936-4bde-f09f-2c7e5548372c"
   },
   "outputs": [
    {
     "data": {
      "text/plain": [
       "1"
      ]
     },
     "execution_count": 95,
     "metadata": {},
     "output_type": "execute_result"
    }
   ],
   "source": [
    "# number of antibiotic\n",
    "len(dfRuaf['TIPO DEFUNCIÓN'].unique())"
   ]
  },
  {
   "cell_type": "code",
   "execution_count": 96,
   "metadata": {
    "colab": {
     "base_uri": "https://localhost:8080/"
    },
    "executionInfo": {
     "elapsed": 10,
     "status": "ok",
     "timestamp": 1654267979010,
     "user": {
      "displayName": "Angela Olarte",
      "userId": "04022086783241571381"
     },
     "user_tz": 300
    },
    "id": "LBGdbBY5q6Vc",
    "outputId": "3b10e2ba-9bf6-4de3-8736-9c2fdc25bafd"
   },
   "outputs": [
    {
     "data": {
      "text/plain": [
       "0"
      ]
     },
     "execution_count": 96,
     "metadata": {},
     "output_type": "execute_result"
    }
   ],
   "source": [
    "# Number of Missing Values\n",
    "dfRuaf['TIPO DEFUNCIÓN'].isnull().sum()"
   ]
  },
  {
   "cell_type": "markdown",
   "metadata": {
    "id": "Gpd7t-x-aXCr"
   },
   "source": [
    "## ANTECEDENT CAUSE B"
   ]
  },
  {
   "cell_type": "code",
   "execution_count": 97,
   "metadata": {
    "colab": {
     "base_uri": "https://localhost:8080/"
    },
    "executionInfo": {
     "elapsed": 337,
     "status": "ok",
     "timestamp": 1654267979340,
     "user": {
      "displayName": "Angela Olarte",
      "userId": "04022086783241571381"
     },
     "user_tz": 300
    },
    "id": "H2BXWVYYaXcb",
    "outputId": "671bc5e7-c750-4a5b-c21f-4f03c37bbdd4"
   },
   "outputs": [
    {
     "data": {
      "text/plain": [
       "array(['NEUTROPENIA SEVERA', 'DIABETES MELLITUS', 'TUBERCULOSIS PULMONAR',\n",
       "       ..., 'DIABETES MELLITUS INSULINODEPENDIENTE',\n",
       "       'TROMBOCITONIA SEVERA', 'DIFICULTAD RESPIRATORIA SEVERA'],\n",
       "      dtype=object)"
      ]
     },
     "execution_count": 97,
     "metadata": {},
     "output_type": "execute_result"
    }
   ],
   "source": [
    "# CAUSE B list\n",
    "dfRuaf['CAUSA ANTECEDENTES B'].unique()"
   ]
  },
  {
   "cell_type": "code",
   "execution_count": 98,
   "metadata": {
    "colab": {
     "base_uri": "https://localhost:8080/"
    },
    "executionInfo": {
     "elapsed": 136,
     "status": "ok",
     "timestamp": 1654267979341,
     "user": {
      "displayName": "Angela Olarte",
      "userId": "04022086783241571381"
     },
     "user_tz": 300
    },
    "id": "3vkIhDcYaXxT",
    "outputId": "a3cb8157-e87b-4eb5-973f-30e9822d4285"
   },
   "outputs": [
    {
     "data": {
      "text/plain": [
       "3168"
      ]
     },
     "execution_count": 98,
     "metadata": {},
     "output_type": "execute_result"
    }
   ],
   "source": [
    "# number of CAUSE B\n",
    "len(dfRuaf['CAUSA ANTECEDENTES B'].unique())"
   ]
  },
  {
   "cell_type": "code",
   "execution_count": 99,
   "metadata": {
    "colab": {
     "base_uri": "https://localhost:8080/"
    },
    "executionInfo": {
     "elapsed": 128,
     "status": "ok",
     "timestamp": 1654267979341,
     "user": {
      "displayName": "Angela Olarte",
      "userId": "04022086783241571381"
     },
     "user_tz": 300
    },
    "id": "JpW31tqVaXoN",
    "outputId": "d3f2d25d-aba5-4846-c437-bb5e149fdeca"
   },
   "outputs": [
    {
     "data": {
      "text/plain": [
       "0"
      ]
     },
     "execution_count": 99,
     "metadata": {},
     "output_type": "execute_result"
    }
   ],
   "source": [
    "# Number of Missing Values\n",
    "dfRuaf['CAUSA ANTECEDENTES B'].isnull().sum()"
   ]
  },
  {
   "cell_type": "markdown",
   "metadata": {
    "id": "jlHX_YvXadAH"
   },
   "source": [
    "## ANTECEDENT CAUSE C"
   ]
  },
  {
   "cell_type": "code",
   "execution_count": 100,
   "metadata": {
    "colab": {
     "base_uri": "https://localhost:8080/"
    },
    "executionInfo": {
     "elapsed": 122,
     "status": "ok",
     "timestamp": 1654267979342,
     "user": {
      "displayName": "Angela Olarte",
      "userId": "04022086783241571381"
     },
     "user_tz": 300
    },
    "id": "zF7FlNHoadV9",
    "outputId": "5d6a439a-5ee4-47b1-e25a-0fddcfb3ded8"
   },
   "outputs": [
    {
     "data": {
      "text/plain": [
       "array(['LUPUS ERITEMATOSO SISTEMICO ACTIVO', 'HIPERTENSION ARTERIAL',\n",
       "       'INFECCION DEL VIH RESULTANTE EN MULTIPLES COMPLICACIONES', ...,\n",
       "       'PERFORACION DE COLON SIGMOIDES ESPONTANEO',\n",
       "       'TUMOR MALIGNO DE ENDOMETRIO',\n",
       "       'SINDROME INFLAMATORIO DE RECONSTITUCION INMUNE'], dtype=object)"
      ]
     },
     "execution_count": 100,
     "metadata": {},
     "output_type": "execute_result"
    }
   ],
   "source": [
    "# CAUSE C list\n",
    "dfRuaf['CAUSA ANTECEDENTES C'].unique()"
   ]
  },
  {
   "cell_type": "code",
   "execution_count": 101,
   "metadata": {
    "colab": {
     "base_uri": "https://localhost:8080/"
    },
    "executionInfo": {
     "elapsed": 116,
     "status": "ok",
     "timestamp": 1654267979342,
     "user": {
      "displayName": "Angela Olarte",
      "userId": "04022086783241571381"
     },
     "user_tz": 300
    },
    "id": "scSVuyAwadsl",
    "outputId": "593e584d-963b-4487-b2c7-b0ac6589c108"
   },
   "outputs": [
    {
     "data": {
      "text/plain": [
       "2497"
      ]
     },
     "execution_count": 101,
     "metadata": {},
     "output_type": "execute_result"
    }
   ],
   "source": [
    "# number of CAUSE C\n",
    "len(dfRuaf['CAUSA ANTECEDENTES C'].unique())"
   ]
  },
  {
   "cell_type": "code",
   "execution_count": 102,
   "metadata": {
    "colab": {
     "base_uri": "https://localhost:8080/"
    },
    "executionInfo": {
     "elapsed": 108,
     "status": "ok",
     "timestamp": 1654267979343,
     "user": {
      "displayName": "Angela Olarte",
      "userId": "04022086783241571381"
     },
     "user_tz": 300
    },
    "id": "PE0a_B5nadjJ",
    "outputId": "f368ef92-c631-4993-e4b7-7e5999ff18f8"
   },
   "outputs": [
    {
     "data": {
      "text/plain": [
       "0"
      ]
     },
     "execution_count": 102,
     "metadata": {},
     "output_type": "execute_result"
    }
   ],
   "source": [
    "# Number of Missing Values\n",
    "dfRuaf['CAUSA ANTECEDENTES C'].isnull().sum()"
   ]
  },
  {
   "cell_type": "markdown",
   "metadata": {
    "id": "KvTKcedeajwY"
   },
   "source": [
    "## ANTECEDENT CAUSE D"
   ]
  },
  {
   "cell_type": "code",
   "execution_count": 103,
   "metadata": {
    "colab": {
     "base_uri": "https://localhost:8080/"
    },
    "executionInfo": {
     "elapsed": 103,
     "status": "ok",
     "timestamp": 1654267979343,
     "user": {
      "displayName": "Angela Olarte",
      "userId": "04022086783241571381"
     },
     "user_tz": 300
    },
    "id": "w3X2bEA7akG-",
    "outputId": "adafd1d4-e179-4ba9-9780-69061597c833"
   },
   "outputs": [
    {
     "data": {
      "text/plain": [
       "array(['SIN ESPECIFICAR', 'LEISHMANIASIS', 'HIPERTENSION ARTERIAL', ...,\n",
       "       'ULCERA SACRA GRADO IV', 'RUPTURA DE ESOFAGO PROXIMAL', 'DEMENCIA'],\n",
       "      dtype=object)"
      ]
     },
     "execution_count": 103,
     "metadata": {},
     "output_type": "execute_result"
    }
   ],
   "source": [
    "# CAUSE D list\n",
    "dfRuaf['CAUSA ANTECEDENTES D'].unique()"
   ]
  },
  {
   "cell_type": "code",
   "execution_count": 104,
   "metadata": {
    "colab": {
     "base_uri": "https://localhost:8080/"
    },
    "executionInfo": {
     "elapsed": 95,
     "status": "ok",
     "timestamp": 1654267979344,
     "user": {
      "displayName": "Angela Olarte",
      "userId": "04022086783241571381"
     },
     "user_tz": 300
    },
    "id": "45iiu9h6akZ9",
    "outputId": "df4b0ba9-220a-4709-bed1-293368654a09"
   },
   "outputs": [
    {
     "data": {
      "text/plain": [
       "1097"
      ]
     },
     "execution_count": 104,
     "metadata": {},
     "output_type": "execute_result"
    }
   ],
   "source": [
    "# number of CAUSE C\n",
    "len(dfRuaf['CAUSA ANTECEDENTES D'].unique())"
   ]
  },
  {
   "cell_type": "code",
   "execution_count": 105,
   "metadata": {
    "colab": {
     "base_uri": "https://localhost:8080/"
    },
    "executionInfo": {
     "elapsed": 88,
     "status": "ok",
     "timestamp": 1654267979344,
     "user": {
      "displayName": "Angela Olarte",
      "userId": "04022086783241571381"
     },
     "user_tz": 300
    },
    "id": "RhFx94yfakRo",
    "outputId": "74dc2a07-e5ca-4d96-ba15-7e38c8a8ba4b"
   },
   "outputs": [
    {
     "data": {
      "text/plain": [
       "0"
      ]
     },
     "execution_count": 105,
     "metadata": {},
     "output_type": "execute_result"
    }
   ],
   "source": [
    "# Number of Missing Values\n",
    "dfRuaf['CAUSA ANTECEDENTES D'].isnull().sum()"
   ]
  },
  {
   "cell_type": "markdown",
   "metadata": {
    "id": "U_F0yl8vap_y"
   },
   "source": [
    "## PATOLOGIC STATUS"
   ]
  },
  {
   "cell_type": "code",
   "execution_count": 106,
   "metadata": {
    "colab": {
     "base_uri": "https://localhost:8080/"
    },
    "executionInfo": {
     "elapsed": 80,
     "status": "ok",
     "timestamp": 1654267979345,
     "user": {
      "displayName": "Angela Olarte",
      "userId": "04022086783241571381"
     },
     "user_tz": 300
    },
    "id": "NPRUuQqXaqll",
    "outputId": "e5c54d69-52ec-42aa-b36a-5f186d30f166"
   },
   "outputs": [
    {
     "data": {
      "text/plain": [
       "array(['SIN ESPECIFICAR', 'DUCTUS ARTERIOSO PERSISTENTE',\n",
       "       'INSUFICIENCIA CARDIACA CONGESTIVA', ...,\n",
       "       'HIPERTENSION ARTERIAL INSUFICIENCIA HEPATICA',\n",
       "       'TOXOPLASMOSIS CEREBRAL EN ESTUDIO NEUROLUES TRATADA',\n",
       "       'INFARTO MESENCEFALICO MENINGITIS BACTERIANA CON SECUELAS EN LA NIÑEZ'],\n",
       "      dtype=object)"
      ]
     },
     "execution_count": 106,
     "metadata": {},
     "output_type": "execute_result"
    }
   ],
   "source": [
    "# PATOLOGIC STATUS list\n",
    "dfRuaf['ESTADOS PATOLÓGICOS'].unique()"
   ]
  },
  {
   "cell_type": "code",
   "execution_count": 107,
   "metadata": {
    "colab": {
     "base_uri": "https://localhost:8080/"
    },
    "executionInfo": {
     "elapsed": 73,
     "status": "ok",
     "timestamp": 1654267979345,
     "user": {
      "displayName": "Angela Olarte",
      "userId": "04022086783241571381"
     },
     "user_tz": 300
    },
    "id": "V0J6HA2Eaq9c",
    "outputId": "3d5bba56-4c4f-4448-c105-58fc20c44654"
   },
   "outputs": [
    {
     "data": {
      "text/plain": [
       "2696"
      ]
     },
     "execution_count": 107,
     "metadata": {},
     "output_type": "execute_result"
    }
   ],
   "source": [
    "# number of PATOLOGIC STATUS\n",
    "len(dfRuaf['ESTADOS PATOLÓGICOS'].unique())"
   ]
  },
  {
   "cell_type": "code",
   "execution_count": 108,
   "metadata": {
    "colab": {
     "base_uri": "https://localhost:8080/"
    },
    "executionInfo": {
     "elapsed": 65,
     "status": "ok",
     "timestamp": 1654267979346,
     "user": {
      "displayName": "Angela Olarte",
      "userId": "04022086783241571381"
     },
     "user_tz": 300
    },
    "id": "p2Y-Tw2Laqvm",
    "outputId": "a13644ce-fc22-4789-dcc8-8f3f89d8beaa"
   },
   "outputs": [
    {
     "data": {
      "text/plain": [
       "0"
      ]
     },
     "execution_count": 108,
     "metadata": {},
     "output_type": "execute_result"
    }
   ],
   "source": [
    "# Number of Missing Values\n",
    "dfRuaf['ESTADOS PATOLÓGICOS'].isnull().sum()"
   ]
  },
  {
   "cell_type": "markdown",
   "metadata": {
    "id": "RirBD0ima54Y"
   },
   "source": [
    "## PROBABLE MANNER OF DEATH"
   ]
  },
  {
   "cell_type": "code",
   "execution_count": 109,
   "metadata": {
    "colab": {
     "base_uri": "https://localhost:8080/"
    },
    "executionInfo": {
     "elapsed": 58,
     "status": "ok",
     "timestamp": 1654267979346,
     "user": {
      "displayName": "Angela Olarte",
      "userId": "04022086783241571381"
     },
     "user_tz": 300
    },
    "id": "-RbxjzXea6Mi",
    "outputId": "681c7a41-a29d-49c8-da8f-00a9bf598f6e"
   },
   "outputs": [
    {
     "data": {
      "text/plain": [
       "array(['NATURAL', 'EN ESTUDIO', 'VIOLENTA'], dtype=object)"
      ]
     },
     "execution_count": 109,
     "metadata": {},
     "output_type": "execute_result"
    }
   ],
   "source": [
    "# PROBABLE MANNER OF DEATH list\n",
    "dfRuaf['PROBABLE MANERA MUERTE'].unique()"
   ]
  },
  {
   "cell_type": "code",
   "execution_count": 110,
   "metadata": {
    "colab": {
     "base_uri": "https://localhost:8080/"
    },
    "executionInfo": {
     "elapsed": 49,
     "status": "ok",
     "timestamp": 1654267979347,
     "user": {
      "displayName": "Angela Olarte",
      "userId": "04022086783241571381"
     },
     "user_tz": 300
    },
    "id": "Bu7wYIkNa6cT",
    "outputId": "18404705-4551-4ba6-eb83-45da9e9c7e7e"
   },
   "outputs": [
    {
     "data": {
      "text/plain": [
       "3"
      ]
     },
     "execution_count": 110,
     "metadata": {},
     "output_type": "execute_result"
    }
   ],
   "source": [
    "# number of PATOLOGIC STATUS\n",
    "len(dfRuaf['PROBABLE MANERA MUERTE'].unique())"
   ]
  },
  {
   "cell_type": "code",
   "execution_count": 111,
   "metadata": {
    "colab": {
     "base_uri": "https://localhost:8080/"
    },
    "executionInfo": {
     "elapsed": 42,
     "status": "ok",
     "timestamp": 1654267979347,
     "user": {
      "displayName": "Angela Olarte",
      "userId": "04022086783241571381"
     },
     "user_tz": 300
    },
    "id": "87oYT_oKa6VQ",
    "outputId": "f65a2c03-a412-46c2-d4b0-0def1c9a8d9b"
   },
   "outputs": [
    {
     "data": {
      "text/plain": [
       "0"
      ]
     },
     "execution_count": 111,
     "metadata": {},
     "output_type": "execute_result"
    }
   ],
   "source": [
    "# Number of Missing Values\n",
    "dfRuaf['PROBABLE MANERA MUERTE'].isnull().sum()"
   ]
  },
  {
   "cell_type": "markdown",
   "metadata": {
    "id": "PtnLOZ2hqwYp"
   },
   "source": [
    "## DIRECT CAUSE VARIABLE"
   ]
  },
  {
   "cell_type": "code",
   "execution_count": 112,
   "metadata": {
    "colab": {
     "base_uri": "https://localhost:8080/"
    },
    "executionInfo": {
     "elapsed": 36,
     "status": "ok",
     "timestamp": 1654267979348,
     "user": {
      "displayName": "Angela Olarte",
      "userId": "04022086783241571381"
     },
     "user_tz": 300
    },
    "id": "zR7-6Rq8q7bF",
    "outputId": "3715a3ed-f6af-49a2-ba55-19d66d001e67"
   },
   "outputs": [
    {
     "data": {
      "text/plain": [
       "array(['CHOQUE SEPTICO', 'EVENTO CEREBROVASCULAR ISQUEMICO', 'SEPTICEMIA',\n",
       "       ..., 'CHOQUE SEPTICO DE ORIGE URINARIO',\n",
       "       'CARCINOMA MUCOEPIDERMOIDE DE ALTO GRADO ESTADIO IV',\n",
       "       'CETOACIDOSIS DIABÉTICA'], dtype=object)"
      ]
     },
     "execution_count": 112,
     "metadata": {},
     "output_type": "execute_result"
    }
   ],
   "source": [
    "# IDENTIFICACION list\n",
    "dfRuaf['CAUSA DIRECTA'].unique()"
   ]
  },
  {
   "cell_type": "code",
   "execution_count": 113,
   "metadata": {
    "colab": {
     "base_uri": "https://localhost:8080/"
    },
    "executionInfo": {
     "elapsed": 30,
     "status": "ok",
     "timestamp": 1654267979348,
     "user": {
      "displayName": "Angela Olarte",
      "userId": "04022086783241571381"
     },
     "user_tz": 300
    },
    "id": "l6jfOTCgq7V7",
    "outputId": "a29fe47e-82db-4409-c75e-4bc711b91274"
   },
   "outputs": [
    {
     "data": {
      "text/plain": [
       "2503"
      ]
     },
     "execution_count": 113,
     "metadata": {},
     "output_type": "execute_result"
    }
   ],
   "source": [
    "# number of antibiotic\n",
    "len(dfRuaf['CAUSA DIRECTA'].unique())"
   ]
  },
  {
   "cell_type": "code",
   "execution_count": 114,
   "metadata": {
    "colab": {
     "base_uri": "https://localhost:8080/"
    },
    "executionInfo": {
     "elapsed": 24,
     "status": "ok",
     "timestamp": 1654267979349,
     "user": {
      "displayName": "Angela Olarte",
      "userId": "04022086783241571381"
     },
     "user_tz": 300
    },
    "id": "31nuxZaQq4qK",
    "outputId": "0c8cfd36-9079-4123-8293-fd9a077cb739"
   },
   "outputs": [
    {
     "data": {
      "text/plain": [
       "0"
      ]
     },
     "execution_count": 114,
     "metadata": {},
     "output_type": "execute_result"
    }
   ],
   "source": [
    "# Number of Missing Values\n",
    "dfRuaf['CAUSA DIRECTA'].isnull().sum()"
   ]
  },
  {
   "cell_type": "markdown",
   "metadata": {
    "id": "hhI4HdRfbBSD"
   },
   "source": [
    "## FILTER AND PLOTING  ANTECEDENT CAUSE B VARIABLE"
   ]
  },
  {
   "cell_type": "code",
   "execution_count": 115,
   "metadata": {
    "id": "A_LHHWfibB9O"
   },
   "outputs": [],
   "source": [
    "dfNew = dfRuaf.groupby(['NÚMERO CERTIFICADO','CAUSA ANTECEDENTES B']).size()\n",
    "dfNew1 = dfNew.reset_index(level=['CAUSA ANTECEDENTES B'])\n",
    "dfNew2 = dfNew1['CAUSA ANTECEDENTES B'].value_counts()\n",
    "dfNew2.head(20)\n",
    "dfNew3 = pd.DataFrame({'Causa_B':dfNew2.index, 'Conteo':dfNew2.values})\n",
    "dfNew3 = dfNew3.head(20)"
   ]
  },
  {
   "cell_type": "code",
   "execution_count": 116,
   "metadata": {
    "id": "OUcqTIZXbCHN"
   },
   "outputs": [],
   "source": [
    "dfNew = dfRuaf.groupby(['NÚMERO CERTIFICADO','CAUSA ANTECEDENTES B']).size()\n",
    "dfNew1 = dfNew.reset_index(level=['CAUSA ANTECEDENTES B'])\n",
    "dfNew2 = dfNew1['CAUSA ANTECEDENTES B'].value_counts()\n",
    "dfNew2.head(20)\n",
    "dfNew3 = pd.DataFrame({'Causa_B':dfNew2.index, 'Conteo':dfNew2.values})\n",
    "dfNew3 = dfNew3.head(20)"
   ]
  },
  {
   "cell_type": "code",
   "execution_count": 117,
   "metadata": {
    "colab": {
     "base_uri": "https://localhost:8080/",
     "height": 585
    },
    "executionInfo": {
     "elapsed": 287,
     "status": "ok",
     "timestamp": 1654267979834,
     "user": {
      "displayName": "Angela Olarte",
      "userId": "04022086783241571381"
     },
     "user_tz": 300
    },
    "id": "LDFEohN_6Q9Z",
    "outputId": "78edb7c8-21da-46ec-a3d1-bc47aa1e8ec5"
   },
   "outputs": [
    {
     "data": {
      "image/png": "[encoded data removed]",
      "text/plain": [
       "<Figure size 576x576 with 1 Axes>"
      ]
     },
     "metadata": {
      "needs_background": "light"
     },
     "output_type": "display_data"
    }
   ],
   "source": [
    "sns.barplot(dfNew3.Conteo, dfNew3.Causa_B)\n",
    "plt.title('Top Medical History B')\n",
    "plt.ylabel('Medical History B')\n",
    "plt.xlabel('Frequency')\n",
    "plt.rcParams[\"figure.figsize\"] = [7, 7]\n",
    "plt.show()"
   ]
  },
  {
   "cell_type": "markdown",
   "metadata": {
    "id": "HpkasEp4bG0H"
   },
   "source": [
    "## FILTER AND PLOTING  ANTECEDENT CAUSE C VARIABLE"
   ]
  },
  {
   "cell_type": "code",
   "execution_count": 118,
   "metadata": {
    "id": "ewt7ZCKWbHF6"
   },
   "outputs": [],
   "source": [
    "dfNew = dfRuaf.groupby(['NÚMERO CERTIFICADO','CAUSA ANTECEDENTES C']).size()\n",
    "dfNew1 = dfNew.reset_index(level=['CAUSA ANTECEDENTES C'])\n",
    "dfNew2 = dfNew1['CAUSA ANTECEDENTES C'].value_counts()\n",
    "dfNew3 = pd.DataFrame({'Causa_C':dfNew2.index, 'Conteo':dfNew2.values})\n",
    "dfNew3 = dfNew3.head(20)"
   ]
  },
  {
   "cell_type": "code",
   "execution_count": 119,
   "metadata": {
    "colab": {
     "base_uri": "https://localhost:8080/"
    },
    "executionInfo": {
     "elapsed": 593,
     "status": "ok",
     "timestamp": 1654267980419,
     "user": {
      "displayName": "Angela Olarte",
      "userId": "04022086783241571381"
     },
     "user_tz": 300
    },
    "id": "9g7iCz_QbHVS",
    "outputId": "86b53053-0c40-44ce-922f-41a9f1e467fb"
   },
   "outputs": [
    {
     "data": {
      "image/png": "[encoded data removed]",
      "text/plain": [
       "<Figure size 504x504 with 1 Axes>"
      ]
     },
     "metadata": {
      "needs_background": "light"
     },
     "output_type": "display_data"
    }
   ],
   "source": [
    "sns.barplot(dfNew3.Conteo, dfNew3.Causa_C)\n",
    "plt.title('Top Medical History C')\n",
    "plt.ylabel('Medical History C')\n",
    "plt.xlabel('Frequency')\n",
    "plt.rcParams[\"figure.figsize\"] = [7, 7]\n",
    "plt.show()"
   ]
  },
  {
   "cell_type": "markdown",
   "metadata": {
    "id": "xIirFYj_bLfS"
   },
   "source": [
    "## FILTER AND PLOTING  ANTECEDENT CAUSE D VARIABLE"
   ]
  },
  {
   "cell_type": "code",
   "execution_count": 120,
   "metadata": {
    "id": "EhKb4gQWbL0z"
   },
   "outputs": [],
   "source": [
    "dfNew = dfRuaf.groupby(['NÚMERO CERTIFICADO','CAUSA ANTECEDENTES D']).size()\n",
    "dfNew1 = dfNew.reset_index(level=['CAUSA ANTECEDENTES D'])\n",
    "dfNew2 = dfNew1['CAUSA ANTECEDENTES D'].value_counts()\n",
    "dfNew3 = pd.DataFrame({'Causa_D':dfNew2.index, 'Conteo':dfNew2.values})\n",
    "dfNew3 = dfNew3.head(20)"
   ]
  },
  {
   "cell_type": "code",
   "execution_count": 121,
   "metadata": {
    "colab": {
     "base_uri": "https://localhost:8080/"
    },
    "executionInfo": {
     "elapsed": 492,
     "status": "ok",
     "timestamp": 1654267980905,
     "user": {
      "displayName": "Angela Olarte",
      "userId": "04022086783241571381"
     },
     "user_tz": 300
    },
    "id": "Y4mXeTaPbL-s",
    "outputId": "3cd6c54e-83c1-4722-c895-8773be717a2e"
   },
   "outputs": [
    {
     "data": {
      "image/png": "[encoded data removed]",
      "text/plain": [
       "<Figure size 504x504 with 1 Axes>"
      ]
     },
     "metadata": {
      "needs_background": "light"
     },
     "output_type": "display_data"
    }
   ],
   "source": [
    "sns.barplot(dfNew3.Conteo, dfNew3.Causa_D)\n",
    "plt.title('Top Medical History D')\n",
    "plt.ylabel('Medical History D')\n",
    "plt.xlabel('Frequency')\n",
    "plt.rcParams[\"figure.figsize\"] = [7, 7]\n",
    "plt.show()"
   ]
  },
  {
   "cell_type": "markdown",
   "metadata": {
    "id": "giNQKblXbR9V"
   },
   "source": [
    "## FILTER AND PLOTING  ANTECEDENT PATOLOGIC STATUS VARIABLE"
   ]
  },
  {
   "cell_type": "code",
   "execution_count": 122,
   "metadata": {
    "id": "dcW5acEQbSOn"
   },
   "outputs": [],
   "source": [
    "dfNew = dfRuaf.groupby(['NÚMERO CERTIFICADO','CAUSA ANTECEDENTES D']).size()\n",
    "dfNew1 = dfNew.reset_index(level=['CAUSA ANTECEDENTES D'])\n",
    "dfNew2 = dfNew1['CAUSA ANTECEDENTES D'].value_counts()\n",
    "dfNew3 = pd.DataFrame({'Causa_D':dfNew2.index, 'Conteo':dfNew2.values})\n",
    "dfNew3 = dfNew3.head(20)"
   ]
  },
  {
   "cell_type": "code",
   "execution_count": 123,
   "metadata": {
    "colab": {
     "base_uri": "https://localhost:8080/"
    },
    "executionInfo": {
     "elapsed": 471,
     "status": "ok",
     "timestamp": 1654267981371,
     "user": {
      "displayName": "Angela Olarte",
      "userId": "04022086783241571381"
     },
     "user_tz": 300
    },
    "id": "2LDVI-jDbScO",
    "outputId": "e63ec635-40eb-4a51-8b71-97894d58780c"
   },
   "outputs": [
    {
     "data": {
      "image/png": "[encoded data removed]",
      "text/plain": [
       "<Figure size 504x504 with 1 Axes>"
      ]
     },
     "metadata": {
      "needs_background": "light"
     },
     "output_type": "display_data"
    }
   ],
   "source": [
    "sns.barplot(dfNew3.Conteo, dfNew3.Causa_D)\n",
    "plt.title('TOP CAUSA ANTECEDENTES D')\n",
    "plt.ylabel('CAUSA ANTECEDENTES D')\n",
    "plt.xlabel('Frequencia')\n",
    "plt.rcParams[\"figure.figsize\"] = [7, 7]\n",
    "plt.show()"
   ]
  },
  {
   "cell_type": "markdown",
   "metadata": {
    "id": "tmetpsn2bZfx"
   },
   "source": [
    "## FILTER AND PLOTING PROBABLE MANNER OF DEATH VARIABLE"
   ]
  },
  {
   "cell_type": "code",
   "execution_count": 124,
   "metadata": {
    "id": "-r6Jtyj4bZ1D"
   },
   "outputs": [],
   "source": [
    "dfNew = dfRuaf.groupby(['NÚMERO CERTIFICADO','PROBABLE MANERA MUERTE']).size()\n",
    "dfNew1 = dfNew.reset_index(level=['PROBABLE MANERA MUERTE'])\n",
    "dfNew2 = dfNew1['PROBABLE MANERA MUERTE'].value_counts()\n",
    "dfNew3 = pd.DataFrame({'Causa':dfNew2.index, 'Conteo':dfNew2.values})\n",
    "dfNew3 = dfNew3.head(20)"
   ]
  },
  {
   "cell_type": "code",
   "execution_count": 125,
   "metadata": {
    "colab": {
     "base_uri": "https://localhost:8080/"
    },
    "executionInfo": {
     "elapsed": 406,
     "status": "ok",
     "timestamp": 1654267981771,
     "user": {
      "displayName": "Angela Olarte",
      "userId": "04022086783241571381"
     },
     "user_tz": 300
    },
    "id": "qHQcvQHabZ_A",
    "outputId": "a3dac8c5-6e3b-48af-d7eb-bdca49402872"
   },
   "outputs": [
    {
     "data": {
      "image/png": "[encoded data removed]",
      "text/plain": [
       "<Figure size 504x504 with 1 Axes>"
      ]
     },
     "metadata": {
      "needs_background": "light"
     },
     "output_type": "display_data"
    }
   ],
   "source": [
    "sns.barplot(dfNew3.Conteo, dfNew3.Causa)\n",
    "plt.title('Top Manner of Death')\n",
    "plt.ylabel('Probable Manner of Death')\n",
    "plt.xlabel('Frequency')\n",
    "plt.rcParams[\"figure.figsize\"] = [7, 7]\n",
    "plt.show()"
   ]
  },
  {
   "cell_type": "markdown",
   "metadata": {
    "id": "_qdOtpzErJEY"
   },
   "source": [
    "## FILTER AND PLOTING DEATH SITE VARIABLE"
   ]
  },
  {
   "cell_type": "code",
   "execution_count": 126,
   "metadata": {
    "id": "f7ADKETZrKeD"
   },
   "outputs": [],
   "source": [
    "dfNew = dfRuaf.groupby(['NÚMERO CERTIFICADO','SITIO DEFUNCIÓN']).size()\n",
    "dfNew1 = dfNew.reset_index(level=['SITIO DEFUNCIÓN'])\n",
    "dfNew2 = dfNew1['SITIO DEFUNCIÓN'].value_counts()\n",
    "dfNew3 = pd.DataFrame({'Sitio':dfNew2.index, 'Conteo':dfNew2.values})\n",
    "dfNew3 = dfNew3.head(20)"
   ]
  },
  {
   "cell_type": "code",
   "execution_count": 127,
   "metadata": {
    "colab": {
     "base_uri": "https://localhost:8080/"
    },
    "executionInfo": {
     "elapsed": 433,
     "status": "ok",
     "timestamp": 1654267982197,
     "user": {
      "displayName": "Angela Olarte",
      "userId": "04022086783241571381"
     },
     "user_tz": 300
    },
    "id": "hPRGeLqjrNT8",
    "outputId": "9524297f-d12d-460b-8d7d-e1e9c6b1646b"
   },
   "outputs": [
    {
     "data": {
      "image/png": "[encoded data removed]",
      "text/plain": [
       "<Figure size 504x504 with 1 Axes>"
      ]
     },
     "metadata": {
      "needs_background": "light"
     },
     "output_type": "display_data"
    }
   ],
   "source": [
    "sns.barplot(dfNew3.Conteo, dfNew3.Sitio)\n",
    "plt.title('Top Death Site')\n",
    "plt.ylabel('Site ')\n",
    "plt.xlabel('Frequency')\n",
    "plt.rcParams[\"figure.figsize\"] = [7, 7]\n",
    "plt.show()"
   ]
  },
  {
   "cell_type": "markdown",
   "metadata": {
    "id": "wRWSJx6xrOfs"
   },
   "source": [
    "## FILTER AND PLOTING TYPE OF DEATH VARIABLE"
   ]
  },
  {
   "cell_type": "code",
   "execution_count": 128,
   "metadata": {
    "id": "FWzU0-KtrPbY"
   },
   "outputs": [],
   "source": [
    "dfNew = dfRuaf.groupby(['NÚMERO CERTIFICADO','TIPO DEFUNCIÓN']).size()\n",
    "dfNew1 = dfNew.reset_index(level=['TIPO DEFUNCIÓN'])\n",
    "dfNew2 = dfNew1['TIPO DEFUNCIÓN'].value_counts()\n",
    "dfNew3 = pd.DataFrame({'Sitio':dfNew2.index, 'Conteo':dfNew2.values})\n",
    "dfNew3 = dfNew3.head(20)"
   ]
  },
  {
   "cell_type": "code",
   "execution_count": 129,
   "metadata": {
    "colab": {
     "base_uri": "https://localhost:8080/"
    },
    "executionInfo": {
     "elapsed": 212,
     "status": "ok",
     "timestamp": 1654267982400,
     "user": {
      "displayName": "Angela Olarte",
      "userId": "04022086783241571381"
     },
     "user_tz": 300
    },
    "id": "-yauC5SqrPAB",
    "outputId": "a7e09abd-005e-4c30-d142-3a9eb1192802"
   },
   "outputs": [
    {
     "data": {
      "image/png": "[encoded data removed]",
      "text/plain": [
       "<Figure size 504x504 with 1 Axes>"
      ]
     },
     "metadata": {
      "needs_background": "light"
     },
     "output_type": "display_data"
    }
   ],
   "source": [
    "sns.barplot( dfNew3.Sitio, dfNew3.Conteo)\n",
    "plt.title('Top Type of Death')\n",
    "plt.ylabel('Type of Death')\n",
    "plt.xlabel('Frequency')\n",
    "plt.rcParams[\"figure.figsize\"] = [7, 7]\n",
    "plt.show()"
   ]
  },
  {
   "cell_type": "markdown",
   "metadata": {
    "id": "z1qREo77rZcy"
   },
   "source": [
    "## FILTER AND PLOTING DIRECT CAUSE VARIABLE"
   ]
  },
  {
   "cell_type": "code",
   "execution_count": 130,
   "metadata": {
    "id": "A5fXpc1nraDR"
   },
   "outputs": [],
   "source": [
    "dfNew = dfRuaf.groupby(['NÚMERO CERTIFICADO','CAUSA DIRECTA']).size()\n",
    "dfNew1 = dfNew.reset_index(level=['CAUSA DIRECTA'])\n",
    "dfNew2 = dfNew1['CAUSA DIRECTA'].value_counts()\n",
    "dfNew3 = pd.DataFrame({'Sitio':dfNew2.index, 'Conteo':dfNew2.values})\n",
    "dfNew3 = dfNew3.head(20)"
   ]
  },
  {
   "cell_type": "code",
   "execution_count": 131,
   "metadata": {
    "colab": {
     "base_uri": "https://localhost:8080/",
     "height": 513
    },
    "executionInfo": {
     "elapsed": 549,
     "status": "ok",
     "timestamp": 1654267982943,
     "user": {
      "displayName": "Angela Olarte",
      "userId": "04022086783241571381"
     },
     "user_tz": 300
    },
    "id": "OuovvtvXrb3q",
    "outputId": "41a86a8f-503c-4092-c245-ed57e1e93010"
   },
   "outputs": [
    {
     "data": {
      "image/png": "[encoded data removed]",
      "text/plain": [
       "<Figure size 504x504 with 1 Axes>"
      ]
     },
     "metadata": {
      "needs_background": "light"
     },
     "output_type": "display_data"
    }
   ],
   "source": [
    "sns.barplot(dfNew3.Conteo, dfNew3.Sitio)\n",
    "plt.title('Top Direct Cause of Death')\n",
    "plt.ylabel('Cause of Death')\n",
    "plt.xlabel('Frequency')\n",
    "plt.rcParams[\"figure.figsize\"] = [7, 7]\n",
    "plt.show()"
   ]
  },
  {
   "cell_type": "markdown",
   "metadata": {
    "id": "_1hmC7EosQKI"
   },
   "source": [
    "----"
   ]
  },
  {
   "cell_type": "markdown",
   "metadata": {
    "id": "SaHW7PrwsK1S"
   },
   "source": [
    "# MERGE DATAFRAMES\n"
   ]
  },
  {
   "cell_type": "code",
   "execution_count": 132,
   "metadata": {
    "colab": {
     "base_uri": "https://localhost:8080/"
    },
    "executionInfo": {
     "elapsed": 1218,
     "status": "ok",
     "timestamp": 1654267984156,
     "user": {
      "displayName": "Angela Olarte",
      "userId": "04022086783241571381"
     },
     "user_tz": 300
    },
    "id": "NhFvcqCjsOtY",
    "outputId": "3df2a66c-2840-41a2-8806-3d62a3abd701"
   },
   "outputs": [
    {
     "data": {
      "text/plain": [
       "243893"
      ]
     },
     "execution_count": 132,
     "metadata": {},
     "output_type": "execute_result"
    }
   ],
   "source": [
    "# Merging Data Sets Laboratory Results and Mandatory Notifications\n",
    "dfMergeLabNot = pd.merge(dfResLab,dfNotObl,on='IDENTIFICACION')\n",
    "dfMergeLabNot.shape[0] #Número de Filas de resultados laboratorio en los que cruzo con Notificaciones"
   ]
  },
  {
   "cell_type": "code",
   "execution_count": 133,
   "metadata": {
    "colab": {
     "base_uri": "https://localhost:8080/"
    },
    "executionInfo": {
     "elapsed": 199,
     "status": "ok",
     "timestamp": 1654267984352,
     "user": {
      "displayName": "Angela Olarte",
      "userId": "04022086783241571381"
     },
     "user_tz": 300
    },
    "id": "eJP68ka1sURB",
    "outputId": "50133c12-97ac-4897-adc3-933ef847c6fb"
   },
   "outputs": [
    {
     "name": "stdout",
     "output_type": "stream",
     "text": [
      "3387\n"
     ]
    }
   ],
   "source": [
    "result = len(pd.unique(dfMergeLabNot['IDENTIFICACION'])) #Se cuentan los valores unicos, es decir cuantas identificaciones aparecen\n",
    "#en la base de laboratorio que aparecen en la Base de notificaciones sin tener en cuenta duplicados\n",
    "print(result) #Pacientes que se encontraron en el cruce"
   ]
  },
  {
   "cell_type": "code",
   "execution_count": 134,
   "metadata": {
    "colab": {
     "base_uri": "https://localhost:8080/",
     "height": 887
    },
    "executionInfo": {
     "elapsed": 1204,
     "status": "ok",
     "timestamp": 1654267985553,
     "user": {
      "displayName": "Angela Olarte",
      "userId": "04022086783241571381"
     },
     "user_tz": 300
    },
    "id": "5H0X2lMIsUOG",
    "outputId": "f4d09b51-3c2f-405d-9b43-532061d8ba7d"
   },
   "outputs": [
    {
     "data": {
      "text/html": [
       "<div>\n",
       "<style scoped>\n",
       "    .dataframe tbody tr th:only-of-type {\n",
       "        vertical-align: middle;\n",
       "    }\n",
       "\n",
       "    .dataframe tbody tr th {\n",
       "        vertical-align: top;\n",
       "    }\n",
       "\n",
       "    .dataframe thead th {\n",
       "        text-align: right;\n",
       "    }\n",
       "</style>\n",
       "<table border=\"1\" class=\"dataframe\">\n",
       "  <thead>\n",
       "    <tr style=\"text-align: right;\">\n",
       "      <th></th>\n",
       "      <th>FECHA DE TOMA DE MUESTRA</th>\n",
       "      <th>IDENTIFICACION</th>\n",
       "      <th>CODIGO DE LA MUESTRA</th>\n",
       "      <th>FECHA DE NACIMIENTO</th>\n",
       "      <th>GENERO</th>\n",
       "      <th>TIPO DE MUESTRA</th>\n",
       "      <th>SALA</th>\n",
       "      <th>LA CONCENTRACION MINIMA O MAX</th>\n",
       "      <th>HOSPILTAL</th>\n",
       "      <th>NUMERO DE AISLAMIENTO</th>\n",
       "      <th>...</th>\n",
       "      <th>ANTIBIOTICO_Vancomicina</th>\n",
       "      <th>ANTIBIOTICO_Voriconazol</th>\n",
       "      <th>ANTIBIOTICO_Ácido fusídico</th>\n",
       "      <th>ANTIBIOTICO_Ácido nalidíxico</th>\n",
       "      <th>SENSIBLE / RESISTENTE / INTERMEDIO_I</th>\n",
       "      <th>SENSIBLE / RESISTENTE / INTERMEDIO_N</th>\n",
       "      <th>SENSIBLE / RESISTENTE / INTERMEDIO_R</th>\n",
       "      <th>SENSIBLE / RESISTENTE / INTERMEDIO_S</th>\n",
       "      <th>SENSIBLE / RESISTENTE / INTERMEDIO_SIN ESPECIFICAR</th>\n",
       "      <th>SENSIBLE / RESISTENTE / INTERMEDIO_X</th>\n",
       "    </tr>\n",
       "  </thead>\n",
       "  <tbody>\n",
       "    <tr>\n",
       "      <th>0</th>\n",
       "      <td>2013-12-10</td>\n",
       "      <td>2232117</td>\n",
       "      <td>13-11366-S</td>\n",
       "      <td>SIN DATO</td>\n",
       "      <td>SIN ESPECIFICAR</td>\n",
       "      <td>HEMOCULTIVO PUNCION PERIFERICA</td>\n",
       "      <td>recien nacidos (cirena)</td>\n",
       "      <td>&lt;=8</td>\n",
       "      <td>HOSPITAL UNIVERSITARIO DEL VALLE</td>\n",
       "      <td>1</td>\n",
       "      <td>...</td>\n",
       "      <td>0</td>\n",
       "      <td>0</td>\n",
       "      <td>0</td>\n",
       "      <td>0</td>\n",
       "      <td>0</td>\n",
       "      <td>0</td>\n",
       "      <td>0</td>\n",
       "      <td>1</td>\n",
       "      <td>0</td>\n",
       "      <td>0</td>\n",
       "    </tr>\n",
       "    <tr>\n",
       "      <th>1</th>\n",
       "      <td>2013-12-10</td>\n",
       "      <td>2232117</td>\n",
       "      <td>13-11366-S</td>\n",
       "      <td>SIN DATO</td>\n",
       "      <td>SIN ESPECIFICAR</td>\n",
       "      <td>HEMOCULTIVO PUNCION PERIFERICA</td>\n",
       "      <td>recien nacidos (cirena)</td>\n",
       "      <td>8/4</td>\n",
       "      <td>HOSPITAL UNIVERSITARIO DEL VALLE</td>\n",
       "      <td>1</td>\n",
       "      <td>...</td>\n",
       "      <td>0</td>\n",
       "      <td>0</td>\n",
       "      <td>0</td>\n",
       "      <td>0</td>\n",
       "      <td>0</td>\n",
       "      <td>0</td>\n",
       "      <td>0</td>\n",
       "      <td>1</td>\n",
       "      <td>0</td>\n",
       "      <td>0</td>\n",
       "    </tr>\n",
       "    <tr>\n",
       "      <th>2</th>\n",
       "      <td>2013-12-10</td>\n",
       "      <td>2232117</td>\n",
       "      <td>13-11366-S</td>\n",
       "      <td>SIN DATO</td>\n",
       "      <td>SIN ESPECIFICAR</td>\n",
       "      <td>HEMOCULTIVO PUNCION PERIFERICA</td>\n",
       "      <td>recien nacidos (cirena)</td>\n",
       "      <td>&gt;16</td>\n",
       "      <td>HOSPITAL UNIVERSITARIO DEL VALLE</td>\n",
       "      <td>1</td>\n",
       "      <td>...</td>\n",
       "      <td>0</td>\n",
       "      <td>0</td>\n",
       "      <td>0</td>\n",
       "      <td>0</td>\n",
       "      <td>0</td>\n",
       "      <td>0</td>\n",
       "      <td>1</td>\n",
       "      <td>0</td>\n",
       "      <td>0</td>\n",
       "      <td>0</td>\n",
       "    </tr>\n",
       "    <tr>\n",
       "      <th>3</th>\n",
       "      <td>2013-12-10</td>\n",
       "      <td>2232117</td>\n",
       "      <td>13-11366-S</td>\n",
       "      <td>SIN DATO</td>\n",
       "      <td>SIN ESPECIFICAR</td>\n",
       "      <td>HEMOCULTIVO PUNCION PERIFERICA</td>\n",
       "      <td>recien nacidos (cirena)</td>\n",
       "      <td>&lt;=2</td>\n",
       "      <td>HOSPITAL UNIVERSITARIO DEL VALLE</td>\n",
       "      <td>1</td>\n",
       "      <td>...</td>\n",
       "      <td>0</td>\n",
       "      <td>0</td>\n",
       "      <td>0</td>\n",
       "      <td>0</td>\n",
       "      <td>0</td>\n",
       "      <td>0</td>\n",
       "      <td>0</td>\n",
       "      <td>1</td>\n",
       "      <td>0</td>\n",
       "      <td>0</td>\n",
       "    </tr>\n",
       "    <tr>\n",
       "      <th>4</th>\n",
       "      <td>2013-12-10</td>\n",
       "      <td>2232117</td>\n",
       "      <td>13-11366-S</td>\n",
       "      <td>SIN DATO</td>\n",
       "      <td>SIN ESPECIFICAR</td>\n",
       "      <td>HEMOCULTIVO PUNCION PERIFERICA</td>\n",
       "      <td>recien nacidos (cirena)</td>\n",
       "      <td>16</td>\n",
       "      <td>HOSPITAL UNIVERSITARIO DEL VALLE</td>\n",
       "      <td>1</td>\n",
       "      <td>...</td>\n",
       "      <td>0</td>\n",
       "      <td>0</td>\n",
       "      <td>0</td>\n",
       "      <td>0</td>\n",
       "      <td>1</td>\n",
       "      <td>0</td>\n",
       "      <td>0</td>\n",
       "      <td>0</td>\n",
       "      <td>0</td>\n",
       "      <td>0</td>\n",
       "    </tr>\n",
       "    <tr>\n",
       "      <th>...</th>\n",
       "      <td>...</td>\n",
       "      <td>...</td>\n",
       "      <td>...</td>\n",
       "      <td>...</td>\n",
       "      <td>...</td>\n",
       "      <td>...</td>\n",
       "      <td>...</td>\n",
       "      <td>...</td>\n",
       "      <td>...</td>\n",
       "      <td>...</td>\n",
       "      <td>...</td>\n",
       "      <td>...</td>\n",
       "      <td>...</td>\n",
       "      <td>...</td>\n",
       "      <td>...</td>\n",
       "      <td>...</td>\n",
       "      <td>...</td>\n",
       "      <td>...</td>\n",
       "      <td>...</td>\n",
       "      <td>...</td>\n",
       "      <td>...</td>\n",
       "    </tr>\n",
       "    <tr>\n",
       "      <th>546438</th>\n",
       "      <td>2021-07-30</td>\n",
       "      <td>30744000</td>\n",
       "      <td>107300456.57</td>\n",
       "      <td>04/07/1969</td>\n",
       "      <td>Femenino</td>\n",
       "      <td>SEC. PIEL Y TEJIDOS BLANDOS</td>\n",
       "      <td>unidad de cuidado intensivo 4</td>\n",
       "      <td>&gt;4</td>\n",
       "      <td>HOSPITAL UNIVERSITARIO DEL VALLE</td>\n",
       "      <td>1</td>\n",
       "      <td>...</td>\n",
       "      <td>0</td>\n",
       "      <td>0</td>\n",
       "      <td>0</td>\n",
       "      <td>0</td>\n",
       "      <td>0</td>\n",
       "      <td>0</td>\n",
       "      <td>0</td>\n",
       "      <td>0</td>\n",
       "      <td>1</td>\n",
       "      <td>0</td>\n",
       "    </tr>\n",
       "    <tr>\n",
       "      <th>546439</th>\n",
       "      <td>2021-07-30</td>\n",
       "      <td>30744000</td>\n",
       "      <td>107300456.57</td>\n",
       "      <td>04/07/1969</td>\n",
       "      <td>Femenino</td>\n",
       "      <td>SEC. PIEL Y TEJIDOS BLANDOS</td>\n",
       "      <td>unidad de cuidado intensivo 4</td>\n",
       "      <td>4/76</td>\n",
       "      <td>HOSPITAL UNIVERSITARIO DEL VALLE</td>\n",
       "      <td>1</td>\n",
       "      <td>...</td>\n",
       "      <td>0</td>\n",
       "      <td>0</td>\n",
       "      <td>0</td>\n",
       "      <td>0</td>\n",
       "      <td>0</td>\n",
       "      <td>0</td>\n",
       "      <td>0</td>\n",
       "      <td>0</td>\n",
       "      <td>1</td>\n",
       "      <td>0</td>\n",
       "    </tr>\n",
       "    <tr>\n",
       "      <th>546440</th>\n",
       "      <td>2021-10-29</td>\n",
       "      <td>24999535</td>\n",
       "      <td>110290032.35</td>\n",
       "      <td>25/10/1955</td>\n",
       "      <td>Femenino</td>\n",
       "      <td>Orina</td>\n",
       "      <td>4 piso uci trasplantes</td>\n",
       "      <td>SIN ESPECIFICAR</td>\n",
       "      <td>HOSPITAL UNIVERSITARIO DEL VALLE</td>\n",
       "      <td>1</td>\n",
       "      <td>...</td>\n",
       "      <td>0</td>\n",
       "      <td>0</td>\n",
       "      <td>0</td>\n",
       "      <td>0</td>\n",
       "      <td>0</td>\n",
       "      <td>0</td>\n",
       "      <td>0</td>\n",
       "      <td>0</td>\n",
       "      <td>1</td>\n",
       "      <td>0</td>\n",
       "    </tr>\n",
       "    <tr>\n",
       "      <th>546441</th>\n",
       "      <td>2021-03-28</td>\n",
       "      <td>1239688398</td>\n",
       "      <td>103280420.35</td>\n",
       "      <td>04/09/2020</td>\n",
       "      <td>Masculino</td>\n",
       "      <td>ORINA POR SONDA VESICAL</td>\n",
       "      <td>pediatria urgencias</td>\n",
       "      <td>&lt;=8</td>\n",
       "      <td>HOSPITAL UNIVERSITARIO DEL VALLE</td>\n",
       "      <td>1</td>\n",
       "      <td>...</td>\n",
       "      <td>0</td>\n",
       "      <td>0</td>\n",
       "      <td>0</td>\n",
       "      <td>0</td>\n",
       "      <td>0</td>\n",
       "      <td>0</td>\n",
       "      <td>0</td>\n",
       "      <td>1</td>\n",
       "      <td>0</td>\n",
       "      <td>0</td>\n",
       "    </tr>\n",
       "    <tr>\n",
       "      <th>546442</th>\n",
       "      <td>2021-03-28</td>\n",
       "      <td>1239688398</td>\n",
       "      <td>103280420.35</td>\n",
       "      <td>04/09/2020</td>\n",
       "      <td>Masculino</td>\n",
       "      <td>ORINA POR SONDA VESICAL</td>\n",
       "      <td>pediatria urgencias</td>\n",
       "      <td>&gt;16</td>\n",
       "      <td>HOSPITAL UNIVERSITARIO DEL VALLE</td>\n",
       "      <td>1</td>\n",
       "      <td>...</td>\n",
       "      <td>0</td>\n",
       "      <td>0</td>\n",
       "      <td>0</td>\n",
       "      <td>0</td>\n",
       "      <td>0</td>\n",
       "      <td>0</td>\n",
       "      <td>1</td>\n",
       "      <td>0</td>\n",
       "      <td>0</td>\n",
       "      <td>0</td>\n",
       "    </tr>\n",
       "  </tbody>\n",
       "</table>\n",
       "<p>546443 rows × 402 columns</p>\n",
       "</div>"
      ],
      "text/plain": [
       "       FECHA DE TOMA DE MUESTRA IDENTIFICACION CODIGO DE LA MUESTRA  \\\n",
       "0                    2013-12-10        2232117           13-11366-S   \n",
       "1                    2013-12-10        2232117           13-11366-S   \n",
       "2                    2013-12-10        2232117           13-11366-S   \n",
       "3                    2013-12-10        2232117           13-11366-S   \n",
       "4                    2013-12-10        2232117           13-11366-S   \n",
       "...                         ...            ...                  ...   \n",
       "546438               2021-07-30       30744000         107300456.57   \n",
       "546439               2021-07-30       30744000         107300456.57   \n",
       "546440               2021-10-29       24999535         110290032.35   \n",
       "546441               2021-03-28     1239688398         103280420.35   \n",
       "546442               2021-03-28     1239688398         103280420.35   \n",
       "\n",
       "       FECHA DE NACIMIENTO           GENERO                 TIPO DE MUESTRA  \\\n",
       "0                 SIN DATO  SIN ESPECIFICAR  HEMOCULTIVO PUNCION PERIFERICA   \n",
       "1                 SIN DATO  SIN ESPECIFICAR  HEMOCULTIVO PUNCION PERIFERICA   \n",
       "2                 SIN DATO  SIN ESPECIFICAR  HEMOCULTIVO PUNCION PERIFERICA   \n",
       "3                 SIN DATO  SIN ESPECIFICAR  HEMOCULTIVO PUNCION PERIFERICA   \n",
       "4                 SIN DATO  SIN ESPECIFICAR  HEMOCULTIVO PUNCION PERIFERICA   \n",
       "...                    ...              ...                             ...   \n",
       "546438          04/07/1969         Femenino     SEC. PIEL Y TEJIDOS BLANDOS   \n",
       "546439          04/07/1969         Femenino     SEC. PIEL Y TEJIDOS BLANDOS   \n",
       "546440          25/10/1955         Femenino                           Orina   \n",
       "546441          04/09/2020        Masculino         ORINA POR SONDA VESICAL   \n",
       "546442          04/09/2020        Masculino         ORINA POR SONDA VESICAL   \n",
       "\n",
       "                                 SALA LA CONCENTRACION MINIMA O MAX  \\\n",
       "0             recien nacidos (cirena)                           <=8   \n",
       "1             recien nacidos (cirena)                           8/4   \n",
       "2             recien nacidos (cirena)                           >16   \n",
       "3             recien nacidos (cirena)                           <=2   \n",
       "4             recien nacidos (cirena)                            16   \n",
       "...                               ...                           ...   \n",
       "546438  unidad de cuidado intensivo 4                            >4   \n",
       "546439  unidad de cuidado intensivo 4                          4/76   \n",
       "546440         4 piso uci trasplantes               SIN ESPECIFICAR   \n",
       "546441            pediatria urgencias                           <=8   \n",
       "546442            pediatria urgencias                           >16   \n",
       "\n",
       "                               HOSPILTAL  NUMERO DE AISLAMIENTO  ...  \\\n",
       "0       HOSPITAL UNIVERSITARIO DEL VALLE                      1  ...   \n",
       "1       HOSPITAL UNIVERSITARIO DEL VALLE                      1  ...   \n",
       "2       HOSPITAL UNIVERSITARIO DEL VALLE                      1  ...   \n",
       "3       HOSPITAL UNIVERSITARIO DEL VALLE                      1  ...   \n",
       "4       HOSPITAL UNIVERSITARIO DEL VALLE                      1  ...   \n",
       "...                                  ...                    ...  ...   \n",
       "546438  HOSPITAL UNIVERSITARIO DEL VALLE                      1  ...   \n",
       "546439  HOSPITAL UNIVERSITARIO DEL VALLE                      1  ...   \n",
       "546440  HOSPITAL UNIVERSITARIO DEL VALLE                      1  ...   \n",
       "546441  HOSPITAL UNIVERSITARIO DEL VALLE                      1  ...   \n",
       "546442  HOSPITAL UNIVERSITARIO DEL VALLE                      1  ...   \n",
       "\n",
       "       ANTIBIOTICO_Vancomicina ANTIBIOTICO_Voriconazol  \\\n",
       "0                            0                       0   \n",
       "1                            0                       0   \n",
       "2                            0                       0   \n",
       "3                            0                       0   \n",
       "4                            0                       0   \n",
       "...                        ...                     ...   \n",
       "546438                       0                       0   \n",
       "546439                       0                       0   \n",
       "546440                       0                       0   \n",
       "546441                       0                       0   \n",
       "546442                       0                       0   \n",
       "\n",
       "       ANTIBIOTICO_Ácido fusídico ANTIBIOTICO_Ácido nalidíxico  \\\n",
       "0                               0                            0   \n",
       "1                               0                            0   \n",
       "2                               0                            0   \n",
       "3                               0                            0   \n",
       "4                               0                            0   \n",
       "...                           ...                          ...   \n",
       "546438                          0                            0   \n",
       "546439                          0                            0   \n",
       "546440                          0                            0   \n",
       "546441                          0                            0   \n",
       "546442                          0                            0   \n",
       "\n",
       "       SENSIBLE / RESISTENTE / INTERMEDIO_I  \\\n",
       "0                                         0   \n",
       "1                                         0   \n",
       "2                                         0   \n",
       "3                                         0   \n",
       "4                                         1   \n",
       "...                                     ...   \n",
       "546438                                    0   \n",
       "546439                                    0   \n",
       "546440                                    0   \n",
       "546441                                    0   \n",
       "546442                                    0   \n",
       "\n",
       "       SENSIBLE / RESISTENTE / INTERMEDIO_N  \\\n",
       "0                                         0   \n",
       "1                                         0   \n",
       "2                                         0   \n",
       "3                                         0   \n",
       "4                                         0   \n",
       "...                                     ...   \n",
       "546438                                    0   \n",
       "546439                                    0   \n",
       "546440                                    0   \n",
       "546441                                    0   \n",
       "546442                                    0   \n",
       "\n",
       "        SENSIBLE / RESISTENTE / INTERMEDIO_R  \\\n",
       "0                                          0   \n",
       "1                                          0   \n",
       "2                                          1   \n",
       "3                                          0   \n",
       "4                                          0   \n",
       "...                                      ...   \n",
       "546438                                     0   \n",
       "546439                                     0   \n",
       "546440                                     0   \n",
       "546441                                     0   \n",
       "546442                                     1   \n",
       "\n",
       "        SENSIBLE / RESISTENTE / INTERMEDIO_S  \\\n",
       "0                                          1   \n",
       "1                                          1   \n",
       "2                                          0   \n",
       "3                                          1   \n",
       "4                                          0   \n",
       "...                                      ...   \n",
       "546438                                     0   \n",
       "546439                                     0   \n",
       "546440                                     0   \n",
       "546441                                     1   \n",
       "546442                                     0   \n",
       "\n",
       "        SENSIBLE / RESISTENTE / INTERMEDIO_SIN ESPECIFICAR  \\\n",
       "0                                                       0    \n",
       "1                                                       0    \n",
       "2                                                       0    \n",
       "3                                                       0    \n",
       "4                                                       0    \n",
       "...                                                   ...    \n",
       "546438                                                  1    \n",
       "546439                                                  1    \n",
       "546440                                                  1    \n",
       "546441                                                  0    \n",
       "546442                                                  0    \n",
       "\n",
       "        SENSIBLE / RESISTENTE / INTERMEDIO_X  \n",
       "0                                          0  \n",
       "1                                          0  \n",
       "2                                          0  \n",
       "3                                          0  \n",
       "4                                          0  \n",
       "...                                      ...  \n",
       "546438                                     0  \n",
       "546439                                     0  \n",
       "546440                                     0  \n",
       "546441                                     0  \n",
       "546442                                     0  \n",
       "\n",
       "[546443 rows x 402 columns]"
      ]
     },
     "execution_count": 134,
     "metadata": {},
     "output_type": "execute_result"
    }
   ],
   "source": [
    "df_cross = pd.get_dummies(dfResLab, columns=['MICROORGANISMO','ANTIBIOTICO','SENSIBLE / RESISTENTE / INTERMEDIO'], sparse=True)\n",
    "df_cross"
   ]
  },
  {
   "cell_type": "code",
   "execution_count": 135,
   "metadata": {
    "id": "ZvAHeGCIsUL_"
   },
   "outputs": [],
   "source": [
    "dfRuaf.rename(columns={\"NÚMERO DOCUMENTO \":\"IDENTIFICACION\"}, inplace = True)"
   ]
  },
  {
   "cell_type": "code",
   "execution_count": 136,
   "metadata": {
    "colab": {
     "base_uri": "https://localhost:8080/"
    },
    "executionInfo": {
     "elapsed": 577,
     "status": "ok",
     "timestamp": 1654267986126,
     "user": {
      "displayName": "Angela Olarte",
      "userId": "04022086783241571381"
     },
     "user_tz": 300
    },
    "id": "1V7I8TFTsUJc",
    "outputId": "dd394f36-99d8-45df-de16-e734d546e2f5"
   },
   "outputs": [
    {
     "data": {
      "text/plain": [
       "99299"
      ]
     },
     "execution_count": 136,
     "metadata": {},
     "output_type": "execute_result"
    }
   ],
   "source": [
    "dfMergeLabRuaf = pd.merge(dfResLab,dfRuaf,on='IDENTIFICACION')\n",
    "dfMergeLabRuaf.shape[0] #Registros que cruzaron de laboratorio con la base RUAF"
   ]
  },
  {
   "cell_type": "code",
   "execution_count": 137,
   "metadata": {
    "colab": {
     "base_uri": "https://localhost:8080/"
    },
    "executionInfo": {
     "elapsed": 29,
     "status": "ok",
     "timestamp": 1654267986127,
     "user": {
      "displayName": "Angela Olarte",
      "userId": "04022086783241571381"
     },
     "user_tz": 300
    },
    "id": "pTw1s7WZsUGd",
    "outputId": "325bcbf9-9ee7-4020-e77a-87e617408980"
   },
   "outputs": [
    {
     "name": "stdout",
     "output_type": "stream",
     "text": [
      "2482\n"
     ]
    }
   ],
   "source": [
    "result = len(pd.unique(dfMergeLabRuaf['IDENTIFICACION'])) #Se cuentan los valores unicos, es decir cuantas identificaciones de\n",
    "#resultados de laboratorio aparecen en la Base RUAF sin tener en cuenta duplicados\n",
    "print(result) #Pacientes que se encontraron en el cruce"
   ]
  },
  {
   "cell_type": "code",
   "execution_count": 138,
   "metadata": {
    "colab": {
     "base_uri": "https://localhost:8080/"
    },
    "executionInfo": {
     "elapsed": 22,
     "status": "ok",
     "timestamp": 1654267986128,
     "user": {
      "displayName": "Angela Olarte",
      "userId": "04022086783241571381"
     },
     "user_tz": 300
    },
    "id": "5wbOzL9GsUD7",
    "outputId": "d410def1-7618-4e58-a354-73350df86c3b"
   },
   "outputs": [
    {
     "data": {
      "text/plain": [
       "3498"
      ]
     },
     "execution_count": 138,
     "metadata": {},
     "output_type": "execute_result"
    }
   ],
   "source": [
    "dfMergeNotRuaf = pd.merge(dfNotObl,dfRuaf,on=\"IDENTIFICACION\")\n",
    "dfMergeNotRuaf.shape[0]  #Registros que cruzaron de Notificaciones con la base RUAF"
   ]
  },
  {
   "cell_type": "code",
   "execution_count": 139,
   "metadata": {
    "colab": {
     "base_uri": "https://localhost:8080/"
    },
    "executionInfo": {
     "elapsed": 15,
     "status": "ok",
     "timestamp": 1654267986129,
     "user": {
      "displayName": "Angela Olarte",
      "userId": "04022086783241571381"
     },
     "user_tz": 300
    },
    "id": "xIdP6KqwsUBY",
    "outputId": "585abf04-9df7-4273-cb59-ab29b9018cec"
   },
   "outputs": [
    {
     "name": "stdout",
     "output_type": "stream",
     "text": [
      "2463\n"
     ]
    }
   ],
   "source": [
    "result = len(pd.unique(dfMergeNotRuaf['IDENTIFICACION'])) #Se cuentan los valores unicos, es decir cuantas identificaciones de\n",
    "#Notificaciones aparecen en la Base RUAF sin tener en cuenta duplicados\n",
    "print(result) #Pacientes que se encontraron en el cruce"
   ]
  },
  {
   "cell_type": "markdown",
   "metadata": {
    "id": "9m0ulHgzsdNl"
   },
   "source": [
    "The previous joining the dataset of health events of compulsory notification and the datset of death certificates, results in a similar number of record as the result from joining the dataset of laboratory results with the dataset of of death certificates. This can be considered a good indication. "
   ]
  },
  {
   "cell_type": "markdown",
   "metadata": {
    "id": "wT4iJcsh_JMP"
   },
   "source": [
    "#MERGE DATAFRAMES KEEPING ALL PATIENTS"
   ]
  },
  {
   "cell_type": "code",
   "execution_count": 140,
   "metadata": {
    "colab": {
     "base_uri": "https://localhost:8080/"
    },
    "executionInfo": {
     "elapsed": 4429,
     "status": "ok",
     "timestamp": 1654267990550,
     "user": {
      "displayName": "Angela Olarte",
      "userId": "04022086783241571381"
     },
     "user_tz": 300
    },
    "id": "SRZsK7Sk_Nmb",
    "outputId": "563e7d08-a925-4a88-a5c2-b01a657ba7b4"
   },
   "outputs": [
    {
     "name": "stdout",
     "output_type": "stream",
     "text": [
      "16095\n"
     ]
    },
    {
     "data": {
      "text/plain": [
       "2482"
      ]
     },
     "execution_count": 140,
     "metadata": {},
     "output_type": "execute_result"
    }
   ],
   "source": [
    "#Merge lab results with death certificates keeping all patients\n",
    "dfMergeLabRuafI = pd.merge(dfResLab, dfRuaf, how= \"left\", on='IDENTIFICACION', indicator=True)\n",
    "dfMergeLabRuafI[\"FALLECIO\"] = dfMergeLabRuafI[\"_merge\"]\n",
    "dfMergeLabRuafI[\"FALLECIO\"].replace({\"left_only\":\"No\", \"both\":\"Si\"}, inplace=True)\n",
    "print(dfMergeLabRuafI[\"IDENTIFICACION\"].nunique())\n",
    "dfMergeLabRuafI[dfMergeLabRuafI[\"FALLECIO\"]==\"Si\"][\"IDENTIFICACION\"].nunique()"
   ]
  },
  {
   "cell_type": "code",
   "execution_count": 141,
   "metadata": {
    "colab": {
     "base_uri": "https://localhost:8080/"
    },
    "executionInfo": {
     "elapsed": 346,
     "status": "ok",
     "timestamp": 1654267990871,
     "user": {
      "displayName": "Angela Olarte",
      "userId": "04022086783241571381"
     },
     "user_tz": 300
    },
    "id": "P7IiWc73_PjM",
    "outputId": "7f8fac8c-fc46-4f3b-bc92-48369112a2c5"
   },
   "outputs": [
    {
     "data": {
      "text/html": [
       "<div>\n",
       "<style scoped>\n",
       "    .dataframe tbody tr th:only-of-type {\n",
       "        vertical-align: middle;\n",
       "    }\n",
       "\n",
       "    .dataframe tbody tr th {\n",
       "        vertical-align: top;\n",
       "    }\n",
       "\n",
       "    .dataframe thead th {\n",
       "        text-align: right;\n",
       "    }\n",
       "</style>\n",
       "<table border=\"1\" class=\"dataframe\">\n",
       "  <thead>\n",
       "    <tr style=\"text-align: right;\">\n",
       "      <th>FALLECIO</th>\n",
       "      <th>No</th>\n",
       "      <th>Si</th>\n",
       "    </tr>\n",
       "    <tr>\n",
       "      <th>FAMILIA_MICROORGANISMO</th>\n",
       "      <th></th>\n",
       "      <th></th>\n",
       "    </tr>\n",
       "  </thead>\n",
       "  <tbody>\n",
       "    <tr>\n",
       "      <th></th>\n",
       "      <td>100.000000</td>\n",
       "      <td>0.000000</td>\n",
       "    </tr>\n",
       "    <tr>\n",
       "      <th>Actinomycetaceae</th>\n",
       "      <td>100.000000</td>\n",
       "      <td>0.000000</td>\n",
       "    </tr>\n",
       "    <tr>\n",
       "      <th>Aeromonadaceae</th>\n",
       "      <td>83.958763</td>\n",
       "      <td>16.041237</td>\n",
       "    </tr>\n",
       "    <tr>\n",
       "      <th>Bacillales</th>\n",
       "      <td>86.486486</td>\n",
       "      <td>13.513514</td>\n",
       "    </tr>\n",
       "    <tr>\n",
       "      <th>Brucellaceae</th>\n",
       "      <td>100.000000</td>\n",
       "      <td>0.000000</td>\n",
       "    </tr>\n",
       "    <tr>\n",
       "      <th>Burkholderiales</th>\n",
       "      <td>68.683997</td>\n",
       "      <td>31.316003</td>\n",
       "    </tr>\n",
       "    <tr>\n",
       "      <th>Candidas</th>\n",
       "      <td>68.826291</td>\n",
       "      <td>31.173709</td>\n",
       "    </tr>\n",
       "    <tr>\n",
       "      <th>Caulobacteraceae</th>\n",
       "      <td>93.333333</td>\n",
       "      <td>6.666667</td>\n",
       "    </tr>\n",
       "    <tr>\n",
       "      <th>Corynebacteriaceae</th>\n",
       "      <td>74.742268</td>\n",
       "      <td>25.257732</td>\n",
       "    </tr>\n",
       "    <tr>\n",
       "      <th>Cryptococcus</th>\n",
       "      <td>59.493671</td>\n",
       "      <td>40.506329</td>\n",
       "    </tr>\n",
       "    <tr>\n",
       "      <th>Dermatofitos</th>\n",
       "      <td>90.909091</td>\n",
       "      <td>9.090909</td>\n",
       "    </tr>\n",
       "    <tr>\n",
       "      <th>Enterobacteriales</th>\n",
       "      <td>83.007144</td>\n",
       "      <td>16.992856</td>\n",
       "    </tr>\n",
       "    <tr>\n",
       "      <th>Enterococcaceae</th>\n",
       "      <td>77.824240</td>\n",
       "      <td>22.175760</td>\n",
       "    </tr>\n",
       "    <tr>\n",
       "      <th>Flavobacteriales</th>\n",
       "      <td>77.857143</td>\n",
       "      <td>22.142857</td>\n",
       "    </tr>\n",
       "    <tr>\n",
       "      <th>Histoplasma</th>\n",
       "      <td>60.869565</td>\n",
       "      <td>39.130435</td>\n",
       "    </tr>\n",
       "    <tr>\n",
       "      <th>Lactobacillales</th>\n",
       "      <td>88.888889</td>\n",
       "      <td>11.111111</td>\n",
       "    </tr>\n",
       "    <tr>\n",
       "      <th>Levaduras</th>\n",
       "      <td>69.620253</td>\n",
       "      <td>30.379747</td>\n",
       "    </tr>\n",
       "    <tr>\n",
       "      <th>Micrococcales</th>\n",
       "      <td>81.600000</td>\n",
       "      <td>18.400000</td>\n",
       "    </tr>\n",
       "    <tr>\n",
       "      <th>Mohos</th>\n",
       "      <td>94.545455</td>\n",
       "      <td>5.454545</td>\n",
       "    </tr>\n",
       "    <tr>\n",
       "      <th>Moraxellaceae</th>\n",
       "      <td>84.202669</td>\n",
       "      <td>15.797331</td>\n",
       "    </tr>\n",
       "    <tr>\n",
       "      <th>Mucorales</th>\n",
       "      <td>33.333333</td>\n",
       "      <td>66.666667</td>\n",
       "    </tr>\n",
       "    <tr>\n",
       "      <th>Neisseriales</th>\n",
       "      <td>92.857143</td>\n",
       "      <td>7.142857</td>\n",
       "    </tr>\n",
       "    <tr>\n",
       "      <th>Nocardiaceae</th>\n",
       "      <td>0.000000</td>\n",
       "      <td>100.000000</td>\n",
       "    </tr>\n",
       "    <tr>\n",
       "      <th>Otro</th>\n",
       "      <td>80.851064</td>\n",
       "      <td>19.148936</td>\n",
       "    </tr>\n",
       "    <tr>\n",
       "      <th>Pasteurellaceae</th>\n",
       "      <td>97.794118</td>\n",
       "      <td>2.205882</td>\n",
       "    </tr>\n",
       "    <tr>\n",
       "      <th>Pseudomonadaceae</th>\n",
       "      <td>78.819470</td>\n",
       "      <td>21.180530</td>\n",
       "    </tr>\n",
       "    <tr>\n",
       "      <th>Rhizobiaceae</th>\n",
       "      <td>100.000000</td>\n",
       "      <td>0.000000</td>\n",
       "    </tr>\n",
       "    <tr>\n",
       "      <th>Rhodobacteraceae</th>\n",
       "      <td>66.666667</td>\n",
       "      <td>33.333333</td>\n",
       "    </tr>\n",
       "    <tr>\n",
       "      <th>Shewanellaceae</th>\n",
       "      <td>80.952381</td>\n",
       "      <td>19.047619</td>\n",
       "    </tr>\n",
       "    <tr>\n",
       "      <th>Sphingobacteriaceae</th>\n",
       "      <td>100.000000</td>\n",
       "      <td>0.000000</td>\n",
       "    </tr>\n",
       "    <tr>\n",
       "      <th>Sphingomonadaceae</th>\n",
       "      <td>90.740741</td>\n",
       "      <td>9.259259</td>\n",
       "    </tr>\n",
       "    <tr>\n",
       "      <th>Staphylococcaceae</th>\n",
       "      <td>81.634512</td>\n",
       "      <td>18.365488</td>\n",
       "    </tr>\n",
       "    <tr>\n",
       "      <th>Streptococcaceae</th>\n",
       "      <td>88.679760</td>\n",
       "      <td>11.320240</td>\n",
       "    </tr>\n",
       "    <tr>\n",
       "      <th>Vibrionaceae</th>\n",
       "      <td>100.000000</td>\n",
       "      <td>0.000000</td>\n",
       "    </tr>\n",
       "    <tr>\n",
       "      <th>Xanthomonadaceae</th>\n",
       "      <td>73.599671</td>\n",
       "      <td>26.400329</td>\n",
       "    </tr>\n",
       "  </tbody>\n",
       "</table>\n",
       "</div>"
      ],
      "text/plain": [
       "FALLECIO                        No          Si\n",
       "FAMILIA_MICROORGANISMO                        \n",
       "                        100.000000    0.000000\n",
       "Actinomycetaceae        100.000000    0.000000\n",
       "Aeromonadaceae           83.958763   16.041237\n",
       "Bacillales               86.486486   13.513514\n",
       "Brucellaceae            100.000000    0.000000\n",
       "Burkholderiales          68.683997   31.316003\n",
       "Candidas                 68.826291   31.173709\n",
       "Caulobacteraceae         93.333333    6.666667\n",
       "Corynebacteriaceae       74.742268   25.257732\n",
       "Cryptococcus             59.493671   40.506329\n",
       "Dermatofitos             90.909091    9.090909\n",
       "Enterobacteriales        83.007144   16.992856\n",
       "Enterococcaceae          77.824240   22.175760\n",
       "Flavobacteriales         77.857143   22.142857\n",
       "Histoplasma              60.869565   39.130435\n",
       "Lactobacillales          88.888889   11.111111\n",
       "Levaduras                69.620253   30.379747\n",
       "Micrococcales            81.600000   18.400000\n",
       "Mohos                    94.545455    5.454545\n",
       "Moraxellaceae            84.202669   15.797331\n",
       "Mucorales                33.333333   66.666667\n",
       "Neisseriales             92.857143    7.142857\n",
       "Nocardiaceae              0.000000  100.000000\n",
       "Otro                     80.851064   19.148936\n",
       "Pasteurellaceae          97.794118    2.205882\n",
       "Pseudomonadaceae         78.819470   21.180530\n",
       "Rhizobiaceae            100.000000    0.000000\n",
       "Rhodobacteraceae         66.666667   33.333333\n",
       "Shewanellaceae           80.952381   19.047619\n",
       "Sphingobacteriaceae     100.000000    0.000000\n",
       "Sphingomonadaceae        90.740741    9.259259\n",
       "Staphylococcaceae        81.634512   18.365488\n",
       "Streptococcaceae         88.679760   11.320240\n",
       "Vibrionaceae            100.000000    0.000000\n",
       "Xanthomonadaceae         73.599671   26.400329"
      ]
     },
     "execution_count": 141,
     "metadata": {},
     "output_type": "execute_result"
    }
   ],
   "source": [
    "#Microorganism by death status\n",
    "contingency_table1 = pd.crosstab(index=dfMergeLabRuafI[\"FAMILIA_MICROORGANISMO\"], columns=dfMergeLabRuafI[\"FALLECIO\"], normalize=\"index\")*100\n",
    "contingency_table1"
   ]
  },
  {
   "cell_type": "code",
   "execution_count": 142,
   "metadata": {
    "colab": {
     "base_uri": "https://localhost:8080/"
    },
    "executionInfo": {
     "elapsed": 5121,
     "status": "ok",
     "timestamp": 1654267995986,
     "user": {
      "displayName": "Angela Olarte",
      "userId": "04022086783241571381"
     },
     "user_tz": 300
    },
    "id": "guoQa2ju_Rpz",
    "outputId": "ff8df569-f495-4f66-84a0-33dc92fc2a15"
   },
   "outputs": [
    {
     "name": "stdout",
     "output_type": "stream",
     "text": [
      "16095\n"
     ]
    },
    {
     "data": {
      "text/plain": [
       "3387"
      ]
     },
     "execution_count": 142,
     "metadata": {},
     "output_type": "execute_result"
    }
   ],
   "source": [
    "#Merge of lab results and compulsory notification keeping all patients\n",
    "dfNotObl.rename(columns={\"IDENTIFICACIÓN\":\"IDENTIFICACION\"}, inplace=True)\n",
    "dfMergeLabNotI = pd.merge(dfResLab, dfNotObl, how=\"left\", on='IDENTIFICACION', indicator=True)\n",
    "dfMergeLabNotI[\"NOTIFICADO\"] = dfMergeLabNotI[\"_merge\"]\n",
    "dfMergeLabNotI[\"NOTIFICADO\"].replace({\"left_only\":\"No\", \"both\":\"Si\"}, inplace=True)\n",
    "print(dfMergeLabNotI[\"IDENTIFICACION\"].nunique())\n",
    "dfMergeLabNotI[dfMergeLabNotI[\"NOTIFICADO\"]==\"Si\"][\"IDENTIFICACION\"].nunique()"
   ]
  },
  {
   "cell_type": "code",
   "execution_count": 143,
   "metadata": {
    "colab": {
     "base_uri": "https://localhost:8080/",
     "height": 1000
    },
    "executionInfo": {
     "elapsed": 30,
     "status": "ok",
     "timestamp": 1654267995987,
     "user": {
      "displayName": "Angela Olarte",
      "userId": "04022086783241571381"
     },
     "user_tz": 300
    },
    "id": "B5fuGsQm_TsR",
    "outputId": "69d8567c-7bc1-4d8e-c815-f048f337f29d"
   },
   "outputs": [
    {
     "data": {
      "text/html": [
       "<div>\n",
       "<style scoped>\n",
       "    .dataframe tbody tr th:only-of-type {\n",
       "        vertical-align: middle;\n",
       "    }\n",
       "\n",
       "    .dataframe tbody tr th {\n",
       "        vertical-align: top;\n",
       "    }\n",
       "\n",
       "    .dataframe thead th {\n",
       "        text-align: right;\n",
       "    }\n",
       "</style>\n",
       "<table border=\"1\" class=\"dataframe\">\n",
       "  <thead>\n",
       "    <tr style=\"text-align: right;\">\n",
       "      <th>NOTIFICADO</th>\n",
       "      <th>No</th>\n",
       "      <th>Si</th>\n",
       "    </tr>\n",
       "    <tr>\n",
       "      <th>FAMILIA_MICROORGANISMO</th>\n",
       "      <th></th>\n",
       "      <th></th>\n",
       "    </tr>\n",
       "  </thead>\n",
       "  <tbody>\n",
       "    <tr>\n",
       "      <th></th>\n",
       "      <td>100.000000</td>\n",
       "      <td>0.000000</td>\n",
       "    </tr>\n",
       "    <tr>\n",
       "      <th>Actinomycetaceae</th>\n",
       "      <td>40.000000</td>\n",
       "      <td>60.000000</td>\n",
       "    </tr>\n",
       "    <tr>\n",
       "      <th>Aeromonadaceae</th>\n",
       "      <td>78.785489</td>\n",
       "      <td>21.214511</td>\n",
       "    </tr>\n",
       "    <tr>\n",
       "      <th>Bacillales</th>\n",
       "      <td>57.500000</td>\n",
       "      <td>42.500000</td>\n",
       "    </tr>\n",
       "    <tr>\n",
       "      <th>Brucellaceae</th>\n",
       "      <td>100.000000</td>\n",
       "      <td>0.000000</td>\n",
       "    </tr>\n",
       "    <tr>\n",
       "      <th>Burkholderiales</th>\n",
       "      <td>55.430835</td>\n",
       "      <td>44.569165</td>\n",
       "    </tr>\n",
       "    <tr>\n",
       "      <th>Candidas</th>\n",
       "      <td>50.385604</td>\n",
       "      <td>49.614396</td>\n",
       "    </tr>\n",
       "    <tr>\n",
       "      <th>Caulobacteraceae</th>\n",
       "      <td>53.846154</td>\n",
       "      <td>46.153846</td>\n",
       "    </tr>\n",
       "    <tr>\n",
       "      <th>Corynebacteriaceae</th>\n",
       "      <td>58.371041</td>\n",
       "      <td>41.628959</td>\n",
       "    </tr>\n",
       "    <tr>\n",
       "      <th>Cryptococcus</th>\n",
       "      <td>39.108911</td>\n",
       "      <td>60.891089</td>\n",
       "    </tr>\n",
       "    <tr>\n",
       "      <th>Dermatofitos</th>\n",
       "      <td>86.363636</td>\n",
       "      <td>13.636364</td>\n",
       "    </tr>\n",
       "    <tr>\n",
       "      <th>Enterobacteriales</th>\n",
       "      <td>66.879066</td>\n",
       "      <td>33.120934</td>\n",
       "    </tr>\n",
       "    <tr>\n",
       "      <th>Enterococcaceae</th>\n",
       "      <td>55.892273</td>\n",
       "      <td>44.107727</td>\n",
       "    </tr>\n",
       "    <tr>\n",
       "      <th>Flavobacteriales</th>\n",
       "      <td>48.175182</td>\n",
       "      <td>51.824818</td>\n",
       "    </tr>\n",
       "    <tr>\n",
       "      <th>Histoplasma</th>\n",
       "      <td>21.739130</td>\n",
       "      <td>78.260870</td>\n",
       "    </tr>\n",
       "    <tr>\n",
       "      <th>Lactobacillales</th>\n",
       "      <td>22.857143</td>\n",
       "      <td>77.142857</td>\n",
       "    </tr>\n",
       "    <tr>\n",
       "      <th>Levaduras</th>\n",
       "      <td>43.548387</td>\n",
       "      <td>56.451613</td>\n",
       "    </tr>\n",
       "    <tr>\n",
       "      <th>Micrococcales</th>\n",
       "      <td>43.016760</td>\n",
       "      <td>56.983240</td>\n",
       "    </tr>\n",
       "    <tr>\n",
       "      <th>Mohos</th>\n",
       "      <td>94.545455</td>\n",
       "      <td>5.454545</td>\n",
       "    </tr>\n",
       "    <tr>\n",
       "      <th>Moraxellaceae</th>\n",
       "      <td>70.510066</td>\n",
       "      <td>29.489934</td>\n",
       "    </tr>\n",
       "    <tr>\n",
       "      <th>Mucorales</th>\n",
       "      <td>14.285714</td>\n",
       "      <td>85.714286</td>\n",
       "    </tr>\n",
       "    <tr>\n",
       "      <th>Neisseriales</th>\n",
       "      <td>9.677419</td>\n",
       "      <td>90.322581</td>\n",
       "    </tr>\n",
       "    <tr>\n",
       "      <th>Nocardiaceae</th>\n",
       "      <td>0.000000</td>\n",
       "      <td>100.000000</td>\n",
       "    </tr>\n",
       "    <tr>\n",
       "      <th>Otro</th>\n",
       "      <td>53.952569</td>\n",
       "      <td>46.047431</td>\n",
       "    </tr>\n",
       "    <tr>\n",
       "      <th>Pasteurellaceae</th>\n",
       "      <td>77.181208</td>\n",
       "      <td>22.818792</td>\n",
       "    </tr>\n",
       "    <tr>\n",
       "      <th>Pseudomonadaceae</th>\n",
       "      <td>56.127773</td>\n",
       "      <td>43.872227</td>\n",
       "    </tr>\n",
       "    <tr>\n",
       "      <th>Rhizobiaceae</th>\n",
       "      <td>71.428571</td>\n",
       "      <td>28.571429</td>\n",
       "    </tr>\n",
       "    <tr>\n",
       "      <th>Rhodobacteraceae</th>\n",
       "      <td>25.000000</td>\n",
       "      <td>75.000000</td>\n",
       "    </tr>\n",
       "    <tr>\n",
       "      <th>Shewanellaceae</th>\n",
       "      <td>60.975610</td>\n",
       "      <td>39.024390</td>\n",
       "    </tr>\n",
       "    <tr>\n",
       "      <th>Sphingobacteriaceae</th>\n",
       "      <td>43.750000</td>\n",
       "      <td>56.250000</td>\n",
       "    </tr>\n",
       "    <tr>\n",
       "      <th>Sphingomonadaceae</th>\n",
       "      <td>77.916667</td>\n",
       "      <td>22.083333</td>\n",
       "    </tr>\n",
       "    <tr>\n",
       "      <th>Staphylococcaceae</th>\n",
       "      <td>59.948429</td>\n",
       "      <td>40.051571</td>\n",
       "    </tr>\n",
       "    <tr>\n",
       "      <th>Streptococcaceae</th>\n",
       "      <td>66.674534</td>\n",
       "      <td>33.325466</td>\n",
       "    </tr>\n",
       "    <tr>\n",
       "      <th>Vibrionaceae</th>\n",
       "      <td>0.000000</td>\n",
       "      <td>100.000000</td>\n",
       "    </tr>\n",
       "    <tr>\n",
       "      <th>Xanthomonadaceae</th>\n",
       "      <td>52.490040</td>\n",
       "      <td>47.509960</td>\n",
       "    </tr>\n",
       "  </tbody>\n",
       "</table>\n",
       "</div>"
      ],
      "text/plain": [
       "NOTIFICADO                      No          Si\n",
       "FAMILIA_MICROORGANISMO                        \n",
       "                        100.000000    0.000000\n",
       "Actinomycetaceae         40.000000   60.000000\n",
       "Aeromonadaceae           78.785489   21.214511\n",
       "Bacillales               57.500000   42.500000\n",
       "Brucellaceae            100.000000    0.000000\n",
       "Burkholderiales          55.430835   44.569165\n",
       "Candidas                 50.385604   49.614396\n",
       "Caulobacteraceae         53.846154   46.153846\n",
       "Corynebacteriaceae       58.371041   41.628959\n",
       "Cryptococcus             39.108911   60.891089\n",
       "Dermatofitos             86.363636   13.636364\n",
       "Enterobacteriales        66.879066   33.120934\n",
       "Enterococcaceae          55.892273   44.107727\n",
       "Flavobacteriales         48.175182   51.824818\n",
       "Histoplasma              21.739130   78.260870\n",
       "Lactobacillales          22.857143   77.142857\n",
       "Levaduras                43.548387   56.451613\n",
       "Micrococcales            43.016760   56.983240\n",
       "Mohos                    94.545455    5.454545\n",
       "Moraxellaceae            70.510066   29.489934\n",
       "Mucorales                14.285714   85.714286\n",
       "Neisseriales              9.677419   90.322581\n",
       "Nocardiaceae              0.000000  100.000000\n",
       "Otro                     53.952569   46.047431\n",
       "Pasteurellaceae          77.181208   22.818792\n",
       "Pseudomonadaceae         56.127773   43.872227\n",
       "Rhizobiaceae             71.428571   28.571429\n",
       "Rhodobacteraceae         25.000000   75.000000\n",
       "Shewanellaceae           60.975610   39.024390\n",
       "Sphingobacteriaceae      43.750000   56.250000\n",
       "Sphingomonadaceae        77.916667   22.083333\n",
       "Staphylococcaceae        59.948429   40.051571\n",
       "Streptococcaceae         66.674534   33.325466\n",
       "Vibrionaceae              0.000000  100.000000\n",
       "Xanthomonadaceae         52.490040   47.509960"
      ]
     },
     "execution_count": 143,
     "metadata": {},
     "output_type": "execute_result"
    }
   ],
   "source": [
    "#Microorganism by notification status\n",
    "contingency_table2 = pd.crosstab(index=dfMergeLabNotI[\"FAMILIA_MICROORGANISMO\"], columns=dfMergeLabNotI[\"NOTIFICADO\"], normalize=\"index\")*100\n",
    "contingency_table2"
   ]
  },
  {
   "cell_type": "code",
   "execution_count": 144,
   "metadata": {
    "colab": {
     "base_uri": "https://localhost:8080/",
     "height": 487
    },
    "executionInfo": {
     "elapsed": 436,
     "status": "ok",
     "timestamp": 1654267996396,
     "user": {
      "displayName": "Angela Olarte",
      "userId": "04022086783241571381"
     },
     "user_tz": 300
    },
    "id": "NGDEHEqV_WgX",
    "outputId": "ab33c19c-984b-4735-8755-c111a3542c11"
   },
   "outputs": [
    {
     "data": {
      "text/html": [
       "<div>\n",
       "<style scoped>\n",
       "    .dataframe tbody tr th:only-of-type {\n",
       "        vertical-align: middle;\n",
       "    }\n",
       "\n",
       "    .dataframe tbody tr th {\n",
       "        vertical-align: top;\n",
       "    }\n",
       "\n",
       "    .dataframe thead th {\n",
       "        text-align: right;\n",
       "    }\n",
       "</style>\n",
       "<table border=\"1\" class=\"dataframe\">\n",
       "  <thead>\n",
       "    <tr style=\"text-align: right;\">\n",
       "      <th>NOMBRE DEL EVENTO</th>\n",
       "      <th>IAD - INFECCIONES ASOCIADAS A DISPOSITIVOS - INDIVIDUAL</th>\n",
       "      <th>INFECCIONES DE SITIO QUIRÚRGICO ASOCIADAS A PROCEDIMIENTO MÉDICO QUIRÚRGICO</th>\n",
       "    </tr>\n",
       "    <tr>\n",
       "      <th>FAMILIA_MICROORGANISMO</th>\n",
       "      <th></th>\n",
       "      <th></th>\n",
       "    </tr>\n",
       "  </thead>\n",
       "  <tbody>\n",
       "    <tr>\n",
       "      <th>Bacillales</th>\n",
       "      <td>0.110254</td>\n",
       "      <td>0.000000</td>\n",
       "    </tr>\n",
       "    <tr>\n",
       "      <th>Candidas</th>\n",
       "      <td>0.771775</td>\n",
       "      <td>1.470588</td>\n",
       "    </tr>\n",
       "    <tr>\n",
       "      <th>Enterobacteriales</th>\n",
       "      <td>36.052922</td>\n",
       "      <td>30.882353</td>\n",
       "    </tr>\n",
       "    <tr>\n",
       "      <th>Enterococcaceae</th>\n",
       "      <td>1.102536</td>\n",
       "      <td>0.000000</td>\n",
       "    </tr>\n",
       "    <tr>\n",
       "      <th>Levaduras</th>\n",
       "      <td>0.220507</td>\n",
       "      <td>0.000000</td>\n",
       "    </tr>\n",
       "    <tr>\n",
       "      <th>Micrococcales</th>\n",
       "      <td>0.110254</td>\n",
       "      <td>0.000000</td>\n",
       "    </tr>\n",
       "    <tr>\n",
       "      <th>Moraxellaceae</th>\n",
       "      <td>5.843440</td>\n",
       "      <td>0.000000</td>\n",
       "    </tr>\n",
       "    <tr>\n",
       "      <th>Pseudomonadaceae</th>\n",
       "      <td>12.899669</td>\n",
       "      <td>57.352941</td>\n",
       "    </tr>\n",
       "    <tr>\n",
       "      <th>Staphylococcaceae</th>\n",
       "      <td>37.596472</td>\n",
       "      <td>10.294118</td>\n",
       "    </tr>\n",
       "    <tr>\n",
       "      <th>Streptococcaceae</th>\n",
       "      <td>3.969129</td>\n",
       "      <td>0.000000</td>\n",
       "    </tr>\n",
       "    <tr>\n",
       "      <th>Xanthomonadaceae</th>\n",
       "      <td>1.323043</td>\n",
       "      <td>0.000000</td>\n",
       "    </tr>\n",
       "  </tbody>\n",
       "</table>\n",
       "</div>"
      ],
      "text/plain": [
       "NOMBRE DEL EVENTO       IAD - INFECCIONES ASOCIADAS A DISPOSITIVOS - INDIVIDUAL  \\\n",
       "FAMILIA_MICROORGANISMO                                                            \n",
       "Bacillales                                                       0.110254         \n",
       "Candidas                                                         0.771775         \n",
       "Enterobacteriales                                               36.052922         \n",
       "Enterococcaceae                                                  1.102536         \n",
       "Levaduras                                                        0.220507         \n",
       "Micrococcales                                                    0.110254         \n",
       "Moraxellaceae                                                    5.843440         \n",
       "Pseudomonadaceae                                                12.899669         \n",
       "Staphylococcaceae                                               37.596472         \n",
       "Streptococcaceae                                                 3.969129         \n",
       "Xanthomonadaceae                                                 1.323043         \n",
       "\n",
       "NOMBRE DEL EVENTO       INFECCIONES DE SITIO QUIRÚRGICO ASOCIADAS A PROCEDIMIENTO MÉDICO QUIRÚRGICO  \n",
       "FAMILIA_MICROORGANISMO                                                                               \n",
       "Bacillales                                                       0.000000                            \n",
       "Candidas                                                         1.470588                            \n",
       "Enterobacteriales                                               30.882353                            \n",
       "Enterococcaceae                                                  0.000000                            \n",
       "Levaduras                                                        0.000000                            \n",
       "Micrococcales                                                    0.000000                            \n",
       "Moraxellaceae                                                    0.000000                            \n",
       "Pseudomonadaceae                                                57.352941                            \n",
       "Staphylococcaceae                                               10.294118                            \n",
       "Streptococcaceae                                                 0.000000                            \n",
       "Xanthomonadaceae                                                 0.000000                            "
      ]
     },
     "execution_count": 144,
     "metadata": {},
     "output_type": "execute_result"
    }
   ],
   "source": [
    "#Microorganism by HAIs\n",
    "HAI_codes = [351, 352, 354, 357, 359, 362]\n",
    "contingency_table3 = pd.crosstab(index=dfMergeLabNotI[dfMergeLabNotI[\"CÓDIGO DEL EVENTO\"].isin(HAI_codes)][\"FAMILIA_MICROORGANISMO\"], columns=dfMergeLabNot[dfMergeLabNot[\"CÓDIGO DEL EVENTO\"].isin(HAI_codes)][\"NOMBRE DEL EVENTO\"], normalize=\"columns\")*100\n",
    "contingency_table3"
   ]
  },
  {
   "cell_type": "markdown",
   "metadata": {
    "id": "QAvR7mA5sgtt"
   },
   "source": [
    "# COSITAS VARIAS"
   ]
  },
  {
   "cell_type": "code",
   "execution_count": 145,
   "metadata": {
    "colab": {
     "base_uri": "https://localhost:8080/"
    },
    "executionInfo": {
     "elapsed": 8,
     "status": "ok",
     "timestamp": 1654267996397,
     "user": {
      "displayName": "Angela Olarte",
      "userId": "04022086783241571381"
     },
     "user_tz": 300
    },
    "id": "rniymbJysT-6",
    "outputId": "f55a7435-5442-4201-bf62-b3903a373ea4"
   },
   "outputs": [
    {
     "data": {
      "text/plain": [
       "546443"
      ]
     },
     "execution_count": 145,
     "metadata": {},
     "output_type": "execute_result"
    }
   ],
   "source": [
    "n=dfResLab.shape[0]\n",
    "n"
   ]
  },
  {
   "cell_type": "code",
   "execution_count": 146,
   "metadata": {
    "colab": {
     "base_uri": "https://localhost:8080/"
    },
    "executionInfo": {
     "elapsed": 295,
     "status": "ok",
     "timestamp": 1654267996688,
     "user": {
      "displayName": "Angela Olarte",
      "userId": "04022086783241571381"
     },
     "user_tz": 300
    },
    "id": "KSsDI1D4sT8L",
    "outputId": "74e6244a-3022-435e-9988-7b1a7f5582d6"
   },
   "outputs": [
    {
     "name": "stdout",
     "output_type": "stream",
     "text": [
      "<class 'pandas.core.frame.DataFrame'>\n",
      "Int64Index: 546443 entries, 0 to 546442\n",
      "Data columns (total 19 columns):\n",
      " #   Column                               Non-Null Count   Dtype         \n",
      "---  ------                               --------------   -----         \n",
      " 0   FECHA DE TOMA DE MUESTRA             546443 non-null  datetime64[ns]\n",
      " 1   IDENTIFICACION                       546443 non-null  object        \n",
      " 2   CODIGO DE LA MUESTRA                 546443 non-null  object        \n",
      " 3   FECHA DE NACIMIENTO                  546443 non-null  object        \n",
      " 4   GENERO                               546443 non-null  object        \n",
      " 5   TIPO DE MUESTRA                      546443 non-null  object        \n",
      " 6   SALA                                 546443 non-null  object        \n",
      " 7   MICROORGANISMO                       546443 non-null  object        \n",
      " 8   ANTIBIOTICO                          546443 non-null  object        \n",
      " 9   SENSIBLE / RESISTENTE / INTERMEDIO   546443 non-null  object        \n",
      " 10  LA CONCENTRACION MINIMA O MAX        546443 non-null  object        \n",
      " 11  HOSPILTAL                            521623 non-null  object        \n",
      " 12  NUMERO DE AISLAMIENTO                546443 non-null  int64         \n",
      " 13  ESBL (+ es blee )                    546443 non-null  object        \n",
      " 14  THM                                  546443 non-null  object        \n",
      " 15  APB (boronico)                       546443 non-null  object        \n",
      " 16  EDTA (si son positivas o negativas)  546443 non-null  object        \n",
      " 17  FAMILIA_MICROORGANISMO               546443 non-null  object        \n",
      " 18  SALAESTANDAR                         546443 non-null  object        \n",
      "dtypes: datetime64[ns](1), int64(1), object(17)\n",
      "memory usage: 83.4+ MB\n"
     ]
    }
   ],
   "source": [
    "dfResLab.info()"
   ]
  },
  {
   "cell_type": "code",
   "execution_count": 147,
   "metadata": {
    "colab": {
     "base_uri": "https://localhost:8080/"
    },
    "executionInfo": {
     "elapsed": 18,
     "status": "ok",
     "timestamp": 1654267996905,
     "user": {
      "displayName": "Angela Olarte",
      "userId": "04022086783241571381"
     },
     "user_tz": 300
    },
    "id": "z2PpCpTIsjql",
    "outputId": "e4f26641-288d-479f-a763-04c2f00456d8"
   },
   "outputs": [
    {
     "name": "stdout",
     "output_type": "stream",
     "text": [
      "2013-10-02 00:00:00\n",
      "2021-11-15 00:00:00\n"
     ]
    }
   ],
   "source": [
    "#FECHA\n",
    "print(dfResLab[\"FECHA DE TOMA DE MUESTRA\"].min())\n",
    "print(dfResLab[\"FECHA DE TOMA DE MUESTRA\"].max())\n"
   ]
  },
  {
   "cell_type": "code",
   "execution_count": 148,
   "metadata": {
    "colab": {
     "base_uri": "https://localhost:8080/"
    },
    "executionInfo": {
     "elapsed": 9,
     "status": "ok",
     "timestamp": 1654267996905,
     "user": {
      "displayName": "Angela Olarte",
      "userId": "04022086783241571381"
     },
     "user_tz": 300
    },
    "id": "P_IjIkf_sjo5",
    "outputId": "6210b353-7ad3-4892-9f4e-97a501db0875"
   },
   "outputs": [
    {
     "data": {
      "text/html": [
       "<div>\n",
       "<style scoped>\n",
       "    .dataframe tbody tr th:only-of-type {\n",
       "        vertical-align: middle;\n",
       "    }\n",
       "\n",
       "    .dataframe tbody tr th {\n",
       "        vertical-align: top;\n",
       "    }\n",
       "\n",
       "    .dataframe thead th {\n",
       "        text-align: right;\n",
       "    }\n",
       "</style>\n",
       "<table border=\"1\" class=\"dataframe\">\n",
       "  <thead>\n",
       "    <tr style=\"text-align: right;\">\n",
       "      <th></th>\n",
       "      <th>CODIGO DE LA MUESTRA</th>\n",
       "    </tr>\n",
       "    <tr>\n",
       "      <th>IDENTIFICACION</th>\n",
       "      <th></th>\n",
       "    </tr>\n",
       "  </thead>\n",
       "  <tbody>\n",
       "    <tr>\n",
       "      <th>000000</th>\n",
       "      <td>20</td>\n",
       "    </tr>\n",
       "    <tr>\n",
       "      <th>0001016098</th>\n",
       "      <td>1</td>\n",
       "    </tr>\n",
       "    <tr>\n",
       "      <th>00028</th>\n",
       "      <td>20</td>\n",
       "    </tr>\n",
       "    <tr>\n",
       "      <th>000979365</th>\n",
       "      <td>44</td>\n",
       "    </tr>\n",
       "    <tr>\n",
       "      <th>011718279</th>\n",
       "      <td>3</td>\n",
       "    </tr>\n",
       "    <tr>\n",
       "      <th>...</th>\n",
       "      <td>...</td>\n",
       "    </tr>\n",
       "    <tr>\n",
       "      <th>X10-O</th>\n",
       "      <td>21</td>\n",
       "    </tr>\n",
       "    <tr>\n",
       "      <th>YB2220199</th>\n",
       "      <td>22</td>\n",
       "    </tr>\n",
       "    <tr>\n",
       "      <th>´1771384</th>\n",
       "      <td>18</td>\n",
       "    </tr>\n",
       "    <tr>\n",
       "      <th>´2235088</th>\n",
       "      <td>21</td>\n",
       "    </tr>\n",
       "    <tr>\n",
       "      <th>´2238129</th>\n",
       "      <td>21</td>\n",
       "    </tr>\n",
       "  </tbody>\n",
       "</table>\n",
       "<p>16095 rows × 1 columns</p>\n",
       "</div>"
      ],
      "text/plain": [
       "                CODIGO DE LA MUESTRA\n",
       "IDENTIFICACION                      \n",
       "000000                            20\n",
       "0001016098                         1\n",
       "00028                             20\n",
       "000979365                         44\n",
       "011718279                          3\n",
       "...                              ...\n",
       "X10-O                             21\n",
       "YB2220199                         22\n",
       "´1771384                          18\n",
       "´2235088                          21\n",
       "´2238129                          21\n",
       "\n",
       "[16095 rows x 1 columns]"
      ]
     },
     "execution_count": 148,
     "metadata": {},
     "output_type": "execute_result"
    }
   ],
   "source": [
    "#IDENTIFICACIÓN\n",
    "dfResLab[[\"IDENTIFICACION\",\"CODIGO DE LA MUESTRA\"]].groupby(\"IDENTIFICACION\").count()"
   ]
  },
  {
   "cell_type": "code",
   "execution_count": 149,
   "metadata": {
    "colab": {
     "base_uri": "https://localhost:8080/"
    },
    "executionInfo": {
     "elapsed": 7,
     "status": "ok",
     "timestamp": 1654267996905,
     "user": {
      "displayName": "Angela Olarte",
      "userId": "04022086783241571381"
     },
     "user_tz": 300
    },
    "id": "YY50IpLrsjlv",
    "outputId": "ac616eca-0881-4281-cb9e-ee476c2e3751"
   },
   "outputs": [
    {
     "data": {
      "text/html": [
       "<div>\n",
       "<style scoped>\n",
       "    .dataframe tbody tr th:only-of-type {\n",
       "        vertical-align: middle;\n",
       "    }\n",
       "\n",
       "    .dataframe tbody tr th {\n",
       "        vertical-align: top;\n",
       "    }\n",
       "\n",
       "    .dataframe thead th {\n",
       "        text-align: right;\n",
       "    }\n",
       "</style>\n",
       "<table border=\"1\" class=\"dataframe\">\n",
       "  <thead>\n",
       "    <tr style=\"text-align: right;\">\n",
       "      <th></th>\n",
       "      <th>IDENTIFICACION</th>\n",
       "      <th>%</th>\n",
       "    </tr>\n",
       "    <tr>\n",
       "      <th>GENERO</th>\n",
       "      <th></th>\n",
       "      <th></th>\n",
       "    </tr>\n",
       "  </thead>\n",
       "  <tbody>\n",
       "    <tr>\n",
       "      <th>Femenino</th>\n",
       "      <td>235563</td>\n",
       "      <td>43.108430</td>\n",
       "    </tr>\n",
       "    <tr>\n",
       "      <th>Masculino</th>\n",
       "      <td>299606</td>\n",
       "      <td>54.828408</td>\n",
       "    </tr>\n",
       "    <tr>\n",
       "      <th>SIN ESPECIFICAR</th>\n",
       "      <td>11274</td>\n",
       "      <td>2.063161</td>\n",
       "    </tr>\n",
       "  </tbody>\n",
       "</table>\n",
       "</div>"
      ],
      "text/plain": [
       "                 IDENTIFICACION          %\n",
       "GENERO                                    \n",
       "Femenino                 235563  43.108430\n",
       "Masculino                299606  54.828408\n",
       "SIN ESPECIFICAR           11274   2.063161"
      ]
     },
     "execution_count": 149,
     "metadata": {},
     "output_type": "execute_result"
    }
   ],
   "source": [
    "#GÉNERO\n",
    "GENERO=dfResLab[[\"GENERO\",\"IDENTIFICACION\"]].groupby(\"GENERO\").count()\n",
    "GENERO['%']=GENERO['IDENTIFICACION']/n*100 \n",
    "GENERO"
   ]
  },
  {
   "cell_type": "code",
   "execution_count": 150,
   "metadata": {
    "colab": {
     "base_uri": "https://localhost:8080/"
    },
    "executionInfo": {
     "elapsed": 24,
     "status": "ok",
     "timestamp": 1654267997123,
     "user": {
      "displayName": "Angela Olarte",
      "userId": "04022086783241571381"
     },
     "user_tz": 300
    },
    "id": "cwwHrhATsjjU",
    "outputId": "1854598f-e3d5-441b-b0a0-cbd4473da69c"
   },
   "outputs": [
    {
     "data": {
      "text/plain": [
       "4.084049022496399"
      ]
     },
     "execution_count": 150,
     "metadata": {},
     "output_type": "execute_result"
    }
   ],
   "source": [
    "#FECHA DE NACIMIENTO\n",
    "dfResLab[dfResLab[\"FECHA DE NACIMIENTO\"]== \"SIN DATO\"].shape[0]/n*100 "
   ]
  },
  {
   "cell_type": "code",
   "execution_count": 151,
   "metadata": {
    "colab": {
     "base_uri": "https://localhost:8080/"
    },
    "executionInfo": {
     "elapsed": 22,
     "status": "ok",
     "timestamp": 1654267997124,
     "user": {
      "displayName": "Angela Olarte",
      "userId": "04022086783241571381"
     },
     "user_tz": 300
    },
    "id": "SnrlyZZ6sjg5",
    "outputId": "37e609a2-b4cc-4c52-ad36-0b7fc2bce9ea"
   },
   "outputs": [
    {
     "data": {
      "text/html": [
       "<div>\n",
       "<style scoped>\n",
       "    .dataframe tbody tr th:only-of-type {\n",
       "        vertical-align: middle;\n",
       "    }\n",
       "\n",
       "    .dataframe tbody tr th {\n",
       "        vertical-align: top;\n",
       "    }\n",
       "\n",
       "    .dataframe thead th {\n",
       "        text-align: right;\n",
       "    }\n",
       "</style>\n",
       "<table border=\"1\" class=\"dataframe\">\n",
       "  <thead>\n",
       "    <tr style=\"text-align: right;\">\n",
       "      <th></th>\n",
       "      <th>IDENTIFICACION</th>\n",
       "      <th>%</th>\n",
       "    </tr>\n",
       "    <tr>\n",
       "      <th>TIPO DE MUESTRA</th>\n",
       "      <th></th>\n",
       "      <th></th>\n",
       "    </tr>\n",
       "  </thead>\n",
       "  <tbody>\n",
       "    <tr>\n",
       "      <th>Sangre</th>\n",
       "      <td>140466</td>\n",
       "      <td>25.705517</td>\n",
       "    </tr>\n",
       "    <tr>\n",
       "      <th>Orina</th>\n",
       "      <td>119919</td>\n",
       "      <td>21.945381</td>\n",
       "    </tr>\n",
       "    <tr>\n",
       "      <th>SEC. PIEL Y TEJIDOS BLANDOS</th>\n",
       "      <td>61304</td>\n",
       "      <td>11.218736</td>\n",
       "    </tr>\n",
       "    <tr>\n",
       "      <th>HEMOCULTIVO PUNCION PERIFERICA</th>\n",
       "      <td>36561</td>\n",
       "      <td>6.690725</td>\n",
       "    </tr>\n",
       "    <tr>\n",
       "      <th>SEGMENTO DE TEJIDO</th>\n",
       "      <td>18822</td>\n",
       "      <td>3.444458</td>\n",
       "    </tr>\n",
       "    <tr>\n",
       "      <th>...</th>\n",
       "      <td>...</td>\n",
       "      <td>...</td>\n",
       "    </tr>\n",
       "    <tr>\n",
       "      <th>CAVIDAD ORAL</th>\n",
       "      <td>21</td>\n",
       "      <td>0.003843</td>\n",
       "    </tr>\n",
       "    <tr>\n",
       "      <th>APENDICE</th>\n",
       "      <td>20</td>\n",
       "      <td>0.003660</td>\n",
       "    </tr>\n",
       "    <tr>\n",
       "      <th>SECRECION INSERCION CATETER</th>\n",
       "      <td>19</td>\n",
       "      <td>0.003477</td>\n",
       "    </tr>\n",
       "    <tr>\n",
       "      <th>LINFA</th>\n",
       "      <td>7</td>\n",
       "      <td>0.001281</td>\n",
       "    </tr>\n",
       "    <tr>\n",
       "      <th>SECRECION PROSTATICA</th>\n",
       "      <td>1</td>\n",
       "      <td>0.000183</td>\n",
       "    </tr>\n",
       "  </tbody>\n",
       "</table>\n",
       "<p>71 rows × 2 columns</p>\n",
       "</div>"
      ],
      "text/plain": [
       "                                IDENTIFICACION          %\n",
       "TIPO DE MUESTRA                                          \n",
       "Sangre                                  140466  25.705517\n",
       "Orina                                   119919  21.945381\n",
       "SEC. PIEL Y TEJIDOS BLANDOS              61304  11.218736\n",
       "HEMOCULTIVO PUNCION PERIFERICA           36561   6.690725\n",
       "SEGMENTO DE TEJIDO                       18822   3.444458\n",
       "...                                        ...        ...\n",
       "CAVIDAD ORAL                                21   0.003843\n",
       "APENDICE                                    20   0.003660\n",
       "SECRECION INSERCION CATETER                 19   0.003477\n",
       "LINFA                                        7   0.001281\n",
       "SECRECION PROSTATICA                         1   0.000183\n",
       "\n",
       "[71 rows x 2 columns]"
      ]
     },
     "execution_count": 151,
     "metadata": {},
     "output_type": "execute_result"
    }
   ],
   "source": [
    "# TIPO DE MUESTRA\n",
    "TIPO_DE_MUESTRA=dfResLab[[\"TIPO DE MUESTRA\",\"IDENTIFICACION\"]].groupby(\"TIPO DE MUESTRA\").count()\n",
    "TIPO_DE_MUESTRA['%']=TIPO_DE_MUESTRA['IDENTIFICACION']/n*100 \n",
    "TIPO_DE_MUESTRA.sort_values('%',ascending=False)"
   ]
  },
  {
   "cell_type": "code",
   "execution_count": 152,
   "metadata": {
    "colab": {
     "base_uri": "https://localhost:8080/"
    },
    "executionInfo": {
     "elapsed": 21,
     "status": "ok",
     "timestamp": 1654267997125,
     "user": {
      "displayName": "Angela Olarte",
      "userId": "04022086783241571381"
     },
     "user_tz": 300
    },
    "id": "INQYDXfps06J",
    "outputId": "df59f7c2-5af3-48b7-bc46-1812352be060"
   },
   "outputs": [
    {
     "data": {
      "text/plain": [
       "0.18702774122827084"
      ]
     },
     "execution_count": 152,
     "metadata": {},
     "output_type": "execute_result"
    }
   ],
   "source": [
    "dfResLab[dfResLab[\"TIPO DE MUESTRA\"]== \"SIN ESPECIFICAR\"].shape[0]/n*100 "
   ]
  },
  {
   "cell_type": "code",
   "execution_count": 153,
   "metadata": {
    "colab": {
     "base_uri": "https://localhost:8080/"
    },
    "executionInfo": {
     "elapsed": 205,
     "status": "ok",
     "timestamp": 1654267997318,
     "user": {
      "displayName": "Angela Olarte",
      "userId": "04022086783241571381"
     },
     "user_tz": 300
    },
    "id": "mID908nks13k",
    "outputId": "29b1db33-7370-417b-89ed-bd38f3c7cf49"
   },
   "outputs": [
    {
     "data": {
      "text/html": [
       "<div>\n",
       "<style scoped>\n",
       "    .dataframe tbody tr th:only-of-type {\n",
       "        vertical-align: middle;\n",
       "    }\n",
       "\n",
       "    .dataframe tbody tr th {\n",
       "        vertical-align: top;\n",
       "    }\n",
       "\n",
       "    .dataframe thead th {\n",
       "        text-align: right;\n",
       "    }\n",
       "</style>\n",
       "<table border=\"1\" class=\"dataframe\">\n",
       "  <thead>\n",
       "    <tr style=\"text-align: right;\">\n",
       "      <th></th>\n",
       "      <th>IDENTIFICACION</th>\n",
       "      <th>%</th>\n",
       "    </tr>\n",
       "    <tr>\n",
       "      <th>SALA</th>\n",
       "      <th></th>\n",
       "      <th></th>\n",
       "    </tr>\n",
       "  </thead>\n",
       "  <tbody>\n",
       "    <tr>\n",
       "      <th>medicina urgencias</th>\n",
       "      <td>50095</td>\n",
       "      <td>9.167470</td>\n",
       "    </tr>\n",
       "    <tr>\n",
       "      <th>filtro urgencias</th>\n",
       "      <td>35645</td>\n",
       "      <td>6.523096</td>\n",
       "    </tr>\n",
       "    <tr>\n",
       "      <th>pediatria urgencias</th>\n",
       "      <td>35159</td>\n",
       "      <td>6.434157</td>\n",
       "    </tr>\n",
       "    <tr>\n",
       "      <th>ortopedia</th>\n",
       "      <td>27464</td>\n",
       "      <td>5.025959</td>\n",
       "    </tr>\n",
       "    <tr>\n",
       "      <th>uci urgencias</th>\n",
       "      <td>22509</td>\n",
       "      <td>4.119185</td>\n",
       "    </tr>\n",
       "    <tr>\n",
       "      <th>...</th>\n",
       "      <td>...</td>\n",
       "      <td>...</td>\n",
       "    </tr>\n",
       "    <tr>\n",
       "      <th>hospital san jose</th>\n",
       "      <td>18</td>\n",
       "      <td>0.003294</td>\n",
       "    </tr>\n",
       "    <tr>\n",
       "      <th>clinica del dolor</th>\n",
       "      <td>18</td>\n",
       "      <td>0.003294</td>\n",
       "    </tr>\n",
       "    <tr>\n",
       "      <th>pensionado hemato onco ped</th>\n",
       "      <td>18</td>\n",
       "      <td>0.003294</td>\n",
       "    </tr>\n",
       "    <tr>\n",
       "      <th>3 piso hospi sede norte</th>\n",
       "      <td>18</td>\n",
       "      <td>0.003294</td>\n",
       "    </tr>\n",
       "    <tr>\n",
       "      <th>4 piso ala norte</th>\n",
       "      <td>1</td>\n",
       "      <td>0.000183</td>\n",
       "    </tr>\n",
       "  </tbody>\n",
       "</table>\n",
       "<p>112 rows × 2 columns</p>\n",
       "</div>"
      ],
      "text/plain": [
       "                            IDENTIFICACION         %\n",
       "SALA                                                \n",
       "medicina urgencias                   50095  9.167470\n",
       "filtro urgencias                     35645  6.523096\n",
       "pediatria urgencias                  35159  6.434157\n",
       "ortopedia                            27464  5.025959\n",
       "uci urgencias                        22509  4.119185\n",
       "...                                    ...       ...\n",
       "hospital san jose                       18  0.003294\n",
       "clinica del dolor                       18  0.003294\n",
       "pensionado hemato onco ped              18  0.003294\n",
       "3 piso hospi sede norte                 18  0.003294\n",
       "4 piso ala norte                         1  0.000183\n",
       "\n",
       "[112 rows x 2 columns]"
      ]
     },
     "execution_count": 153,
     "metadata": {},
     "output_type": "execute_result"
    }
   ],
   "source": [
    "# SALA\n",
    "SALA=dfResLab[[\"SALA\",\"IDENTIFICACION\"]].groupby(\"SALA\").count()\n",
    "SALA['%']=SALA['IDENTIFICACION']/n*100 \n",
    "SALA.sort_values('%',ascending=False)"
   ]
  },
  {
   "cell_type": "code",
   "execution_count": 154,
   "metadata": {
    "colab": {
     "base_uri": "https://localhost:8080/"
    },
    "executionInfo": {
     "elapsed": 25,
     "status": "ok",
     "timestamp": 1654267997319,
     "user": {
      "displayName": "Angela Olarte",
      "userId": "04022086783241571381"
     },
     "user_tz": 300
    },
    "id": "1kfZ6193s115",
    "outputId": "28a52650-b145-4c43-87ea-df5636b5f472"
   },
   "outputs": [
    {
     "data": {
      "text/plain": [
       "0.0"
      ]
     },
     "execution_count": 154,
     "metadata": {},
     "output_type": "execute_result"
    }
   ],
   "source": [
    "dfResLab[dfResLab[\"SALA\"]== \"SIN ESPECIFICAR\"].shape[0]/n*100 "
   ]
  },
  {
   "cell_type": "code",
   "execution_count": 155,
   "metadata": {
    "colab": {
     "base_uri": "https://localhost:8080/"
    },
    "executionInfo": {
     "elapsed": 195,
     "status": "ok",
     "timestamp": 1654267997504,
     "user": {
      "displayName": "Angela Olarte",
      "userId": "04022086783241571381"
     },
     "user_tz": 300
    },
    "id": "mVv5pDhRs1zB",
    "outputId": "2bd90d66-1118-4d64-eddd-5ebeb488974c"
   },
   "outputs": [
    {
     "data": {
      "text/html": [
       "<div>\n",
       "<style scoped>\n",
       "    .dataframe tbody tr th:only-of-type {\n",
       "        vertical-align: middle;\n",
       "    }\n",
       "\n",
       "    .dataframe tbody tr th {\n",
       "        vertical-align: top;\n",
       "    }\n",
       "\n",
       "    .dataframe thead th {\n",
       "        text-align: right;\n",
       "    }\n",
       "</style>\n",
       "<table border=\"1\" class=\"dataframe\">\n",
       "  <thead>\n",
       "    <tr style=\"text-align: right;\">\n",
       "      <th></th>\n",
       "      <th>IDENTIFICACION</th>\n",
       "      <th>%</th>\n",
       "    </tr>\n",
       "    <tr>\n",
       "      <th>MICROORGANISMO</th>\n",
       "      <th></th>\n",
       "      <th></th>\n",
       "    </tr>\n",
       "  </thead>\n",
       "  <tbody>\n",
       "    <tr>\n",
       "      <th>Escherichia coli</th>\n",
       "      <td>110034</td>\n",
       "      <td>20.136409</td>\n",
       "    </tr>\n",
       "    <tr>\n",
       "      <th>Staphylococcus aureus</th>\n",
       "      <td>69532</td>\n",
       "      <td>12.724474</td>\n",
       "    </tr>\n",
       "    <tr>\n",
       "      <th>Klebsiella pneumoniae</th>\n",
       "      <td>66340</td>\n",
       "      <td>12.140333</td>\n",
       "    </tr>\n",
       "    <tr>\n",
       "      <th>Pseudomonas aeruginosa</th>\n",
       "      <td>50065</td>\n",
       "      <td>9.161980</td>\n",
       "    </tr>\n",
       "    <tr>\n",
       "      <th>Staphylococcus epidermidis</th>\n",
       "      <td>38472</td>\n",
       "      <td>7.040442</td>\n",
       "    </tr>\n",
       "    <tr>\n",
       "      <th>...</th>\n",
       "      <td>...</td>\n",
       "      <td>...</td>\n",
       "    </tr>\n",
       "    <tr>\n",
       "      <th>Lactococcus raffinolactis</th>\n",
       "      <td>1</td>\n",
       "      <td>0.000183</td>\n",
       "    </tr>\n",
       "    <tr>\n",
       "      <th>Candida ciferrii</th>\n",
       "      <td>1</td>\n",
       "      <td>0.000183</td>\n",
       "    </tr>\n",
       "    <tr>\n",
       "      <th>Pediococcus acidilactici</th>\n",
       "      <td>1</td>\n",
       "      <td>0.000183</td>\n",
       "    </tr>\n",
       "    <tr>\n",
       "      <th>CDC grupo Vb-3</th>\n",
       "      <td>1</td>\n",
       "      <td>0.000183</td>\n",
       "    </tr>\n",
       "    <tr>\n",
       "      <th>Scedosporium apiospermum</th>\n",
       "      <td>1</td>\n",
       "      <td>0.000183</td>\n",
       "    </tr>\n",
       "  </tbody>\n",
       "</table>\n",
       "<p>314 rows × 2 columns</p>\n",
       "</div>"
      ],
      "text/plain": [
       "                            IDENTIFICACION          %\n",
       "MICROORGANISMO                                       \n",
       "Escherichia coli                    110034  20.136409\n",
       "Staphylococcus aureus                69532  12.724474\n",
       "Klebsiella pneumoniae                66340  12.140333\n",
       "Pseudomonas aeruginosa               50065   9.161980\n",
       "Staphylococcus epidermidis           38472   7.040442\n",
       "...                                    ...        ...\n",
       "Lactococcus raffinolactis                1   0.000183\n",
       "Candida ciferrii                         1   0.000183\n",
       "Pediococcus acidilactici                 1   0.000183\n",
       "CDC grupo Vb-3                           1   0.000183\n",
       "Scedosporium apiospermum                 1   0.000183\n",
       "\n",
       "[314 rows x 2 columns]"
      ]
     },
     "execution_count": 155,
     "metadata": {},
     "output_type": "execute_result"
    }
   ],
   "source": [
    "# MICROORGANISMO\n",
    "MICROORGANISMO=dfResLab[[\"MICROORGANISMO\",\"IDENTIFICACION\"]].groupby(\"MICROORGANISMO\").count()\n",
    "MICROORGANISMO['%']=MICROORGANISMO['IDENTIFICACION']/n*100 \n",
    "MICROORGANISMO.sort_values('%',ascending=False)"
   ]
  },
  {
   "cell_type": "code",
   "execution_count": 156,
   "metadata": {
    "colab": {
     "base_uri": "https://localhost:8080/"
    },
    "executionInfo": {
     "elapsed": 10,
     "status": "ok",
     "timestamp": 1654267997505,
     "user": {
      "displayName": "Angela Olarte",
      "userId": "04022086783241571381"
     },
     "user_tz": 300
    },
    "id": "caYfB3G4s1wf",
    "outputId": "0bad0004-2029-4098-fa33-1de83b90a26e"
   },
   "outputs": [
    {
     "data": {
      "text/html": [
       "<div>\n",
       "<style scoped>\n",
       "    .dataframe tbody tr th:only-of-type {\n",
       "        vertical-align: middle;\n",
       "    }\n",
       "\n",
       "    .dataframe tbody tr th {\n",
       "        vertical-align: top;\n",
       "    }\n",
       "\n",
       "    .dataframe thead th {\n",
       "        text-align: right;\n",
       "    }\n",
       "</style>\n",
       "<table border=\"1\" class=\"dataframe\">\n",
       "  <thead>\n",
       "    <tr style=\"text-align: right;\">\n",
       "      <th></th>\n",
       "      <th>IDENTIFICACION</th>\n",
       "      <th>%</th>\n",
       "    </tr>\n",
       "    <tr>\n",
       "      <th>ANTIBIOTICO</th>\n",
       "      <th></th>\n",
       "      <th></th>\n",
       "    </tr>\n",
       "  </thead>\n",
       "  <tbody>\n",
       "    <tr>\n",
       "      <th>Trimetoprim-Sulfametoxazol</th>\n",
       "      <td>27530</td>\n",
       "      <td>5.038037</td>\n",
       "    </tr>\n",
       "    <tr>\n",
       "      <th>Gentamicina</th>\n",
       "      <td>27216</td>\n",
       "      <td>4.980574</td>\n",
       "    </tr>\n",
       "    <tr>\n",
       "      <th>Ampicilina</th>\n",
       "      <td>26011</td>\n",
       "      <td>4.760057</td>\n",
       "    </tr>\n",
       "    <tr>\n",
       "      <th>Ciprofloxacino</th>\n",
       "      <td>23706</td>\n",
       "      <td>4.338238</td>\n",
       "    </tr>\n",
       "    <tr>\n",
       "      <th>Cefoxitina</th>\n",
       "      <td>23620</td>\n",
       "      <td>4.322500</td>\n",
       "    </tr>\n",
       "    <tr>\n",
       "      <th>...</th>\n",
       "      <td>...</td>\n",
       "      <td>...</td>\n",
       "    </tr>\n",
       "    <tr>\n",
       "      <th>Flucitosina</th>\n",
       "      <td>7</td>\n",
       "      <td>0.001281</td>\n",
       "    </tr>\n",
       "    <tr>\n",
       "      <th>Voriconazol</th>\n",
       "      <td>7</td>\n",
       "      <td>0.001281</td>\n",
       "    </tr>\n",
       "    <tr>\n",
       "      <th>Doripenem</th>\n",
       "      <td>3</td>\n",
       "      <td>0.000549</td>\n",
       "    </tr>\n",
       "    <tr>\n",
       "      <th>Pristinamicina</th>\n",
       "      <td>2</td>\n",
       "      <td>0.000366</td>\n",
       "    </tr>\n",
       "    <tr>\n",
       "      <th>Polimixina B</th>\n",
       "      <td>1</td>\n",
       "      <td>0.000183</td>\n",
       "    </tr>\n",
       "  </tbody>\n",
       "</table>\n",
       "<p>66 rows × 2 columns</p>\n",
       "</div>"
      ],
      "text/plain": [
       "                            IDENTIFICACION         %\n",
       "ANTIBIOTICO                                         \n",
       "Trimetoprim-Sulfametoxazol           27530  5.038037\n",
       "Gentamicina                          27216  4.980574\n",
       "Ampicilina                           26011  4.760057\n",
       "Ciprofloxacino                       23706  4.338238\n",
       "Cefoxitina                           23620  4.322500\n",
       "...                                    ...       ...\n",
       "Flucitosina                              7  0.001281\n",
       "Voriconazol                              7  0.001281\n",
       "Doripenem                                3  0.000549\n",
       "Pristinamicina                           2  0.000366\n",
       "Polimixina B                             1  0.000183\n",
       "\n",
       "[66 rows x 2 columns]"
      ]
     },
     "execution_count": 156,
     "metadata": {},
     "output_type": "execute_result"
    }
   ],
   "source": [
    "# ANTIBIOTICO\n",
    "ANTIBIOTICO=dfResLab[[\"ANTIBIOTICO\",\"IDENTIFICACION\"]].groupby(\"ANTIBIOTICO\").count()\n",
    "ANTIBIOTICO['%']=ANTIBIOTICO['IDENTIFICACION']/n*100 \n",
    "ANTIBIOTICO.sort_values('%',ascending=False)"
   ]
  },
  {
   "cell_type": "code",
   "execution_count": 157,
   "metadata": {
    "colab": {
     "base_uri": "https://localhost:8080/"
    },
    "executionInfo": {
     "elapsed": 217,
     "status": "ok",
     "timestamp": 1654267997714,
     "user": {
      "displayName": "Angela Olarte",
      "userId": "04022086783241571381"
     },
     "user_tz": 300
    },
    "id": "oHhtYLMVs1tp",
    "outputId": "7e46508b-cb4a-49a9-8d2a-dff307312c3c"
   },
   "outputs": [
    {
     "data": {
      "text/html": [
       "<div>\n",
       "<style scoped>\n",
       "    .dataframe tbody tr th:only-of-type {\n",
       "        vertical-align: middle;\n",
       "    }\n",
       "\n",
       "    .dataframe tbody tr th {\n",
       "        vertical-align: top;\n",
       "    }\n",
       "\n",
       "    .dataframe thead th {\n",
       "        text-align: right;\n",
       "    }\n",
       "</style>\n",
       "<table border=\"1\" class=\"dataframe\">\n",
       "  <thead>\n",
       "    <tr style=\"text-align: right;\">\n",
       "      <th></th>\n",
       "      <th>IDENTIFICACION</th>\n",
       "      <th>%</th>\n",
       "    </tr>\n",
       "    <tr>\n",
       "      <th>SENSIBLE / RESISTENTE / INTERMEDIO</th>\n",
       "      <th></th>\n",
       "      <th></th>\n",
       "    </tr>\n",
       "  </thead>\n",
       "  <tbody>\n",
       "    <tr>\n",
       "      <th>I</th>\n",
       "      <td>16155</td>\n",
       "      <td>2.956393</td>\n",
       "    </tr>\n",
       "    <tr>\n",
       "      <th>N</th>\n",
       "      <td>296</td>\n",
       "      <td>0.054169</td>\n",
       "    </tr>\n",
       "    <tr>\n",
       "      <th>R</th>\n",
       "      <td>108572</td>\n",
       "      <td>19.868861</td>\n",
       "    </tr>\n",
       "    <tr>\n",
       "      <th>S</th>\n",
       "      <td>319101</td>\n",
       "      <td>58.396027</td>\n",
       "    </tr>\n",
       "    <tr>\n",
       "      <th>SIN ESPECIFICAR</th>\n",
       "      <td>96394</td>\n",
       "      <td>17.640266</td>\n",
       "    </tr>\n",
       "    <tr>\n",
       "      <th>X</th>\n",
       "      <td>5925</td>\n",
       "      <td>1.084285</td>\n",
       "    </tr>\n",
       "  </tbody>\n",
       "</table>\n",
       "</div>"
      ],
      "text/plain": [
       "                                    IDENTIFICACION          %\n",
       "SENSIBLE / RESISTENTE / INTERMEDIO                           \n",
       "I                                            16155   2.956393\n",
       "N                                              296   0.054169\n",
       "R                                           108572  19.868861\n",
       "S                                           319101  58.396027\n",
       "SIN ESPECIFICAR                              96394  17.640266\n",
       "X                                             5925   1.084285"
      ]
     },
     "execution_count": 157,
     "metadata": {},
     "output_type": "execute_result"
    }
   ],
   "source": [
    "# SENSIBLE / RESISTENTE / INTERMEDIO\n",
    "S_R_I=dfResLab[[\"SENSIBLE / RESISTENTE / INTERMEDIO\",\"IDENTIFICACION\"]].groupby(\"SENSIBLE / RESISTENTE / INTERMEDIO\").count()\n",
    "S_R_I['%']=S_R_I['IDENTIFICACION']/n*100 \n",
    "S_R_I"
   ]
  },
  {
   "cell_type": "code",
   "execution_count": 158,
   "metadata": {
    "colab": {
     "base_uri": "https://localhost:8080/"
    },
    "executionInfo": {
     "elapsed": 436,
     "status": "ok",
     "timestamp": 1654267998143,
     "user": {
      "displayName": "Angela Olarte",
      "userId": "04022086783241571381"
     },
     "user_tz": 300
    },
    "id": "P90inIXwtVDB",
    "outputId": "98a06a59-06a5-4eab-e7ac-5da57df176ba"
   },
   "outputs": [
    {
     "data": {
      "text/html": [
       "<div>\n",
       "<style scoped>\n",
       "    .dataframe tbody tr th:only-of-type {\n",
       "        vertical-align: middle;\n",
       "    }\n",
       "\n",
       "    .dataframe tbody tr th {\n",
       "        vertical-align: top;\n",
       "    }\n",
       "\n",
       "    .dataframe thead th {\n",
       "        text-align: right;\n",
       "    }\n",
       "</style>\n",
       "<table border=\"1\" class=\"dataframe\">\n",
       "  <thead>\n",
       "    <tr style=\"text-align: right;\">\n",
       "      <th></th>\n",
       "      <th>IDENTIFICACION</th>\n",
       "      <th>%</th>\n",
       "    </tr>\n",
       "    <tr>\n",
       "      <th>HOSPILTAL</th>\n",
       "      <th></th>\n",
       "      <th></th>\n",
       "    </tr>\n",
       "  </thead>\n",
       "  <tbody>\n",
       "    <tr>\n",
       "      <th>HOSPITAL UNIVERSITARIO DEL VALLE</th>\n",
       "      <td>295157</td>\n",
       "      <td>54.014234</td>\n",
       "    </tr>\n",
       "    <tr>\n",
       "      <th>EMSSANAR E.S.S</th>\n",
       "      <td>74327</td>\n",
       "      <td>13.601968</td>\n",
       "    </tr>\n",
       "    <tr>\n",
       "      <th>SIN ESPECIFICAR</th>\n",
       "      <td>62158</td>\n",
       "      <td>11.375020</td>\n",
       "    </tr>\n",
       "    <tr>\n",
       "      <th>DEPARTAMENTO DEL VAL</th>\n",
       "      <td>21753</td>\n",
       "      <td>3.980836</td>\n",
       "    </tr>\n",
       "    <tr>\n",
       "      <th>ASMET SALUD</th>\n",
       "      <td>16123</td>\n",
       "      <td>2.950536</td>\n",
       "    </tr>\n",
       "    <tr>\n",
       "      <th>...</th>\n",
       "      <td>...</td>\n",
       "      <td>...</td>\n",
       "    </tr>\n",
       "    <tr>\n",
       "      <th>ALIANSALUD E.P.S.</th>\n",
       "      <td>19</td>\n",
       "      <td>0.003477</td>\n",
       "    </tr>\n",
       "    <tr>\n",
       "      <th>COOMEVA EPS</th>\n",
       "      <td>2</td>\n",
       "      <td>0.000366</td>\n",
       "    </tr>\n",
       "    <tr>\n",
       "      <th>E.P.S FAMISANAR LTDA</th>\n",
       "      <td>1</td>\n",
       "      <td>0.000183</td>\n",
       "    </tr>\n",
       "    <tr>\n",
       "      <th>ALIANZA MEDELLIN ANT</th>\n",
       "      <td>1</td>\n",
       "      <td>0.000183</td>\n",
       "    </tr>\n",
       "    <tr>\n",
       "      <th>COMFACUNDI</th>\n",
       "      <td>1</td>\n",
       "      <td>0.000183</td>\n",
       "    </tr>\n",
       "  </tbody>\n",
       "</table>\n",
       "<p>82 rows × 2 columns</p>\n",
       "</div>"
      ],
      "text/plain": [
       "                                  IDENTIFICACION          %\n",
       "HOSPILTAL                                                  \n",
       "HOSPITAL UNIVERSITARIO DEL VALLE          295157  54.014234\n",
       "EMSSANAR E.S.S                             74327  13.601968\n",
       "SIN ESPECIFICAR                            62158  11.375020\n",
       "DEPARTAMENTO DEL VAL                       21753   3.980836\n",
       "ASMET SALUD                                16123   2.950536\n",
       "...                                          ...        ...\n",
       "ALIANSALUD E.P.S.                             19   0.003477\n",
       "COOMEVA EPS                                    2   0.000366\n",
       "E.P.S FAMISANAR LTDA                           1   0.000183\n",
       "ALIANZA MEDELLIN ANT                           1   0.000183\n",
       "COMFACUNDI                                     1   0.000183\n",
       "\n",
       "[82 rows x 2 columns]"
      ]
     },
     "execution_count": 158,
     "metadata": {},
     "output_type": "execute_result"
    }
   ],
   "source": [
    "# HOSPITAL\n",
    "HOSPILTAL=dfResLab[[\"HOSPILTAL\",\"IDENTIFICACION\"]].groupby(\"HOSPILTAL\").count()\n",
    "HOSPILTAL['%']=HOSPILTAL['IDENTIFICACION']/n*100 \n",
    "HOSPILTAL.sort_values('%',ascending=False)"
   ]
  },
  {
   "cell_type": "code",
   "execution_count": 159,
   "metadata": {
    "colab": {
     "base_uri": "https://localhost:8080/"
    },
    "executionInfo": {
     "elapsed": 295,
     "status": "ok",
     "timestamp": 1654267998432,
     "user": {
      "displayName": "Angela Olarte",
      "userId": "04022086783241571381"
     },
     "user_tz": 300
    },
    "id": "9WVmDYiUtVAy",
    "outputId": "cc2e2aed-2129-42e4-e35a-5f747e4fbae6"
   },
   "outputs": [
    {
     "data": {
      "text/html": [
       "<div>\n",
       "<style scoped>\n",
       "    .dataframe tbody tr th:only-of-type {\n",
       "        vertical-align: middle;\n",
       "    }\n",
       "\n",
       "    .dataframe tbody tr th {\n",
       "        vertical-align: top;\n",
       "    }\n",
       "\n",
       "    .dataframe thead th {\n",
       "        text-align: right;\n",
       "    }\n",
       "</style>\n",
       "<table border=\"1\" class=\"dataframe\">\n",
       "  <thead>\n",
       "    <tr style=\"text-align: right;\">\n",
       "      <th></th>\n",
       "      <th>IDENTIFICACION</th>\n",
       "      <th>%</th>\n",
       "    </tr>\n",
       "    <tr>\n",
       "      <th>NUMERO DE AISLAMIENTO</th>\n",
       "      <th></th>\n",
       "      <th></th>\n",
       "    </tr>\n",
       "  </thead>\n",
       "  <tbody>\n",
       "    <tr>\n",
       "      <th>1</th>\n",
       "      <td>537855</td>\n",
       "      <td>98.428381</td>\n",
       "    </tr>\n",
       "    <tr>\n",
       "      <th>2</th>\n",
       "      <td>7456</td>\n",
       "      <td>1.364461</td>\n",
       "    </tr>\n",
       "    <tr>\n",
       "      <th>3</th>\n",
       "      <td>854</td>\n",
       "      <td>0.156283</td>\n",
       "    </tr>\n",
       "    <tr>\n",
       "      <th>4</th>\n",
       "      <td>237</td>\n",
       "      <td>0.043371</td>\n",
       "    </tr>\n",
       "    <tr>\n",
       "      <th>5</th>\n",
       "      <td>41</td>\n",
       "      <td>0.007503</td>\n",
       "    </tr>\n",
       "  </tbody>\n",
       "</table>\n",
       "</div>"
      ],
      "text/plain": [
       "                       IDENTIFICACION          %\n",
       "NUMERO DE AISLAMIENTO                           \n",
       "1                              537855  98.428381\n",
       "2                                7456   1.364461\n",
       "3                                 854   0.156283\n",
       "4                                 237   0.043371\n",
       "5                                  41   0.007503"
      ]
     },
     "execution_count": 159,
     "metadata": {},
     "output_type": "execute_result"
    }
   ],
   "source": [
    "# numero de aislamiento\n",
    "AISLAMIENTO=dfResLab[[\"NUMERO DE AISLAMIENTO\",\"IDENTIFICACION\"]].groupby(\"NUMERO DE AISLAMIENTO\").count()\n",
    "AISLAMIENTO['%']=AISLAMIENTO['IDENTIFICACION']/n*100 \n",
    "AISLAMIENTO.sort_values('%',ascending=False)"
   ]
  },
  {
   "cell_type": "code",
   "execution_count": 160,
   "metadata": {
    "colab": {
     "base_uri": "https://localhost:8080/"
    },
    "executionInfo": {
     "elapsed": 15,
     "status": "ok",
     "timestamp": 1654267998433,
     "user": {
      "displayName": "Angela Olarte",
      "userId": "04022086783241571381"
     },
     "user_tz": 300
    },
    "id": "OpVi1WaltU9X",
    "outputId": "b8ffdc3b-94e7-4400-8ec7-70a3398bbc07"
   },
   "outputs": [
    {
     "data": {
      "text/html": [
       "<div>\n",
       "<style scoped>\n",
       "    .dataframe tbody tr th:only-of-type {\n",
       "        vertical-align: middle;\n",
       "    }\n",
       "\n",
       "    .dataframe tbody tr th {\n",
       "        vertical-align: top;\n",
       "    }\n",
       "\n",
       "    .dataframe thead th {\n",
       "        text-align: right;\n",
       "    }\n",
       "</style>\n",
       "<table border=\"1\" class=\"dataframe\">\n",
       "  <thead>\n",
       "    <tr style=\"text-align: right;\">\n",
       "      <th></th>\n",
       "      <th>IDENTIFICACION</th>\n",
       "      <th>%</th>\n",
       "    </tr>\n",
       "    <tr>\n",
       "      <th>ESBL (+ es blee )</th>\n",
       "      <th></th>\n",
       "      <th></th>\n",
       "    </tr>\n",
       "  </thead>\n",
       "  <tbody>\n",
       "    <tr>\n",
       "      <th>+</th>\n",
       "      <td>57882</td>\n",
       "      <td>10.592505</td>\n",
       "    </tr>\n",
       "    <tr>\n",
       "      <th>SIN ESPECIFICAR</th>\n",
       "      <td>488561</td>\n",
       "      <td>89.407495</td>\n",
       "    </tr>\n",
       "  </tbody>\n",
       "</table>\n",
       "</div>"
      ],
      "text/plain": [
       "                   IDENTIFICACION          %\n",
       "ESBL (+ es blee )                           \n",
       "+                           57882  10.592505\n",
       "SIN ESPECIFICAR            488561  89.407495"
      ]
     },
     "execution_count": 160,
     "metadata": {},
     "output_type": "execute_result"
    }
   ],
   "source": [
    "# ESBL + es blee\n",
    "ESBL=dfResLab[[\"ESBL (+ es blee )\",\"IDENTIFICACION\"]].groupby(\"ESBL (+ es blee )\").count()\n",
    "ESBL['%']=ESBL['IDENTIFICACION']/n*100 \n",
    "ESBL"
   ]
  },
  {
   "cell_type": "code",
   "execution_count": 161,
   "metadata": {
    "colab": {
     "base_uri": "https://localhost:8080/"
    },
    "executionInfo": {
     "elapsed": 358,
     "status": "ok",
     "timestamp": 1654267998778,
     "user": {
      "displayName": "Angela Olarte",
      "userId": "04022086783241571381"
     },
     "user_tz": 300
    },
    "id": "7CIYazSatU6j",
    "outputId": "60000489-f09c-42d8-f333-3a8835f44052"
   },
   "outputs": [
    {
     "data": {
      "text/html": [
       "<div>\n",
       "<style scoped>\n",
       "    .dataframe tbody tr th:only-of-type {\n",
       "        vertical-align: middle;\n",
       "    }\n",
       "\n",
       "    .dataframe tbody tr th {\n",
       "        vertical-align: top;\n",
       "    }\n",
       "\n",
       "    .dataframe thead th {\n",
       "        text-align: right;\n",
       "    }\n",
       "</style>\n",
       "<table border=\"1\" class=\"dataframe\">\n",
       "  <thead>\n",
       "    <tr style=\"text-align: right;\">\n",
       "      <th></th>\n",
       "      <th>IDENTIFICACION</th>\n",
       "      <th>%</th>\n",
       "    </tr>\n",
       "    <tr>\n",
       "      <th>THM</th>\n",
       "      <th></th>\n",
       "      <th></th>\n",
       "    </tr>\n",
       "  </thead>\n",
       "  <tbody>\n",
       "    <tr>\n",
       "      <th>SIN ESPECIFICAR</th>\n",
       "      <td>543922</td>\n",
       "      <td>99.538653</td>\n",
       "    </tr>\n",
       "    <tr>\n",
       "      <th>n</th>\n",
       "      <td>868</td>\n",
       "      <td>0.158845</td>\n",
       "    </tr>\n",
       "    <tr>\n",
       "      <th>p</th>\n",
       "      <td>1653</td>\n",
       "      <td>0.302502</td>\n",
       "    </tr>\n",
       "  </tbody>\n",
       "</table>\n",
       "</div>"
      ],
      "text/plain": [
       "                 IDENTIFICACION          %\n",
       "THM                                       \n",
       "SIN ESPECIFICAR          543922  99.538653\n",
       "n                           868   0.158845\n",
       "p                          1653   0.302502"
      ]
     },
     "execution_count": 161,
     "metadata": {},
     "output_type": "execute_result"
    }
   ],
   "source": [
    "# THM\n",
    "THM=dfResLab[[\"THM\",\"IDENTIFICACION\"]].groupby(\"THM\").count()\n",
    "THM['%']=THM['IDENTIFICACION']/n*100 \n",
    "THM"
   ]
  },
  {
   "cell_type": "code",
   "execution_count": 162,
   "metadata": {
    "colab": {
     "base_uri": "https://localhost:8080/"
    },
    "executionInfo": {
     "elapsed": 16,
     "status": "ok",
     "timestamp": 1654267998779,
     "user": {
      "displayName": "Angela Olarte",
      "userId": "04022086783241571381"
     },
     "user_tz": 300
    },
    "id": "Lg3LUXodtU4T",
    "outputId": "bd45217f-af65-404e-aeec-eba949c868e2"
   },
   "outputs": [
    {
     "data": {
      "text/html": [
       "<div>\n",
       "<style scoped>\n",
       "    .dataframe tbody tr th:only-of-type {\n",
       "        vertical-align: middle;\n",
       "    }\n",
       "\n",
       "    .dataframe tbody tr th {\n",
       "        vertical-align: top;\n",
       "    }\n",
       "\n",
       "    .dataframe thead th {\n",
       "        text-align: right;\n",
       "    }\n",
       "</style>\n",
       "<table border=\"1\" class=\"dataframe\">\n",
       "  <thead>\n",
       "    <tr style=\"text-align: right;\">\n",
       "      <th></th>\n",
       "      <th>IDENTIFICACION</th>\n",
       "      <th>%</th>\n",
       "    </tr>\n",
       "    <tr>\n",
       "      <th>APB (boronico)</th>\n",
       "      <th></th>\n",
       "      <th></th>\n",
       "    </tr>\n",
       "  </thead>\n",
       "  <tbody>\n",
       "    <tr>\n",
       "      <th>SIN ESPECIFICAR</th>\n",
       "      <td>539576</td>\n",
       "      <td>98.743327</td>\n",
       "    </tr>\n",
       "    <tr>\n",
       "      <th>p</th>\n",
       "      <td>3722</td>\n",
       "      <td>0.681132</td>\n",
       "    </tr>\n",
       "    <tr>\n",
       "      <th>n</th>\n",
       "      <td>3145</td>\n",
       "      <td>0.575540</td>\n",
       "    </tr>\n",
       "  </tbody>\n",
       "</table>\n",
       "</div>"
      ],
      "text/plain": [
       "                 IDENTIFICACION          %\n",
       "APB (boronico)                            \n",
       "SIN ESPECIFICAR          539576  98.743327\n",
       "p                          3722   0.681132\n",
       "n                          3145   0.575540"
      ]
     },
     "execution_count": 162,
     "metadata": {},
     "output_type": "execute_result"
    }
   ],
   "source": [
    "# APB(BORONICO)\n",
    "APB=dfResLab[[\"APB (boronico)\",\"IDENTIFICACION\"]].groupby(\"APB (boronico)\").count()\n",
    "APB['%']=APB['IDENTIFICACION']/n*100 \n",
    "APB.sort_values('%',ascending=False)"
   ]
  },
  {
   "cell_type": "code",
   "execution_count": 163,
   "metadata": {
    "colab": {
     "base_uri": "https://localhost:8080/"
    },
    "executionInfo": {
     "elapsed": 13,
     "status": "ok",
     "timestamp": 1654267998779,
     "user": {
      "displayName": "Angela Olarte",
      "userId": "04022086783241571381"
     },
     "user_tz": 300
    },
    "id": "j7F1P9sAtU11",
    "outputId": "1edf0431-80ca-49d6-f645-91938f9126a9"
   },
   "outputs": [
    {
     "data": {
      "text/html": [
       "<div>\n",
       "<style scoped>\n",
       "    .dataframe tbody tr th:only-of-type {\n",
       "        vertical-align: middle;\n",
       "    }\n",
       "\n",
       "    .dataframe tbody tr th {\n",
       "        vertical-align: top;\n",
       "    }\n",
       "\n",
       "    .dataframe thead th {\n",
       "        text-align: right;\n",
       "    }\n",
       "</style>\n",
       "<table border=\"1\" class=\"dataframe\">\n",
       "  <thead>\n",
       "    <tr style=\"text-align: right;\">\n",
       "      <th></th>\n",
       "      <th>IDENTIFICACION</th>\n",
       "      <th>%</th>\n",
       "    </tr>\n",
       "    <tr>\n",
       "      <th>EDTA (si son positivas o negativas)</th>\n",
       "      <th></th>\n",
       "      <th></th>\n",
       "    </tr>\n",
       "  </thead>\n",
       "  <tbody>\n",
       "    <tr>\n",
       "      <th>SIN ESPECIFICAR</th>\n",
       "      <td>534290</td>\n",
       "      <td>97.77598</td>\n",
       "    </tr>\n",
       "    <tr>\n",
       "      <th>n</th>\n",
       "      <td>8262</td>\n",
       "      <td>1.51196</td>\n",
       "    </tr>\n",
       "    <tr>\n",
       "      <th>p</th>\n",
       "      <td>3891</td>\n",
       "      <td>0.71206</td>\n",
       "    </tr>\n",
       "  </tbody>\n",
       "</table>\n",
       "</div>"
      ],
      "text/plain": [
       "                                     IDENTIFICACION         %\n",
       "EDTA (si son positivas o negativas)                          \n",
       "SIN ESPECIFICAR                              534290  97.77598\n",
       "n                                              8262   1.51196\n",
       "p                                              3891   0.71206"
      ]
     },
     "execution_count": 163,
     "metadata": {},
     "output_type": "execute_result"
    }
   ],
   "source": [
    "#EDTA(si son positivas o negativas)\n",
    "EDTA=dfResLab[[\"EDTA (si son positivas o negativas)\",\"IDENTIFICACION\"]].groupby(\"EDTA (si son positivas o negativas)\").count()\n",
    "EDTA['%']=EDTA['IDENTIFICACION']/n*100 \n",
    "EDTA.sort_values('%',ascending=False)"
   ]
  },
  {
   "cell_type": "markdown",
   "metadata": {
    "id": "ckhg-S52uXpe"
   },
   "source": [
    "----"
   ]
  },
  {
   "cell_type": "markdown",
   "metadata": {
    "id": "e7RaTud5uYtZ"
   },
   "source": [
    "----"
   ]
  },
  {
   "cell_type": "markdown",
   "metadata": {
    "id": "tfpP7pVruTab"
   },
   "source": [
    "# **EXPERIMENTACIÓN DEL GRUPO**"
   ]
  },
  {
   "cell_type": "code",
   "execution_count": null,
   "metadata": {
    "id": "cWJfhzzktUz8"
   },
   "outputs": [],
   "source": []
  },
  {
   "cell_type": "code",
   "execution_count": null,
   "metadata": {
    "id": "9VUxq6aetUxD"
   },
   "outputs": [],
   "source": []
  },
  {
   "cell_type": "code",
   "execution_count": null,
   "metadata": {
    "id": "46FCMgsntUua"
   },
   "outputs": [],
   "source": []
  },
  {
   "cell_type": "code",
   "execution_count": null,
   "metadata": {
    "id": "kPe6GWvytUsP"
   },
   "outputs": [],
   "source": []
  }
 ],
 "metadata": {
  "colab": {
   "collapsed_sections": [],
   "name": "PROYECTOHOSPITAL.ipynb",
   "provenance": [],
   "toc_visible": true
  },
  "kernelspec": {
   "display_name": "Python 3 (ipykernel)",
   "language": "python",
   "name": "python3"
  },
  "language_info": {
   "codemirror_mode": {
    "name": "ipython",
    "version": 3
   },
   "file_extension": ".py",
   "mimetype": "text/x-python",
   "name": "python",
   "nbconvert_exporter": "python",
   "pygments_lexer": "ipython3",
   "version": "3.9.12"
  }
 },
 "nbformat": 4,
 "nbformat_minor": 4
}
